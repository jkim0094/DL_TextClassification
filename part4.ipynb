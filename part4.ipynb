{
 "cells": [
  {
   "cell_type": "markdown",
   "metadata": {
    "id": "qEHyseHxA8q4"
   },
   "source": [
    "# <font color=\"#0b486b\">  FIT5215: Deep Learning (2024) - Assignment 2 (Transformers)</font>\n",
    "***\n",
    "*CE/Lecturer (Clayton):*  **Dr Trung Le** | trunglm@monash.edu <br/>\n",
    "*Lecturer (Clayton):* **Prof Dinh Phung** | dinh.phung@monash.edu <br/>\n",
    "*Lecturer (Malaysia):*  **Dr Arghya Pal** | arghya.pal@monash.edu <br/>\n",
    "*Lecturer (Malaysia):*  **Dr Lim Chern Hong** | lim.chernhong@monash.edu <br/>  <br/>\n",
    "*Head Tutor 3181:*  **Miss Vy Vo** |  \\[v.vo@monash.edu \\] <br/>\n",
    "*Head Tutor 5215:*  **Dr Van Nguyen** |  \\[van.nguyen1@monash.edu \\]\n",
    "\n",
    "<br/> <br/>\n",
    "Faculty of Information Technology, Monash University, Australia\n",
    "***"
   ]
  },
  {
   "cell_type": "markdown",
   "metadata": {
    "id": "QqMi8gdDBD1L"
   },
   "source": [
    "# <font color=\"#0b486b\">  Student Information</font>\n",
    "***\n",
    "Surname: **[Kim]**  <br/>\n",
    "Firstname: **[Jee Eun]**    <br/>\n",
    "Student ID: **[34207147]**    <br/>\n",
    "Email: **[jkim0094@student.monash.edu]**    <br/>\n",
    "Your tutorial time: **[THU 16:00-18:00]**    <br/>\n",
    "***"
   ]
  },
  {
   "cell_type": "markdown",
   "metadata": {
    "id": "BLGpdQp2BPOU"
   },
   "source": [
    "# <font color=\"0b486b\">Assignment 2 – Deep Learning for Sequential Data</font>\n",
    "### Due: <font color=\"red\">11:55pm Sunday, 20 October 2024</font> (FIT5215)\n",
    "\n",
    "#### <font color=\"red\">Important note:</font> This is an **individual** assignment. It contributes **20%** to your final mark. Read the assignment instructions carefully."
   ]
  },
  {
   "cell_type": "markdown",
   "metadata": {
    "id": "PF8vqRzTCEsm"
   },
   "source": [
    "## <font color=\"#0b486b\">Assignment 2's Organization</font>\n",
    "This assignment 2 has two (2) sections:\n",
    "- Section 1: Fundamentals of RNNs (10 marks).\n",
    "- Section 2: Deep Learning for Sequential Data (90 marks). This section is further divided into 4 parts.\n",
    "\n",
    "The assignment 2 is organized in three (3) notebooks.\n",
    "- Notebook 1 ([link](https://colab.research.google.com/drive/1hTS6bWz6gU-lvi1qkIhrtQnJ3tzxRPFK?usp=sharing\n",
    ")) [Total: 30 marks] includes Section 1 as well as Part 1 and Part 2 of Section 2.\n",
    "- Notebook 2 ([link](https://colab.research.google.com/drive/1m0mh9Mk4-AKEhgAHRwQdl5mc0x7SF7Tv?usp=sharing)) [Total: 40 marks] includes Part 3 of Section 2.\n",
    "- Notebook 3 (this notebook) [Total: 30 marks] includes Part 4 of Section 2.\n"
   ]
  },
  {
   "cell_type": "markdown",
   "metadata": {
    "id": "UbY5tyqK37Iw"
   },
   "source": [
    "## <font color=\"#0b486b\">What to submit</font>\n",
    "\n",
    "This assignment is to be completed individually and submitted to Moodle unit site. **By the due date, you are required to submit one  <font color=\"red; font-weight:bold\">single zip file, named xxx_assignment02_solution.zip</font> where `xxx` is your student ID, to the corresponding Assignment (Dropbox) in Moodle**. You can use Google Colab to do Assignment 2 but you need to save it to an `*.ipynb` file to submit to the unit Moodle.\n",
    "\n",
    "**More importantly, if you use Google Colab to do this assignment, you need to first make a copy of this notebook on your Google drive**."
   ]
  },
  {
   "cell_type": "markdown",
   "metadata": {
    "id": "cg1MdTwq37I6"
   },
   "source": [
    "***For example, if your student ID is <font color=\"red; font-weight:bold\">12356</font>, then gather all of your assignment solutions to a folder, create a zip file named <font color=\"red; font-weight:bold\">123456_assignment02_solution.zip</font> and submit this file.***"
   ]
  },
  {
   "cell_type": "markdown",
   "metadata": {
    "id": "prEJdUhB37I6"
   },
   "source": [
    "Within this zip folder, you **must** submit the following files <u>for each part</u>:\n",
    "1.\t**`FIT5215_DeepLearning_Assignment2_Official[Main].ipynb`**:  this is your Python notebook solution source file.\n",
    "1.\t**`FIT5215_DeepLearning_Assignment2_Official[Main].html`**: this is the output of your Python notebook solution *exported* in HTML format.\n",
    "1. **`FIT5215_DeepLearning_Assignment2_Official[RNNs].ipynb`**\n",
    "1. **`FIT5215_DeepLearning_Assignment2_Official[RNNs].html`**\n",
    "1. **`FIT5215_DeepLearning_Assignment2_Official[Transformers].ipynb`**\n",
    "1. **`FIT5215_DeepLearning_Assignment2_Official[Transformers].html`**\n",
    "1.\tAny **extra files or folder** needed to complete your assignment (e.g., images used in your answers).\n",
    "\n"
   ]
  },
  {
   "cell_type": "markdown",
   "metadata": {
    "id": "rAVPM0BnTdd4"
   },
   "source": [
    "## Section 2: Deep Learning for Sequential Data"
   ]
  },
  {
   "cell_type": "markdown",
   "metadata": {
    "id": "FAgUSME4TsCP"
   },
   "source": [
    "### <font color=\"#0b486b\">Set random seeds</font>"
   ]
  },
  {
   "cell_type": "markdown",
   "metadata": {
    "id": "5DaYHAIv4poj"
   },
   "source": [
    "We need to install the package datasets for creating BERT datasets."
   ]
  },
  {
   "cell_type": "code",
   "execution_count": 1,
   "metadata": {
    "colab": {
     "base_uri": "https://localhost:8080/",
     "height": 0
    },
    "id": "o7ik_46Y4vDo",
    "outputId": "10c4a8df-b5bc-4fd0-b253-d57a9650be3f"
   },
   "outputs": [
    {
     "name": "stdout",
     "output_type": "stream",
     "text": [
      "Collecting datasets\n",
      "  Downloading datasets-3.0.1-py3-none-any.whl.metadata (20 kB)\n",
      "Requirement already satisfied: filelock in /usr/local/lib/python3.10/dist-packages (from datasets) (3.16.1)\n",
      "Requirement already satisfied: numpy>=1.17 in /usr/local/lib/python3.10/dist-packages (from datasets) (1.26.4)\n",
      "Requirement already satisfied: pyarrow>=15.0.0 in /usr/local/lib/python3.10/dist-packages (from datasets) (16.1.0)\n",
      "Collecting dill<0.3.9,>=0.3.0 (from datasets)\n",
      "  Downloading dill-0.3.8-py3-none-any.whl.metadata (10 kB)\n",
      "Requirement already satisfied: pandas in /usr/local/lib/python3.10/dist-packages (from datasets) (2.2.2)\n",
      "Requirement already satisfied: requests>=2.32.2 in /usr/local/lib/python3.10/dist-packages (from datasets) (2.32.3)\n",
      "Requirement already satisfied: tqdm>=4.66.3 in /usr/local/lib/python3.10/dist-packages (from datasets) (4.66.5)\n",
      "Collecting xxhash (from datasets)\n",
      "  Downloading xxhash-3.5.0-cp310-cp310-manylinux_2_17_x86_64.manylinux2014_x86_64.whl.metadata (12 kB)\n",
      "Collecting multiprocess (from datasets)\n",
      "  Downloading multiprocess-0.70.17-py310-none-any.whl.metadata (7.2 kB)\n",
      "Requirement already satisfied: fsspec<=2024.6.1,>=2023.1.0 in /usr/local/lib/python3.10/dist-packages (from fsspec[http]<=2024.6.1,>=2023.1.0->datasets) (2024.6.1)\n",
      "Requirement already satisfied: aiohttp in /usr/local/lib/python3.10/dist-packages (from datasets) (3.10.10)\n",
      "Requirement already satisfied: huggingface-hub>=0.22.0 in /usr/local/lib/python3.10/dist-packages (from datasets) (0.24.7)\n",
      "Requirement already satisfied: packaging in /usr/local/lib/python3.10/dist-packages (from datasets) (24.1)\n",
      "Requirement already satisfied: pyyaml>=5.1 in /usr/local/lib/python3.10/dist-packages (from datasets) (6.0.2)\n",
      "Requirement already satisfied: aiohappyeyeballs>=2.3.0 in /usr/local/lib/python3.10/dist-packages (from aiohttp->datasets) (2.4.3)\n",
      "Requirement already satisfied: aiosignal>=1.1.2 in /usr/local/lib/python3.10/dist-packages (from aiohttp->datasets) (1.3.1)\n",
      "Requirement already satisfied: attrs>=17.3.0 in /usr/local/lib/python3.10/dist-packages (from aiohttp->datasets) (24.2.0)\n",
      "Requirement already satisfied: frozenlist>=1.1.1 in /usr/local/lib/python3.10/dist-packages (from aiohttp->datasets) (1.4.1)\n",
      "Requirement already satisfied: multidict<7.0,>=4.5 in /usr/local/lib/python3.10/dist-packages (from aiohttp->datasets) (6.1.0)\n",
      "Requirement already satisfied: yarl<2.0,>=1.12.0 in /usr/local/lib/python3.10/dist-packages (from aiohttp->datasets) (1.15.2)\n",
      "Requirement already satisfied: async-timeout<5.0,>=4.0 in /usr/local/lib/python3.10/dist-packages (from aiohttp->datasets) (4.0.3)\n",
      "Requirement already satisfied: typing-extensions>=3.7.4.3 in /usr/local/lib/python3.10/dist-packages (from huggingface-hub>=0.22.0->datasets) (4.12.2)\n",
      "Requirement already satisfied: charset-normalizer<4,>=2 in /usr/local/lib/python3.10/dist-packages (from requests>=2.32.2->datasets) (3.4.0)\n",
      "Requirement already satisfied: idna<4,>=2.5 in /usr/local/lib/python3.10/dist-packages (from requests>=2.32.2->datasets) (3.10)\n",
      "Requirement already satisfied: urllib3<3,>=1.21.1 in /usr/local/lib/python3.10/dist-packages (from requests>=2.32.2->datasets) (2.2.3)\n",
      "Requirement already satisfied: certifi>=2017.4.17 in /usr/local/lib/python3.10/dist-packages (from requests>=2.32.2->datasets) (2024.8.30)\n",
      "INFO: pip is looking at multiple versions of multiprocess to determine which version is compatible with other requirements. This could take a while.\n",
      "  Downloading multiprocess-0.70.16-py310-none-any.whl.metadata (7.2 kB)\n",
      "Requirement already satisfied: python-dateutil>=2.8.2 in /usr/local/lib/python3.10/dist-packages (from pandas->datasets) (2.8.2)\n",
      "Requirement already satisfied: pytz>=2020.1 in /usr/local/lib/python3.10/dist-packages (from pandas->datasets) (2024.2)\n",
      "Requirement already satisfied: tzdata>=2022.7 in /usr/local/lib/python3.10/dist-packages (from pandas->datasets) (2024.2)\n",
      "Requirement already satisfied: six>=1.5 in /usr/local/lib/python3.10/dist-packages (from python-dateutil>=2.8.2->pandas->datasets) (1.16.0)\n",
      "Requirement already satisfied: propcache>=0.2.0 in /usr/local/lib/python3.10/dist-packages (from yarl<2.0,>=1.12.0->aiohttp->datasets) (0.2.0)\n",
      "Downloading datasets-3.0.1-py3-none-any.whl (471 kB)\n",
      "\u001b[2K   \u001b[90m━━━━━━━━━━━━━━━━━━━━━━━━━━━━━━━━━━━━━━━━\u001b[0m \u001b[32m471.6/471.6 kB\u001b[0m \u001b[31m11.9 MB/s\u001b[0m eta \u001b[36m0:00:00\u001b[0m\n",
      "\u001b[?25hDownloading dill-0.3.8-py3-none-any.whl (116 kB)\n",
      "\u001b[2K   \u001b[90m━━━━━━━━━━━━━━━━━━━━━━━━━━━━━━━━━━━━━━━━\u001b[0m \u001b[32m116.3/116.3 kB\u001b[0m \u001b[31m7.6 MB/s\u001b[0m eta \u001b[36m0:00:00\u001b[0m\n",
      "\u001b[?25hDownloading multiprocess-0.70.16-py310-none-any.whl (134 kB)\n",
      "\u001b[2K   \u001b[90m━━━━━━━━━━━━━━━━━━━━━━━━━━━━━━━━━━━━━━━━\u001b[0m \u001b[32m134.8/134.8 kB\u001b[0m \u001b[31m7.2 MB/s\u001b[0m eta \u001b[36m0:00:00\u001b[0m\n",
      "\u001b[?25hDownloading xxhash-3.5.0-cp310-cp310-manylinux_2_17_x86_64.manylinux2014_x86_64.whl (194 kB)\n",
      "\u001b[2K   \u001b[90m━━━━━━━━━━━━━━━━━━━━━━━━━━━━━━━━━━━━━━━━\u001b[0m \u001b[32m194.1/194.1 kB\u001b[0m \u001b[31m13.7 MB/s\u001b[0m eta \u001b[36m0:00:00\u001b[0m\n",
      "\u001b[?25hInstalling collected packages: xxhash, dill, multiprocess, datasets\n",
      "Successfully installed datasets-3.0.1 dill-0.3.8 multiprocess-0.70.16 xxhash-3.5.0\n"
     ]
    }
   ],
   "source": [
    "!pip install datasets"
   ]
  },
  {
   "cell_type": "markdown",
   "metadata": {
    "id": "g6b0SM034sf2"
   },
   "source": [
    "We start with importing PyTorch and NumPy and setting random seeds for PyTorch and NumPy. You can use any seeds you prefer."
   ]
  },
  {
   "cell_type": "code",
   "execution_count": 2,
   "metadata": {
    "id": "O7XWUry0JXCc"
   },
   "outputs": [],
   "source": [
    "import os\n",
    "import torch\n",
    "import random\n",
    "import requests\n",
    "import pandas as pd\n",
    "import numpy as np\n",
    "import torch.nn as nn\n",
    "from torch.utils.data import DataLoader\n",
    "from torch.nn.utils.rnn import pad_sequence\n",
    "from transformers import BertTokenizer\n",
    "import os\n",
    "from six.moves.urllib.request import urlretrieve\n",
    "from sklearn import preprocessing\n",
    "import matplotlib.pyplot as plt\n",
    "plt.style.use('ggplot')"
   ]
  },
  {
   "cell_type": "code",
   "execution_count": 3,
   "metadata": {
    "id": "6ZoWqunmUY7L"
   },
   "outputs": [],
   "source": [
    "def seed_all(seed=1029):\n",
    "    random.seed(seed)\n",
    "    os.environ['PYTHONHASHSEED'] = str(seed)\n",
    "    np.random.seed(seed)\n",
    "    torch.manual_seed(seed)\n",
    "    torch.cuda.manual_seed(seed)\n",
    "    torch.cuda.manual_seed_all(seed)  # if you are using multi-GPU.\n",
    "    torch.backends.cudnn.benchmark = False\n",
    "    torch.backends.cudnn.deterministic = True\n",
    "seed_all(seed=1234)\n",
    "\n",
    "device = torch.device(\"cuda\" if torch.cuda.is_available() else \"cpu\")"
   ]
  },
  {
   "cell_type": "markdown",
   "metadata": {
    "id": "6VU1jS6SUl8q"
   },
   "source": [
    "## <font color=\"#0b486b\">Download and preprocess the data</font>\n",
    "\n",
    "<div style=\"text-align: right\"><font color=\"red; font-weight:bold\"><span></div>"
   ]
  },
  {
   "cell_type": "markdown",
   "metadata": {
    "id": "wQEzWmZjUulL"
   },
   "source": [
    "The dataset we use for this assignment is a question classification dataset for which the training set consists of $5,500$ questions belonging to 6 coarse question categories including:\n",
    "- abbreviation (ABBR),\n",
    "- entity (ENTY),\n",
    "- description (DESC),\n",
    "- human (HUM),\n",
    "- location (LOC) and\n",
    "- numeric (NUM).\n",
    "\n",
    "In this assignment, we will utilize a subset of this dataset, containing $2,000$ questions for training and validation. We will use 80% of those 2000 questions for trainning and the rest for validation.\n"
   ]
  },
  {
   "cell_type": "markdown",
   "metadata": {
    "id": "zOd49RTpUxxj"
   },
   "source": [
    "Preprocessing data is a crucial initial step in any machine learning or deep learning project. The *TextDataManager* class simplifies the process by providing functionalities to download and preprocess data specifically designed for the subsequent questions in this assignment. It is highly recommended to gain a comprehensive understanding of the class's functionality by **carefully reading** the content provided in the *TextDataManager* class before proceeding to answer the questions."
   ]
  },
  {
   "cell_type": "code",
   "execution_count": 4,
   "metadata": {
    "id": "_C2fuJNzUhha"
   },
   "outputs": [],
   "source": [
    "class DataManager:\n",
    "    \"\"\"\n",
    "    This class manages and preprocesses a simple text dataset for a sentence classification task.\n",
    "\n",
    "    Attributes:\n",
    "        verbose (bool): Controls verbosity for printing information during data processing.\n",
    "        max_sentence_len (int): The maximum length of a sentence in the dataset.\n",
    "        str_questions (list): A list to store the string representations of the questions in the dataset.\n",
    "        str_labels (list): A list to store the string representations of the labels in the dataset.\n",
    "        numeral_labels (list): A list to store the numerical representations of the labels in the dataset.\n",
    "        maxlen (int): Maximum length for padding sequences. Sequences longer than this length will be truncated,\n",
    "            and sequences shorter than this length will be padded with zeros. Defaults to 50.\n",
    "        numeral_data (list): A list to store the numerical representations of the questions in the dataset.\n",
    "        random_state (int): Seed value for random number generation to ensure reproducibility.\n",
    "            Set this value to a specific integer to reproduce the same random sequence every time. Defaults to 6789.\n",
    "        random (np.random.RandomState): Random number generator object initialized with the given random_state.\n",
    "            It is used for various random operations in the class.\n",
    "\n",
    "    Methods:\n",
    "        maybe_download(dir_name, file_name, url, verbose=True):\n",
    "            Downloads a file from a given URL if it does not exist in the specified directory.\n",
    "            The directory and file are created if they do not exist.\n",
    "\n",
    "        read_data(dir_name, file_names):\n",
    "            Reads data from files in a directory, preprocesses it, and computes the maximum sentence length.\n",
    "            Each file is expected to contain rows in the format \"<label>:<question>\".\n",
    "            The labels and questions are stored as string representations.\n",
    "\n",
    "        manipulate_data():\n",
    "            Performs data manipulation by tokenizing, numericalizing, and padding the text data.\n",
    "            The questions are tokenized and converted into numerical sequences using a tokenizer.\n",
    "            The sequences are padded or truncated to the maximum sequence length.\n",
    "\n",
    "        train_valid_test_split(train_ratio=0.9):\n",
    "            Splits the data into training, validation, and test sets based on a given ratio.\n",
    "            The data is randomly shuffled, and the specified ratio is used to determine the size of the training set.\n",
    "            The string questions, numerical data, and numerical labels are split accordingly.\n",
    "            TensorFlow `Dataset` objects are created for the training and validation sets.\n",
    "\n",
    "\n",
    "    \"\"\"\n",
    "\n",
    "    def __init__(self, verbose=True, random_state=6789):\n",
    "        self.verbose = verbose\n",
    "        self.max_sentence_len = 0\n",
    "        self.str_questions = list()\n",
    "        self.str_labels = list()\n",
    "        self.numeral_labels = list()\n",
    "        self.numeral_data = list()\n",
    "        self.random_state = random_state\n",
    "        self.random = np.random.RandomState(random_state)\n",
    "\n",
    "    @staticmethod\n",
    "    def maybe_download(dir_name, file_name, url, verbose=True):\n",
    "        if not os.path.exists(dir_name):\n",
    "            os.mkdir(dir_name)\n",
    "        if not os.path.exists(os.path.join(dir_name, file_name)):\n",
    "            urlretrieve(url + file_name, os.path.join(dir_name, file_name))\n",
    "        if verbose:\n",
    "            print(\"Downloaded successfully {}\".format(file_name))\n",
    "\n",
    "    def read_data(self, dir_name, file_names):\n",
    "        self.str_questions = list()\n",
    "        self.str_labels = list()\n",
    "        for file_name in file_names:\n",
    "            file_path= os.path.join(dir_name, file_name)\n",
    "            with open(file_path, \"r\", encoding=\"latin-1\") as f:\n",
    "                for row in f:\n",
    "                    row_str = row.split(\":\")\n",
    "                    label, question = row_str[0], row_str[1]\n",
    "                    question = question.lower()\n",
    "                    self.str_labels.append(label)\n",
    "                    self.str_questions.append(question[0:-1])\n",
    "                    if self.max_sentence_len < len(self.str_questions[-1]):\n",
    "                        self.max_sentence_len = len(self.str_questions[-1])\n",
    "\n",
    "        # turns labels into numbers\n",
    "        le = preprocessing.LabelEncoder()\n",
    "        le.fit(self.str_labels)\n",
    "        self.numeral_labels = np.array(le.transform(self.str_labels))\n",
    "        self.str_classes = le.classes_\n",
    "        self.num_classes = len(self.str_classes)\n",
    "        if self.verbose:\n",
    "            print(\"\\nSample questions and corresponding labels... \\n\")\n",
    "            print(self.str_questions[0:5])\n",
    "            print(self.str_labels[0:5])\n",
    "\n",
    "    def manipulate_data(self):\n",
    "        self.tokenizer = BertTokenizer.from_pretrained('bert-base-uncased')\n",
    "        vocab = self.tokenizer.get_vocab()\n",
    "        self.word2idx = {w: i for i, w in enumerate(vocab)}\n",
    "        self.idx2word = {i:w for w,i in self.word2idx.items()}\n",
    "        self.vocab_size = len(self.word2idx)\n",
    "\n",
    "        token_ids = []\n",
    "        num_seqs = []\n",
    "        for text in self.str_questions:  # iterate over the list of text\n",
    "          text_seqs = self.tokenizer.tokenize(str(text))  # tokenize each text individually\n",
    "          # Convert tokens to IDs\n",
    "          token_ids = self.tokenizer.convert_tokens_to_ids(text_seqs)\n",
    "          # Convert token IDs to a tensor of indices using your word2idx mapping\n",
    "          seq_tensor = torch.LongTensor(token_ids)\n",
    "          num_seqs.append(seq_tensor)  # append the tensor for each sequence\n",
    "\n",
    "        # Pad the sequences and create a tensor\n",
    "        if num_seqs:\n",
    "          self.numeral_data = pad_sequence(num_seqs, batch_first=True)  # Pads to max length of the sequences\n",
    "          self.num_sentences, self.max_seq_len = self.numeral_data.shape\n",
    "\n",
    "    def train_valid_test_split(self, train_ratio=0.8, test_ratio = 0.1):\n",
    "        train_size = int(self.num_sentences*train_ratio) +1\n",
    "        test_size = int(self.num_sentences*test_ratio) +1\n",
    "        valid_size = self.num_sentences - (train_size + test_size)\n",
    "        data_indices = list(range(self.num_sentences))\n",
    "        random.shuffle(data_indices)\n",
    "        self.train_str_questions = [self.str_questions[i] for i in data_indices[:train_size]]\n",
    "        self.train_numeral_labels = self.numeral_labels[data_indices[:train_size]]\n",
    "        train_set_data = self.numeral_data[data_indices[:train_size]]\n",
    "        train_set_labels = self.numeral_labels[data_indices[:train_size]]\n",
    "        train_set_labels = torch.from_numpy(train_set_labels)\n",
    "        train_set = torch.utils.data.TensorDataset(train_set_data, train_set_labels)\n",
    "        self.test_str_questions = [self.str_questions[i] for i in data_indices[-test_size:]]\n",
    "        self.test_numeral_labels = self.numeral_labels[data_indices[-test_size:]]\n",
    "        test_set_data = self.numeral_data[data_indices[-test_size:]]\n",
    "        test_set_labels = self.numeral_labels[data_indices[-test_size:]]\n",
    "        test_set_labels = torch.from_numpy(test_set_labels)\n",
    "        test_set = torch.utils.data.TensorDataset(test_set_data, test_set_labels)\n",
    "        self.valid_str_questions = [self.str_questions[i] for i in data_indices[train_size:-test_size]]\n",
    "        self.valid_numeral_labels = self.numeral_labels[data_indices[train_size:-test_size]]\n",
    "        valid_set_data = self.numeral_data[data_indices[train_size:-test_size]]\n",
    "        valid_set_labels = self.numeral_labels[data_indices[train_size:-test_size]]\n",
    "        valid_set_labels = torch.from_numpy(valid_set_labels)\n",
    "        valid_set = torch.utils.data.TensorDataset(valid_set_data, valid_set_labels)\n",
    "        self.train_loader = DataLoader(train_set, batch_size=64, shuffle=True)\n",
    "        self.test_loader = DataLoader(test_set, batch_size=64, shuffle=False)\n",
    "        self.valid_loader = DataLoader(valid_set, batch_size=64, shuffle=False)"
   ]
  },
  {
   "cell_type": "code",
   "execution_count": 5,
   "metadata": {
    "colab": {
     "base_uri": "https://localhost:8080/",
     "height": 0
    },
    "id": "3npdESj6Vb_t",
    "outputId": "9c21205e-2d3a-4696-cf5c-905a1b67d9b0"
   },
   "outputs": [
    {
     "name": "stdout",
     "output_type": "stream",
     "text": [
      "Loading data...\n",
      "Downloaded successfully train_2000.label\n",
      "\n",
      "Sample questions and corresponding labels... \n",
      "\n",
      "['manner how did serfdom develop in and then leave russia ?', 'cremat what films featured the character popeye doyle ?', \"manner how can i find a list of celebrities ' real names ?\", 'animal what fowl grabs the spotlight after the chinese year of the monkey ?', 'exp what is the full form of .com ?']\n",
      "['DESC', 'ENTY', 'DESC', 'ENTY', 'ABBR']\n"
     ]
    }
   ],
   "source": [
    "print('Loading data...')\n",
    "DataManager.maybe_download(\"data\", \"train_2000.label\", \"http://cogcomp.org/Data/QA/QC/\")\n",
    "\n",
    "dm = DataManager()\n",
    "dm.read_data(\"data/\", [\"train_2000.label\"])"
   ]
  },
  {
   "cell_type": "code",
   "execution_count": 6,
   "metadata": {
    "colab": {
     "base_uri": "https://localhost:8080/",
     "height": 304,
     "referenced_widgets": [
      "43bc6293eda44950a307513a9d1e197d",
      "2b1255e02cdc4b50bb4cf27ab5dcc6e0",
      "4ef79b9fe1074dde97fae1c006af1e0f",
      "f3650369dd794a5893fa6d797e6b1b70",
      "7ee44d849d9d468e9fdf1d0ce233faaf",
      "f5365e26e6e547e8aa4986e01d5c3e88",
      "1152a4a2dc3241ddb39210198589bee7",
      "2e560cd1b3b24d999200db41d7e478a7",
      "c7b065783ec9487eafc70f2929ef346c",
      "a9357b2ff1f142e7856493155190178a",
      "43ee4326a52d49008d3ece3537ddcdb4",
      "63ee42f1f548460b9b1bc3f41a4d6c3e",
      "a6c26ebffe9848f1887a0b46014e83d1",
      "aeb2d0d47d8f4133af66636a6755e0de",
      "a2dde841b572403b89c3973649527ee9",
      "a69e2d3a97aa43009790688a9eee0559",
      "3961b5b48b3b4122bf6c7e513c2f39a9",
      "6872e835bd5748619a251af7c2f96b8b",
      "855155a46bbf4bd3b6e80fae9215304f",
      "6ff953a4ef5b4eddbc55b0e953377e9a",
      "a7e6e2269f7a4bddb41e1e2327a71e03",
      "3c4e4cf240844578b34e4b58ca7d5e37",
      "fb6bd7aa788343f5aa73e7498b82ed0c",
      "df4fde9d739a49dc97839e9771ae459d",
      "1623887dcbc348409e50827d4f2178d1",
      "9043da42600e401183eeae02fcdf95f1",
      "fe9985b2e3fc45208709264d6ba511c5",
      "a3f1375b7b2848b292337508d706cdef",
      "ec9dbc623e0249bf9814f92ecf8839f7",
      "f9c95468f2d84638843b03beacd22e86",
      "c8bd64651e8f455baf45bd62035d89f7",
      "efed0c8b1348445fa24e242a33f0bf20",
      "3b41f624f4104487bfdb9bcd59596404",
      "bb14f5fe3e70414394868dfe152eef55",
      "97dccd6eb0754bc4a008a09886216c62",
      "7e5bee11bb2e4270b9fc3cafedf1657c",
      "6a39c63c5ecb4c01ae3318fdbff7b299",
      "694271cee7be4b859478378b31bd520b",
      "2f98ca68ecf243b2a2cbf78df6fc11be",
      "baad391793c244ffbdcdc67518113440",
      "33040248b53a4f479f0d863739d18802",
      "bf04abf7559643e38b02975fcdf7948c",
      "b0b9e0ab23d84bd9aa18a07e6682d2f6",
      "a96aba908b264a0c97739ac90faccaa8"
     ]
    },
    "id": "EgrYZPmyVj60",
    "outputId": "244be925-8d57-4857-d33f-7d257d7cccc4"
   },
   "outputs": [
    {
     "name": "stderr",
     "output_type": "stream",
     "text": [
      "/usr/local/lib/python3.10/dist-packages/huggingface_hub/utils/_token.py:89: UserWarning: \n",
      "The secret `HF_TOKEN` does not exist in your Colab secrets.\n",
      "To authenticate with the Hugging Face Hub, create a token in your settings tab (https://huggingface.co/settings/tokens), set it as secret in your Google Colab and restart your session.\n",
      "You will be able to reuse this secret in all of your notebooks.\n",
      "Please note that authentication is recommended but still optional to access public models or datasets.\n",
      "  warnings.warn(\n"
     ]
    },
    {
     "data": {
      "application/vnd.jupyter.widget-view+json": {
       "model_id": "43bc6293eda44950a307513a9d1e197d",
       "version_major": 2,
       "version_minor": 0
      },
      "text/plain": [
       "tokenizer_config.json:   0%|          | 0.00/48.0 [00:00<?, ?B/s]"
      ]
     },
     "metadata": {},
     "output_type": "display_data"
    },
    {
     "data": {
      "application/vnd.jupyter.widget-view+json": {
       "model_id": "63ee42f1f548460b9b1bc3f41a4d6c3e",
       "version_major": 2,
       "version_minor": 0
      },
      "text/plain": [
       "vocab.txt:   0%|          | 0.00/232k [00:00<?, ?B/s]"
      ]
     },
     "metadata": {},
     "output_type": "display_data"
    },
    {
     "data": {
      "application/vnd.jupyter.widget-view+json": {
       "model_id": "fb6bd7aa788343f5aa73e7498b82ed0c",
       "version_major": 2,
       "version_minor": 0
      },
      "text/plain": [
       "tokenizer.json:   0%|          | 0.00/466k [00:00<?, ?B/s]"
      ]
     },
     "metadata": {},
     "output_type": "display_data"
    },
    {
     "data": {
      "application/vnd.jupyter.widget-view+json": {
       "model_id": "bb14f5fe3e70414394868dfe152eef55",
       "version_major": 2,
       "version_minor": 0
      },
      "text/plain": [
       "config.json:   0%|          | 0.00/570 [00:00<?, ?B/s]"
      ]
     },
     "metadata": {},
     "output_type": "display_data"
    },
    {
     "name": "stderr",
     "output_type": "stream",
     "text": [
      "/usr/local/lib/python3.10/dist-packages/transformers/tokenization_utils_base.py:1601: FutureWarning: `clean_up_tokenization_spaces` was not set. It will be set to `True` by default. This behavior will be depracted in transformers v4.45, and will be then set to `False` by default. For more details check this issue: https://github.com/huggingface/transformers/issues/31884\n",
      "  warnings.warn(\n"
     ]
    }
   ],
   "source": [
    "dm.manipulate_data()\n",
    "dm.train_valid_test_split(train_ratio=0.8, test_ratio = 0.1)"
   ]
  },
  {
   "cell_type": "code",
   "execution_count": 7,
   "metadata": {
    "colab": {
     "base_uri": "https://localhost:8080/",
     "height": 0
    },
    "id": "bH-U0sUMVnW-",
    "outputId": "391fb081-4357-4f7d-f19e-dcfd4d3b6ea4"
   },
   "outputs": [
    {
     "name": "stdout",
     "output_type": "stream",
     "text": [
      "torch.Size([64, 36]) torch.Size([64])\n"
     ]
    }
   ],
   "source": [
    "for x, y in dm.train_loader:\n",
    "    print(x.shape, y.shape)\n",
    "    break"
   ]
  },
  {
   "cell_type": "markdown",
   "metadata": {
    "id": "lPPrm2_FHj-j"
   },
   "source": [
    "We now declare the `BaseTrainer` class, which will be used later to train the subsequent deep learning models for text data."
   ]
  },
  {
   "cell_type": "code",
   "execution_count": 8,
   "metadata": {
    "id": "yXlNQvGn7OEb"
   },
   "outputs": [],
   "source": [
    "device = torch.device(\"cuda\" if torch.cuda.is_available() else \"cpu\")\n",
    "\n",
    "class BaseTrainer:\n",
    "    def __init__(self, model, criterion, optimizer, train_loader, val_loader):\n",
    "        self.model = model\n",
    "        self.criterion = criterion  #the loss function\n",
    "        self.optimizer = optimizer  #the optimizer\n",
    "        self.train_loader = train_loader  #the train loader\n",
    "        self.val_loader = val_loader  #the valid loader\n",
    "\n",
    "    #the function to train the model in many epochs\n",
    "    def fit(self, num_epochs):\n",
    "        self.num_batches = len(self.train_loader)\n",
    "\n",
    "        for epoch in range(num_epochs):\n",
    "            print(f'Epoch {epoch + 1}/{num_epochs}')\n",
    "            train_loss, train_accuracy = self.train_one_epoch()\n",
    "            val_loss, val_accuracy = self.validate_one_epoch()\n",
    "            print(\n",
    "                f'{self.num_batches}/{self.num_batches} - train_loss: {train_loss:.4f} - train_accuracy: {train_accuracy*100:.4f}% \\\n",
    "                - val_loss: {val_loss:.4f} - val_accuracy: {val_accuracy*100:.4f}%')\n",
    "\n",
    "    #train in one epoch, return the train_acc, train_loss\n",
    "    def train_one_epoch(self):\n",
    "        self.model.train()\n",
    "        running_loss, correct, total = 0.0, 0, 0\n",
    "        for i, data in enumerate(self.train_loader):\n",
    "            inputs, labels = data\n",
    "            inputs, labels = inputs.to(device), labels.to(device)\n",
    "            self.optimizer.zero_grad()\n",
    "            outputs = self.model(inputs)\n",
    "            loss = self.criterion(outputs, labels)\n",
    "            loss.backward()\n",
    "            self.optimizer.step()\n",
    "\n",
    "            running_loss += loss.item()\n",
    "            _, predicted = torch.max(outputs.data, 1)\n",
    "            total += labels.size(0)\n",
    "            correct += (predicted == labels).sum().item()\n",
    "        train_accuracy = correct / total\n",
    "        train_loss = running_loss / self.num_batches\n",
    "        return train_loss, train_accuracy\n",
    "\n",
    "    #evaluate on a loader and return the loss and accuracy\n",
    "    def evaluate(self, loader):\n",
    "        self.model.eval()\n",
    "        loss, correct, total = 0.0, 0, 0\n",
    "        with torch.no_grad():\n",
    "            for data in loader:\n",
    "                inputs, labels = data\n",
    "                inputs, labels = inputs.to(device), labels.to(device)\n",
    "                outputs = self.model(inputs)\n",
    "                loss = self.criterion(outputs, labels)\n",
    "                loss += loss.item()\n",
    "                _, predicted = torch.max(outputs.data, 1)\n",
    "                total += labels.size(0)\n",
    "                correct += (predicted == labels).sum().item()\n",
    "\n",
    "        accuracy = correct / total\n",
    "        loss = loss / len(self.val_loader)\n",
    "        return loss, accuracy\n",
    "\n",
    "    #return the val_acc, val_loss, be called at the end of each epoch\n",
    "    def validate_one_epoch(self):\n",
    "      val_loss, val_accuracy = self.evaluate(self.val_loader)\n",
    "      return val_loss, val_accuracy"
   ]
  },
  {
   "cell_type": "markdown",
   "metadata": {
    "id": "sPvLRNDfoSq-"
   },
   "source": [
    "## <font color=\"#0b486b\">Part 4: Transformer-based models for sequence modeling and neural embedding</font>\n",
    "\n",
    "<div style=\"text-align: right\"><font color=\"red; font-weight:bold\">[Total marks for this part: 30 marks]<span></div>"
   ]
  },
  {
   "cell_type": "markdown",
   "metadata": {
    "id": "QOoskR7Ko6Iv"
   },
   "source": [
    "#### <font color=\"red\">**Question 4.1**</font>\n",
    "\n",
    "**Implement the multi-head attention module of the Transformer for the text classification problem. The provided code is from our tutorial. In this part, we only use the output of the Transformer encoder for the classification task. For further information on the Transformer model, refer to [this paper](https://proceedings.neurips.cc/paper_files/paper/2017/file/3f5ee243547dee91fbd053c1c4a845aa-Paper.pdf).**\n",
    "\n",
    "<div style=\"text-align: right\"><font color=\"red; font-weight:bold\">[Total marks for this part: 10 marks]<span></div>\n"
   ]
  },
  {
   "cell_type": "markdown",
   "metadata": {
    "id": "LUnK0WBspLDK"
   },
   "source": [
    "Below is the code of `MultiHeadSelfAttention`, `PositionWiseFeedForward`, `PositionalEncoding`, and `EncoderLayer`."
   ]
  },
  {
   "cell_type": "code",
   "execution_count": 9,
   "metadata": {
    "id": "PERuLdjTZpAl"
   },
   "outputs": [],
   "source": [
    "class MultiHeadAttention(nn.Module):\n",
    "    def __init__(self, d_model, num_heads):\n",
    "        super(MultiHeadAttention, self).__init__()\n",
    "        # Ensure that the model dimension (d_model) is divisible by the number of heads\n",
    "        assert d_model % num_heads == 0, \"d_model must be divisible by num_heads\"\n",
    "\n",
    "        # Initialize dimensions\n",
    "        self.d_model = d_model # Model's dimension\n",
    "        self.num_heads = num_heads # Number of attention heads\n",
    "        self.d_k = d_model // num_heads # Dimension of each head's key, query, and value\n",
    "\n",
    "        # Linear layers for transforming inputs\n",
    "        self.W_q = nn.Linear(d_model, d_model) # Query transformation\n",
    "        self.W_k = nn.Linear(d_model, d_model) # Key transformation\n",
    "        self.W_v = nn.Linear(d_model, d_model) # Value transformation\n",
    "        self.W_o = nn.Linear(d_model, d_model) # Output transformation\n",
    "\n",
    "    def scaled_dot_product_attention(self, Q, K, V):\n",
    "        # Calculate attention scores\n",
    "        attn_scores = torch.matmul(Q, K.transpose(-2, -1)) / math.sqrt(self.d_k)\n",
    "\n",
    "        # Apply mask if provided (useful for preventing attention to certain parts like padding)\n",
    "        #if mask is not None:\n",
    "            #attn_scores = attn_scores.masked_fill(mask == 0, -1e9)\n",
    "\n",
    "        # Softmax is applied to obtain attention probabilities\n",
    "        attn_probs = torch.softmax(attn_scores, dim=-1)\n",
    "\n",
    "        # Multiply by values to obtain the final output\n",
    "        output = torch.matmul(attn_probs, V)\n",
    "        return output\n",
    "\n",
    "    def split_heads(self, x):\n",
    "        # Reshape the input to have num_heads for multi-head attention\n",
    "        batch_size, seq_length, d_model = x.size()\n",
    "        return x.view(batch_size, seq_length, self.num_heads, self.d_k).transpose(1, 2)\n",
    "\n",
    "    def combine_heads(self, x):\n",
    "        # Combine the multiple heads back to original shape\n",
    "        batch_size, _, seq_length, d_k = x.size()\n",
    "        return x.transpose(1, 2).contiguous().view(batch_size, seq_length, self.d_model)\n",
    "\n",
    "    def forward(self, Q, K, V):\n",
    "        # Apply linear transformations and split heads\n",
    "        Q = self.split_heads(self.W_q(Q))\n",
    "        K = self.split_heads(self.W_k(K))\n",
    "        V = self.split_heads(self.W_v(V))\n",
    "\n",
    "        # Perform scaled dot-product attention\n",
    "        attn_output = self.scaled_dot_product_attention(Q, K, V)\n",
    "\n",
    "        # Combine heads and apply output transformation\n",
    "        output = self.W_o(self.combine_heads(attn_output))\n",
    "        return output"
   ]
  },
  {
   "cell_type": "code",
   "execution_count": 10,
   "metadata": {
    "id": "J4MZuO59pR0T"
   },
   "outputs": [],
   "source": [
    "class PositionWiseFeedForward(nn.Module):\n",
    "    def __init__(self, d_model, d_ff):\n",
    "        super(PositionWiseFeedForward, self).__init__()\n",
    "        self.fc1 = nn.Linear(d_model, d_ff)\n",
    "        self.fc2 = nn.Linear(d_ff, d_model)\n",
    "        self.relu = nn.ReLU()\n",
    "\n",
    "    def forward(self, x):\n",
    "        return self.fc2(self.relu(self.fc1(x)))"
   ]
  },
  {
   "cell_type": "code",
   "execution_count": 11,
   "metadata": {
    "id": "qq15ROA9pV3N"
   },
   "outputs": [],
   "source": [
    "import math\n",
    "\n",
    "class PositionalEncoding(nn.Module):\n",
    "    def __init__(self, d_model, max_seq_length):\n",
    "        super(PositionalEncoding, self).__init__()\n",
    "\n",
    "        pe = torch.zeros(max_seq_length, d_model)\n",
    "        position = torch.arange(0, max_seq_length, dtype=torch.float).unsqueeze(1)\n",
    "        div_term = torch.exp(torch.arange(0, d_model, 2).float() * -(math.log(10000.0) / d_model))\n",
    "\n",
    "        pe[:, 0::2] = torch.sin(position * div_term)\n",
    "        pe[:, 1::2] = torch.cos(position * div_term)\n",
    "\n",
    "        self.register_buffer('pe', pe.unsqueeze(0))\n",
    "\n",
    "    def forward(self, x):\n",
    "        return x + self.pe[:, :x.size(1)]"
   ]
  },
  {
   "cell_type": "code",
   "execution_count": 12,
   "metadata": {
    "id": "HKaj3paKqTmG"
   },
   "outputs": [],
   "source": [
    "class EncoderLayer(nn.Module):\n",
    "    def __init__(self, d_model, num_heads, d_ff, dropout):\n",
    "        super(EncoderLayer, self).__init__()\n",
    "        self.self_attn = MultiHeadAttention(d_model, num_heads)\n",
    "        self.feed_forward = PositionWiseFeedForward(d_model, d_ff)\n",
    "        self.norm1 = nn.LayerNorm(d_model)\n",
    "        self.norm2 = nn.LayerNorm(d_model)\n",
    "        self.dropout = nn.Dropout(dropout)\n",
    "\n",
    "    def forward(self, x):\n",
    "        attn_output = self.self_attn(x, x, x)\n",
    "        x = self.norm1(x + self.dropout(attn_output))\n",
    "        ff_output = self.feed_forward(x)\n",
    "        x = self.norm2(x + self.dropout(ff_output))\n",
    "        return x"
   ]
  },
  {
   "cell_type": "markdown",
   "metadata": {
    "id": "pI9I1Gl1ptq8"
   },
   "source": [
    "Your task is to develop `TransformerClassifier` in which we input the embedding with the shape `[batch_size, seq_len, embed_dim]` to some `EncoderLayer` (i.e., num_layers specifies the number of EncoderLayer) and then compute the average of all token embeddings (i.e., `[batch_size, seq_len, embed_dim]`) across the `seq_len`. Finally, on the top of this average embedding, we build up a linear layer for making predictions."
   ]
  },
  {
   "cell_type": "code",
   "execution_count": 13,
   "metadata": {
    "id": "VwzVfN2dpY_p"
   },
   "outputs": [],
   "source": [
    "import torch\n",
    "import torch.nn as nn\n",
    "\n",
    "class TransformerClassifier(nn.Module):\n",
    "    def __init__(self, embed_dim, num_heads, ff_dim, num_layers, dropout_rate=0.2, data_manager=None):\n",
    "        super(TransformerClassifier, self).__init__()\n",
    "        self.vocab_size = data_manager.vocab_size\n",
    "        self.num_classes = data_manager.num_classes\n",
    "        self.embed_dim = embed_dim\n",
    "        self.max_seq_len = data_manager.max_seq_len\n",
    "        self.num_heads = num_heads\n",
    "        self.ff_dim = ff_dim\n",
    "        self.num_layers = num_layers\n",
    "        self.dropout_rate = dropout_rate\n",
    "\n",
    "    def build(self):\n",
    "        # Initialize the embedding layer and positional encoding layer\n",
    "        self.embedding = nn.Embedding(self.vocab_size, self.embed_dim)\n",
    "        self.pos_encoding = PositionalEncoding(self.embed_dim, self.max_seq_len)\n",
    "\n",
    "        # Create multiple EncoderLayers and store them in a ModuleList\n",
    "        self.encoder_layers = nn.ModuleList([\n",
    "            EncoderLayer(self.embed_dim, self.num_heads, self.ff_dim, self.dropout_rate)\n",
    "            for _ in range(self.num_layers)\n",
    "        ])\n",
    "\n",
    "        # Define a fully connected layer for classification\n",
    "        self.fc = nn.Linear(self.embed_dim, self.num_classes)\n",
    "\n",
    "    def forward(self, x):\n",
    "        # Pass through the embedding layer\n",
    "        x = self.embedding(x)  # [batch_size, seq_len, embed_dim]\n",
    "\n",
    "        # Add positional encoding\n",
    "        x = self.pos_encoding(x)  # [batch_size, seq_len, embed_dim]\n",
    "\n",
    "        # Pass through each encoder layer\n",
    "        for layer in self.encoder_layers:\n",
    "            x = layer(x)  # [batch_size, seq_len, embed_dim]\n",
    "\n",
    "        x = x.mean(dim=1)  # Take the mean across the sequence dimension\n",
    "\n",
    "        # Pass through the fully connected layer to get classification results\n",
    "        x = self.fc(x)  # [batch_size, num_classes]\n",
    "\n",
    "        return x\n"
   ]
  },
  {
   "cell_type": "code",
   "execution_count": 14,
   "metadata": {
    "colab": {
     "base_uri": "https://localhost:8080/",
     "height": 0
    },
    "id": "V4sjIOzQrn3b",
    "outputId": "128b500a-9c75-4d7d-b55a-a09f608281a3"
   },
   "outputs": [
    {
     "name": "stdout",
     "output_type": "stream",
     "text": [
      "Epoch 1/30\n",
      "26/26 - train_loss: 2.0195 - train_accuracy: 22.4235%                 - val_loss: 0.8066 - val_accuracy: 12.6263%\n",
      "Epoch 2/30\n",
      "26/26 - train_loss: 1.7231 - train_accuracy: 18.8007%                 - val_loss: 0.8273 - val_accuracy: 12.6263%\n",
      "Epoch 3/30\n",
      "26/26 - train_loss: 1.6846 - train_accuracy: 21.9238%                 - val_loss: 0.8405 - val_accuracy: 26.2626%\n",
      "Epoch 4/30\n",
      "26/26 - train_loss: 1.6877 - train_accuracy: 21.9863%                 - val_loss: 0.7703 - val_accuracy: 27.2727%\n",
      "Epoch 5/30\n",
      "26/26 - train_loss: 1.6988 - train_accuracy: 20.8620%                 - val_loss: 0.7288 - val_accuracy: 27.2727%\n",
      "Epoch 6/30\n",
      "26/26 - train_loss: 1.6803 - train_accuracy: 21.3616%                 - val_loss: 0.7095 - val_accuracy: 27.2727%\n",
      "Epoch 7/30\n",
      "26/26 - train_loss: 1.6394 - train_accuracy: 26.2961%                 - val_loss: 0.7327 - val_accuracy: 37.3737%\n",
      "Epoch 8/30\n",
      "26/26 - train_loss: 1.3546 - train_accuracy: 39.0381%                 - val_loss: 0.7154 - val_accuracy: 45.9596%\n",
      "Epoch 9/30\n",
      "26/26 - train_loss: 1.3272 - train_accuracy: 38.1012%                 - val_loss: 0.6424 - val_accuracy: 45.9596%\n",
      "Epoch 10/30\n",
      "26/26 - train_loss: 1.3285 - train_accuracy: 40.0999%                 - val_loss: 0.6812 - val_accuracy: 45.9596%\n",
      "Epoch 11/30\n",
      "26/26 - train_loss: 1.3192 - train_accuracy: 40.2249%                 - val_loss: 0.6634 - val_accuracy: 45.9596%\n",
      "Epoch 12/30\n",
      "26/26 - train_loss: 1.3510 - train_accuracy: 39.7876%                 - val_loss: 0.6724 - val_accuracy: 45.9596%\n",
      "Epoch 13/30\n",
      "26/26 - train_loss: 1.3148 - train_accuracy: 39.2879%                 - val_loss: 0.6609 - val_accuracy: 45.9596%\n",
      "Epoch 14/30\n",
      "26/26 - train_loss: 1.3372 - train_accuracy: 40.3498%                 - val_loss: 0.6674 - val_accuracy: 45.9596%\n",
      "Epoch 15/30\n",
      "26/26 - train_loss: 1.2693 - train_accuracy: 39.4753%                 - val_loss: 0.6418 - val_accuracy: 45.9596%\n",
      "Epoch 16/30\n",
      "26/26 - train_loss: 1.3000 - train_accuracy: 40.3498%                 - val_loss: 0.6322 - val_accuracy: 45.9596%\n",
      "Epoch 17/30\n",
      "26/26 - train_loss: 1.3425 - train_accuracy: 37.6640%                 - val_loss: 0.6534 - val_accuracy: 45.9596%\n",
      "Epoch 18/30\n",
      "26/26 - train_loss: 1.3300 - train_accuracy: 39.2255%                 - val_loss: 0.6646 - val_accuracy: 36.8687%\n",
      "Epoch 19/30\n",
      "26/26 - train_loss: 1.3459 - train_accuracy: 40.5372%                 - val_loss: 0.7054 - val_accuracy: 45.9596%\n",
      "Epoch 20/30\n",
      "26/26 - train_loss: 1.3215 - train_accuracy: 39.5378%                 - val_loss: 0.7002 - val_accuracy: 45.9596%\n",
      "Epoch 21/30\n",
      "26/26 - train_loss: 1.3370 - train_accuracy: 38.5384%                 - val_loss: 0.6775 - val_accuracy: 45.9596%\n",
      "Epoch 22/30\n",
      "26/26 - train_loss: 1.3407 - train_accuracy: 37.8513%                 - val_loss: 0.6531 - val_accuracy: 45.9596%\n",
      "Epoch 23/30\n",
      "26/26 - train_loss: 1.3834 - train_accuracy: 37.1018%                 - val_loss: 0.6508 - val_accuracy: 45.9596%\n",
      "Epoch 24/30\n",
      "26/26 - train_loss: 1.3347 - train_accuracy: 40.9744%                 - val_loss: 0.6409 - val_accuracy: 45.9596%\n",
      "Epoch 25/30\n",
      "26/26 - train_loss: 1.3191 - train_accuracy: 37.7264%                 - val_loss: 0.6576 - val_accuracy: 36.8687%\n",
      "Epoch 26/30\n",
      "26/26 - train_loss: 1.2611 - train_accuracy: 41.7864%                 - val_loss: 0.6784 - val_accuracy: 45.9596%\n",
      "Epoch 27/30\n",
      "26/26 - train_loss: 1.2581 - train_accuracy: 39.6002%                 - val_loss: 0.6743 - val_accuracy: 45.9596%\n",
      "Epoch 28/30\n",
      "26/26 - train_loss: 1.3157 - train_accuracy: 40.0375%                 - val_loss: 0.7012 - val_accuracy: 45.9596%\n",
      "Epoch 29/30\n",
      "26/26 - train_loss: 1.3079 - train_accuracy: 38.3510%                 - val_loss: 0.6210 - val_accuracy: 45.9596%\n",
      "Epoch 30/30\n",
      "26/26 - train_loss: 1.3189 - train_accuracy: 41.3492%                 - val_loss: 0.6876 - val_accuracy: 45.9596%\n"
     ]
    }
   ],
   "source": [
    "transformer = TransformerClassifier(embed_dim=512, num_heads=8, ff_dim=2048, num_layers=12, dropout_rate=0.1, data_manager= dm)\n",
    "transformer.build()\n",
    "transformer = transformer.to(device)\n",
    "criterion = nn.CrossEntropyLoss()\n",
    "optimizer = torch.optim.Adam(transformer.parameters(), lr=1e-4, betas=(0.9, 0.98), eps=1e-9)\n",
    "trainer = BaseTrainer(model= transformer, criterion=criterion, optimizer=optimizer, train_loader=dm.train_loader, val_loader=dm.valid_loader)\n",
    "trainer.fit(num_epochs=30)"
   ]
  },
  {
   "cell_type": "markdown",
   "metadata": {
    "id": "aMbhi0_d0NL-"
   },
   "source": [
    "#### <font color=\"red\">**Question 4.2**</font>\n",
    "**Prefix prompt-tuning with Transformers: You need to implement the prefix prompt-tuning with Transformers. Basically, we base on a pre-trained Transformer, add prefix prompts, and do fine-tuning for a target dataset.**\n",
    "\n",
    "<div style=\"text-align: right\"><font color=\"red; font-weight:bold\">[Total marks for this part: 10 marks]<span></div>"
   ]
  },
  {
   "cell_type": "markdown",
   "metadata": {
    "id": "UyecWD190TP1"
   },
   "source": [
    "To implement prefix prompt-tuning with pretrained Transformers, we first need to create the Bert dataset."
   ]
  },
  {
   "cell_type": "code",
   "execution_count": 15,
   "metadata": {
    "colab": {
     "base_uri": "https://localhost:8080/",
     "height": 173,
     "referenced_widgets": [
      "d3332c3a98e744db97520738e9fd4529",
      "42b74c5fe2da45409213c0606bd3a997",
      "2b8e351d3ac5442299d1a021f501bbf5",
      "7f2efcc75a744ba7830ddc88fb572410",
      "e42640ebc2e146c8a4a0c02613008e93",
      "1926ffe8cc8144778ac6eed8f54e9e79",
      "183ca183cdb749849a9b794340ab9aad",
      "07aab0b3a4b745c78c0d5d66bb87dbac",
      "2ff6072aa052493f976d8b86d9b0c195",
      "d12d3de780d549aabecfd5c42ea01f38",
      "bd8d66404f54446792de272a8b7ea265"
     ]
    },
    "id": "mq3PiV2UrueO",
    "outputId": "8389b59b-8467-48c4-e339-297b55467a3c"
   },
   "outputs": [
    {
     "name": "stderr",
     "output_type": "stream",
     "text": [
      "/usr/local/lib/python3.10/dist-packages/transformers/tokenization_utils_base.py:1601: FutureWarning: `clean_up_tokenization_spaces` was not set. It will be set to `True` by default. This behavior will be depracted in transformers v4.45, and will be then set to `False` by default. For more details check this issue: https://github.com/huggingface/transformers/issues/31884\n",
      "  warnings.warn(\n"
     ]
    },
    {
     "data": {
      "application/vnd.jupyter.widget-view+json": {
       "model_id": "d3332c3a98e744db97520738e9fd4529",
       "version_major": 2,
       "version_minor": 0
      },
      "text/plain": [
       "Map:   0%|          | 0/2000 [00:00<?, ? examples/s]"
      ]
     },
     "metadata": {},
     "output_type": "display_data"
    },
    {
     "name": "stdout",
     "output_type": "stream",
     "text": [
      "Dataset({\n",
      "    features: ['text', 'label', 'input_ids', 'token_type_ids', 'attention_mask'],\n",
      "    num_rows: 2000\n",
      "})\n"
     ]
    }
   ],
   "source": [
    "from transformers import AutoModel, AutoTokenizer, AdamW\n",
    "from datasets import Dataset\n",
    "\n",
    "model_name = \"bert-base-uncased\"  # BERT or any similar model\n",
    "\n",
    "# Tokenize input and prepare model inputs\n",
    "tokenizer = AutoTokenizer.from_pretrained(model_name)\n",
    "\n",
    "dataset = Dataset.from_dict({\"text\": dm.str_questions, \"label\": dm.numeral_labels})\n",
    "\n",
    "# Tokenize the dataset\n",
    "def tokenize_function(examples):\n",
    "    return tokenizer(examples[\"text\"], padding=\"max_length\", truncation=True, max_length= 36)\n",
    "\n",
    "dataset = dataset.map(tokenize_function, batched=True)\n",
    "dataset.set_format(type=\"torch\", columns=[\"input_ids\", \"attention_mask\", \"label\"])\n",
    "print(dataset)"
   ]
  },
  {
   "cell_type": "markdown",
   "metadata": {
    "id": "ASKOrO5n1ckY"
   },
   "source": [
    "The following function splits the BERT dataset `dataset` into three BERT datasets for training, valid, and testing."
   ]
  },
  {
   "cell_type": "code",
   "execution_count": 16,
   "metadata": {
    "id": "UDgfnCV70gzG"
   },
   "outputs": [],
   "source": [
    "def train_valid_test_split(dataset, train_ratio=0.8, test_ratio = 0.1):\n",
    "    num_sentences = len(dataset)\n",
    "    train_size = int(num_sentences*train_ratio) +1\n",
    "    test_size = int(num_sentences*test_ratio) +1\n",
    "    valid_size = num_sentences - (train_size + test_size)\n",
    "    train_set = dataset[:train_size]\n",
    "    train_set = Dataset.from_dict(train_set)\n",
    "    train_set.set_format(type=\"torch\", columns=[\"input_ids\", \"attention_mask\", \"label\"])\n",
    "    test_set = dataset[-test_size:]\n",
    "    test_set = Dataset.from_dict(test_set)\n",
    "    test_set.set_format(type=\"torch\", columns=[\"input_ids\", \"attention_mask\", \"label\"])\n",
    "    valid_set = dataset[train_size:-test_size]\n",
    "    valid_set = Dataset.from_dict(valid_set)\n",
    "    valid_set.set_format(type=\"torch\", columns=[\"input_ids\", \"attention_mask\", \"label\"])\n",
    "    train_loader = DataLoader(train_set, batch_size=64, shuffle=True)\n",
    "    test_loader = DataLoader(test_set, batch_size=64, shuffle=False)\n",
    "    valid_loader = DataLoader(valid_set, batch_size=64, shuffle=False)\n",
    "    return train_loader, test_loader, valid_loader\n"
   ]
  },
  {
   "cell_type": "code",
   "execution_count": 17,
   "metadata": {
    "id": "s_sEtXml1lT7"
   },
   "outputs": [],
   "source": [
    "train_loader, test_loader, valid_loader = train_valid_test_split(dataset)"
   ]
  },
  {
   "cell_type": "markdown",
   "metadata": {
    "id": "S3jHATGX2hn4"
   },
   "source": [
    "You need to implement the class `PrefixTuningForClassification` for the prefix prompt fine-tuning. We first load a pre-trained BERT model specified by `model_name`. The parameter `prefix_length` specifies the length of the prefix prompts we add to the pre-trained BERT model. Specifically, given the input batch `[batch_size, seq_len]`, we input to the embedding layer of the pre-trained BERT model to obtain `[batch_size, seq_len, embed_size]`. We create the prefix prompts $P$ of the size `[prefix_length, embed_size]` and concatenate to the embeddings from the pre-trained BERT to obtain `[batch_size, seq_len + prefix_length, embed_size]`. This concatenation tensor will then be fed to the encoder layers of the pre-trained BERT layer to obtain the last `[batch_size, seq_len + prefix_length, embed_size]`."
   ]
  },
  {
   "cell_type": "markdown",
   "metadata": {
    "id": "NXFogDf1jVD0"
   },
   "source": [
    "We then take mean across the seq_len to obtain `[batch_size, embed_size]` on which we can build up a linear layer for making predictions. Please note that **the parameters to tune include the prefix prompts $P$** and **the output linear layer**, and you should freeze the parameters of the BERT pre-trained model. Moreover, your code should cover the edge case when `prefix_length=None`. In this case, we do not insert any prefix prompts and we only do fine-tuning for the output linear layer on top.  "
   ]
  },
  {
   "cell_type": "code",
   "execution_count": 18,
   "metadata": {
    "id": "bZtGBqQV16Kj"
   },
   "outputs": [],
   "source": [
    "class PrefixTuningForClassification(nn.Module):\n",
    "    def __init__(self, model_name, prefix_length=None, data_manager=None):\n",
    "        super(PrefixTuningForClassification, self).__init__()\n",
    "\n",
    "        # Load the pre-trained Transformer model\n",
    "        self.model = AutoModel.from_pretrained(model_name).to(device)\n",
    "        self.hidden_size = self.model.config.hidden_size\n",
    "        self.prefix_length = prefix_length\n",
    "        self.num_classes = data_manager.num_classes\n",
    "\n",
    "        # Define the output layer for classification\n",
    "        self.classifier = nn.Linear(self.hidden_size, self.num_classes)\n",
    "\n",
    "        # If prefix_length is provided, initialize prefix embeddings\n",
    "        if self.prefix_length is not None:\n",
    "            # Create trainable prefix embeddings\n",
    "            self.prefix_embeddings = nn.Parameter(\n",
    "                torch.randn(self.prefix_length, self.hidden_size)\n",
    "            )\n",
    "        else:\n",
    "            self.prefix_embeddings = None\n",
    "\n",
    "        # Freeze the parameters of the Transformer model\n",
    "        for param in self.model.parameters():\n",
    "            param.requires_grad = False\n",
    "\n",
    "    def forward(self, input_ids, attention_mask):\n",
    "        # Pass through the BERT embedding layer to get [batch_size, seq_len, embed_size]\n",
    "        embeddings = self.model.embeddings(input_ids)\n",
    "\n",
    "        # If prefix_length is provided, create and concatenate prefix embeddings\n",
    "        if self.prefix_length is not None:\n",
    "            batch_size = embeddings.size(0)\n",
    "            prefix = self.prefix_embeddings.unsqueeze(0).expand(batch_size, -1, -1)\n",
    "            embeddings = torch.cat([prefix, embeddings], dim=1)\n",
    "\n",
    "            # Add attention mask for the prefix part\n",
    "            prefix_attention_mask = torch.ones(batch_size, self.prefix_length).to(device)\n",
    "            attention_mask = torch.cat([prefix_attention_mask, attention_mask], dim=1)\n",
    "\n",
    "        # Adjust the attention mask size (batch_size, 1, seq_len, seq_len)\n",
    "        extended_attention_mask = attention_mask[:, None, None, :]\n",
    "        extended_attention_mask = (1.0 - extended_attention_mask) * -10000.0\n",
    "\n",
    "        # Pass through the encoder layer of the Transformer\n",
    "        outputs = self.model.encoder(embeddings, attention_mask=extended_attention_mask)\n",
    "\n",
    "        # Compute the mean across the final output [batch_size, embed_size]\n",
    "        sequence_output = outputs[0]\n",
    "        pooled_output = sequence_output.mean(dim=1)\n",
    "\n",
    "        # Pass through the classifier to generate predictions\n",
    "        logits = self.classifier(pooled_output)\n",
    "        return logits\n"
   ]
  },
  {
   "cell_type": "markdown",
   "metadata": {
    "id": "RtYVNYXi24Os"
   },
   "source": [
    "You can use the following `FineTunedBaseTrainer` to train the prompt fine-tuning models."
   ]
  },
  {
   "cell_type": "code",
   "execution_count": 19,
   "metadata": {
    "id": "NmRkMqYB24tv"
   },
   "outputs": [],
   "source": [
    "class FineTunedBaseTrainer:\n",
    "    def __init__(self, model, criterion, optimizer, train_loader, val_loader):\n",
    "        self.model = model\n",
    "        self.criterion = criterion  #the loss function\n",
    "        self.optimizer = optimizer  #the optimizer\n",
    "        self.train_loader = train_loader  #the train loader\n",
    "        self.val_loader = val_loader  #the valid loader\n",
    "\n",
    "    #the function to train the model in many epochs\n",
    "    def fit(self, num_epochs):\n",
    "        self.num_batches = len(self.train_loader)\n",
    "\n",
    "        for epoch in range(num_epochs):\n",
    "            print(f'Epoch {epoch + 1}/{num_epochs}')\n",
    "            train_loss, train_accuracy = self.train_one_epoch()\n",
    "            val_loss, val_accuracy = self.validate_one_epoch()\n",
    "            print(\n",
    "                f'{self.num_batches}/{self.num_batches} - train_loss: {train_loss:.4f} - train_accuracy: {train_accuracy*100:.4f}% \\\n",
    "                - val_loss: {val_loss:.4f} - val_accuracy: {val_accuracy*100:.4f}%')\n",
    "\n",
    "    #train in one epoch, return the train_acc, train_loss\n",
    "    def train_one_epoch(self):\n",
    "        self.model.train()\n",
    "        running_loss, correct, total = 0.0, 0, 0\n",
    "        for batch in self.train_loader:\n",
    "            input_ids = batch[\"input_ids\"].to(device)\n",
    "            attention_mask = batch[\"attention_mask\"].to(device)\n",
    "            labels = batch[\"label\"].to(device)\n",
    "            self.optimizer.zero_grad()\n",
    "            outputs = self.model(input_ids= input_ids, attention_mask= attention_mask)\n",
    "            loss = self.criterion(outputs, labels)\n",
    "            loss.backward()\n",
    "            self.optimizer.step()\n",
    "\n",
    "            running_loss += loss.item()\n",
    "            _, predicted = torch.max(outputs.data, 1)\n",
    "            total += labels.size(0)\n",
    "            correct += (predicted == labels).sum().item()\n",
    "        train_accuracy = correct / total\n",
    "        train_loss = running_loss / self.num_batches\n",
    "        return train_loss, train_accuracy\n",
    "\n",
    "    #evaluate on a loader and return the loss and accuracy\n",
    "    def evaluate(self, loader):\n",
    "        self.model.eval()\n",
    "        loss, correct, total = 0.0, 0, 0\n",
    "        with torch.no_grad():\n",
    "            for batch in loader:\n",
    "                input_ids = batch[\"input_ids\"].to(device)\n",
    "                labels = batch[\"label\"].to(device)\n",
    "                attention_mask = batch[\"attention_mask\"].to(device)\n",
    "                outputs = self.model(input_ids= input_ids, attention_mask= attention_mask)\n",
    "                loss = self.criterion(outputs, labels)\n",
    "                loss += loss.item()\n",
    "                _, predicted = torch.max(outputs.data, 1)\n",
    "                total += labels.size(0)\n",
    "                correct += (predicted == labels).sum().item()\n",
    "\n",
    "        accuracy = correct / total\n",
    "        loss = loss / len(self.val_loader)\n",
    "        return loss, accuracy\n",
    "\n",
    "    #return the val_acc, val_loss, be called at the end of each epoch\n",
    "    def validate_one_epoch(self):\n",
    "      val_loss, val_accuracy = self.evaluate(self.val_loader)\n",
    "      return val_loss, val_accuracy"
   ]
  },
  {
   "cell_type": "markdown",
   "metadata": {
    "id": "4KQhBHPe20zo"
   },
   "source": [
    "We declare and train the prefix-prompt tuning model. In addition, you need to be patient with this model because it might converge slowly with many epochs."
   ]
  },
  {
   "cell_type": "code",
   "execution_count": 20,
   "metadata": {
    "colab": {
     "base_uri": "https://localhost:8080/",
     "height": 49,
     "referenced_widgets": [
      "eac18a37c33c4f26bf46f4b75a32d58f",
      "96fdcf6efa014bc4b5d14a2efba825dd",
      "d61af21ac5ae4f139a9a2311b3655919",
      "6e89fe9bf1574eb2bfa7469a0b77c856",
      "39796103ba304506b5274de94d7d369c",
      "8430f1fe8bf1478b9530dd2b80ae9f1a",
      "244a27a5eb5c4e99b303ee9751d0e674",
      "5e7f6b47583242c09ad5e4303f510ff3",
      "8b53016caaeb4da48ea486b47e3f3e1f",
      "2ab312eadb4d46bbae3a5cc7866e269d",
      "9bd5c08c1b4345a88bb293da53792544"
     ]
    },
    "id": "qLowEOeg3HWW",
    "outputId": "8078ef40-59c9-454c-eab2-9a4bc25522fb"
   },
   "outputs": [
    {
     "data": {
      "application/vnd.jupyter.widget-view+json": {
       "model_id": "eac18a37c33c4f26bf46f4b75a32d58f",
       "version_major": 2,
       "version_minor": 0
      },
      "text/plain": [
       "model.safetensors:   0%|          | 0.00/440M [00:00<?, ?B/s]"
      ]
     },
     "metadata": {},
     "output_type": "display_data"
    }
   ],
   "source": [
    "prefix_tuning_model = PrefixTuningForClassification(model_name = \"bert-base-uncased\", prefix_length = 5, data_manager = dm).to(device)"
   ]
  },
  {
   "cell_type": "code",
   "execution_count": 21,
   "metadata": {
    "colab": {
     "base_uri": "https://localhost:8080/",
     "height": 0
    },
    "id": "UYMDOjWW3UVk",
    "outputId": "690420a8-22c3-47a7-e1c7-514be515c8eb"
   },
   "outputs": [
    {
     "name": "stdout",
     "output_type": "stream",
     "text": [
      "Epoch 1/100\n",
      "26/26 - train_loss: 1.7828 - train_accuracy: 21.9863%                 - val_loss: 0.9295 - val_accuracy: 19.6970%\n",
      "Epoch 2/100\n",
      "26/26 - train_loss: 1.7485 - train_accuracy: 26.9207%                 - val_loss: 0.9095 - val_accuracy: 22.2222%\n",
      "Epoch 3/100\n",
      "26/26 - train_loss: 1.7125 - train_accuracy: 29.2317%                 - val_loss: 0.8933 - val_accuracy: 26.7677%\n",
      "Epoch 4/100\n",
      "26/26 - train_loss: 1.6929 - train_accuracy: 31.5428%                 - val_loss: 0.8794 - val_accuracy: 28.7879%\n",
      "Epoch 5/100\n",
      "26/26 - train_loss: 1.6639 - train_accuracy: 32.7295%                 - val_loss: 0.8642 - val_accuracy: 28.7879%\n",
      "Epoch 6/100\n",
      "26/26 - train_loss: 1.6556 - train_accuracy: 33.9163%                 - val_loss: 0.8538 - val_accuracy: 30.8081%\n",
      "Epoch 7/100\n",
      "26/26 - train_loss: 1.6406 - train_accuracy: 35.1655%                 - val_loss: 0.8446 - val_accuracy: 31.8182%\n",
      "Epoch 8/100\n",
      "26/26 - train_loss: 1.6160 - train_accuracy: 36.2274%                 - val_loss: 0.8342 - val_accuracy: 33.3333%\n",
      "Epoch 9/100\n",
      "26/26 - train_loss: 1.5976 - train_accuracy: 35.9775%                 - val_loss: 0.8273 - val_accuracy: 32.3232%\n",
      "Epoch 10/100\n",
      "26/26 - train_loss: 1.5807 - train_accuracy: 40.0375%                 - val_loss: 0.8160 - val_accuracy: 41.4141%\n",
      "Epoch 11/100\n",
      "26/26 - train_loss: 1.5767 - train_accuracy: 44.4722%                 - val_loss: 0.8126 - val_accuracy: 46.9697%\n",
      "Epoch 12/100\n",
      "26/26 - train_loss: 1.5628 - train_accuracy: 46.4710%                 - val_loss: 0.8044 - val_accuracy: 47.4747%\n",
      "Epoch 13/100\n",
      "26/26 - train_loss: 1.5429 - train_accuracy: 48.2823%                 - val_loss: 0.7935 - val_accuracy: 48.4848%\n",
      "Epoch 14/100\n",
      "26/26 - train_loss: 1.5311 - train_accuracy: 50.0312%                 - val_loss: 0.7908 - val_accuracy: 50.0000%\n",
      "Epoch 15/100\n",
      "26/26 - train_loss: 1.5205 - train_accuracy: 50.3435%                 - val_loss: 0.7854 - val_accuracy: 50.5051%\n",
      "Epoch 16/100\n",
      "26/26 - train_loss: 1.5214 - train_accuracy: 49.0943%                 - val_loss: 0.7804 - val_accuracy: 50.5051%\n",
      "Epoch 17/100\n",
      "26/26 - train_loss: 1.4971 - train_accuracy: 51.4054%                 - val_loss: 0.7722 - val_accuracy: 51.5152%\n",
      "Epoch 18/100\n",
      "26/26 - train_loss: 1.4911 - train_accuracy: 51.8426%                 - val_loss: 0.7617 - val_accuracy: 52.5253%\n",
      "Epoch 19/100\n",
      "26/26 - train_loss: 1.4844 - train_accuracy: 53.2167%                 - val_loss: 0.7567 - val_accuracy: 54.0404%\n",
      "Epoch 20/100\n",
      "26/26 - train_loss: 1.4634 - train_accuracy: 54.2161%                 - val_loss: 0.7525 - val_accuracy: 56.5657%\n",
      "Epoch 21/100\n",
      "26/26 - train_loss: 1.4602 - train_accuracy: 55.2780%                 - val_loss: 0.7476 - val_accuracy: 58.0808%\n",
      "Epoch 22/100\n",
      "26/26 - train_loss: 1.4562 - train_accuracy: 55.2155%                 - val_loss: 0.7465 - val_accuracy: 59.5960%\n",
      "Epoch 23/100\n",
      "26/26 - train_loss: 1.4417 - train_accuracy: 56.7146%                 - val_loss: 0.7440 - val_accuracy: 60.6061%\n",
      "Epoch 24/100\n",
      "26/26 - train_loss: 1.4262 - train_accuracy: 59.0881%                 - val_loss: 0.7373 - val_accuracy: 63.1313%\n",
      "Epoch 25/100\n",
      "26/26 - train_loss: 1.4105 - train_accuracy: 60.5871%                 - val_loss: 0.7299 - val_accuracy: 65.1515%\n",
      "Epoch 26/100\n",
      "26/26 - train_loss: 1.3984 - train_accuracy: 62.0237%                 - val_loss: 0.7188 - val_accuracy: 63.6364%\n",
      "Epoch 27/100\n",
      "26/26 - train_loss: 1.4086 - train_accuracy: 61.4616%                 - val_loss: 0.7138 - val_accuracy: 64.1414%\n",
      "Epoch 28/100\n",
      "26/26 - train_loss: 1.3866 - train_accuracy: 63.2105%                 - val_loss: 0.7082 - val_accuracy: 66.6667%\n",
      "Epoch 29/100\n",
      "26/26 - train_loss: 1.3791 - train_accuracy: 64.3973%                 - val_loss: 0.6979 - val_accuracy: 65.1515%\n",
      "Epoch 30/100\n",
      "26/26 - train_loss: 1.3866 - train_accuracy: 64.3348%                 - val_loss: 0.6945 - val_accuracy: 66.1616%\n",
      "Epoch 31/100\n",
      "26/26 - train_loss: 1.3485 - train_accuracy: 64.2723%                 - val_loss: 0.6910 - val_accuracy: 67.1717%\n",
      "Epoch 32/100\n",
      "26/26 - train_loss: 1.3482 - train_accuracy: 67.4578%                 - val_loss: 0.6902 - val_accuracy: 69.1919%\n",
      "Epoch 33/100\n",
      "26/26 - train_loss: 1.3527 - train_accuracy: 66.5209%                 - val_loss: 0.6850 - val_accuracy: 68.6869%\n",
      "Epoch 34/100\n",
      "26/26 - train_loss: 1.3581 - train_accuracy: 67.8951%                 - val_loss: 0.6786 - val_accuracy: 69.6970%\n",
      "Epoch 35/100\n",
      "26/26 - train_loss: 1.3158 - train_accuracy: 70.2686%                 - val_loss: 0.6726 - val_accuracy: 71.7172%\n",
      "Epoch 36/100\n",
      "26/26 - train_loss: 1.3069 - train_accuracy: 69.0194%                 - val_loss: 0.6625 - val_accuracy: 71.2121%\n",
      "Epoch 37/100\n",
      "26/26 - train_loss: 1.3049 - train_accuracy: 69.1443%                 - val_loss: 0.6586 - val_accuracy: 70.2020%\n",
      "Epoch 38/100\n",
      "26/26 - train_loss: 1.3043 - train_accuracy: 68.2698%                 - val_loss: 0.6507 - val_accuracy: 70.7071%\n",
      "Epoch 39/100\n",
      "26/26 - train_loss: 1.2881 - train_accuracy: 69.7689%                 - val_loss: 0.6470 - val_accuracy: 72.2222%\n",
      "Epoch 40/100\n",
      "26/26 - train_loss: 1.2806 - train_accuracy: 71.0806%                 - val_loss: 0.6448 - val_accuracy: 73.7374%\n",
      "Epoch 41/100\n",
      "26/26 - train_loss: 1.2787 - train_accuracy: 72.3923%                 - val_loss: 0.6445 - val_accuracy: 72.7273%\n",
      "Epoch 42/100\n",
      "26/26 - train_loss: 1.3548 - train_accuracy: 73.9538%                 - val_loss: 0.6395 - val_accuracy: 74.7475%\n",
      "Epoch 43/100\n",
      "26/26 - train_loss: 1.2594 - train_accuracy: 73.5790%                 - val_loss: 0.6337 - val_accuracy: 75.7576%\n",
      "Epoch 44/100\n",
      "26/26 - train_loss: 1.2407 - train_accuracy: 74.8907%                 - val_loss: 0.6296 - val_accuracy: 76.2626%\n",
      "Epoch 45/100\n",
      "26/26 - train_loss: 1.2427 - train_accuracy: 74.2661%                 - val_loss: 0.6261 - val_accuracy: 76.7677%\n",
      "Epoch 46/100\n",
      "26/26 - train_loss: 1.2197 - train_accuracy: 76.0775%                 - val_loss: 0.6217 - val_accuracy: 77.2727%\n",
      "Epoch 47/100\n",
      "26/26 - train_loss: 1.2300 - train_accuracy: 75.6402%                 - val_loss: 0.6165 - val_accuracy: 76.7677%\n",
      "Epoch 48/100\n",
      "26/26 - train_loss: 1.1906 - train_accuracy: 74.8907%                 - val_loss: 0.6125 - val_accuracy: 76.2626%\n",
      "Epoch 49/100\n",
      "26/26 - train_loss: 1.1989 - train_accuracy: 74.2036%                 - val_loss: 0.6040 - val_accuracy: 75.7576%\n",
      "Epoch 50/100\n",
      "26/26 - train_loss: 1.1974 - train_accuracy: 74.8282%                 - val_loss: 0.5953 - val_accuracy: 77.2727%\n",
      "Epoch 51/100\n",
      "26/26 - train_loss: 1.1884 - train_accuracy: 74.6408%                 - val_loss: 0.5934 - val_accuracy: 77.2727%\n",
      "Epoch 52/100\n",
      "26/26 - train_loss: 1.1752 - train_accuracy: 75.1405%                 - val_loss: 0.5923 - val_accuracy: 77.2727%\n",
      "Epoch 53/100\n",
      "26/26 - train_loss: 1.1786 - train_accuracy: 75.4528%                 - val_loss: 0.5879 - val_accuracy: 77.2727%\n",
      "Epoch 54/100\n",
      "26/26 - train_loss: 1.1447 - train_accuracy: 75.7027%                 - val_loss: 0.5838 - val_accuracy: 77.7778%\n",
      "Epoch 55/100\n",
      "26/26 - train_loss: 1.1328 - train_accuracy: 76.1399%                 - val_loss: 0.5754 - val_accuracy: 79.7980%\n",
      "Epoch 56/100\n",
      "26/26 - train_loss: 1.1752 - train_accuracy: 76.2648%                 - val_loss: 0.5671 - val_accuracy: 79.7980%\n",
      "Epoch 57/100\n",
      "26/26 - train_loss: 1.1451 - train_accuracy: 77.2642%                 - val_loss: 0.5683 - val_accuracy: 79.2929%\n",
      "Epoch 58/100\n",
      "26/26 - train_loss: 1.1303 - train_accuracy: 76.8894%                 - val_loss: 0.5627 - val_accuracy: 79.7980%\n",
      "Epoch 59/100\n",
      "26/26 - train_loss: 1.1109 - train_accuracy: 78.5134%                 - val_loss: 0.5558 - val_accuracy: 79.2929%\n",
      "Epoch 60/100\n",
      "26/26 - train_loss: 1.1150 - train_accuracy: 77.7639%                 - val_loss: 0.5510 - val_accuracy: 79.2929%\n",
      "Epoch 61/100\n",
      "26/26 - train_loss: 1.0961 - train_accuracy: 78.4510%                 - val_loss: 0.5481 - val_accuracy: 79.7980%\n",
      "Epoch 62/100\n",
      "26/26 - train_loss: 1.0800 - train_accuracy: 78.6384%                 - val_loss: 0.5456 - val_accuracy: 80.3030%\n",
      "Epoch 63/100\n",
      "26/26 - train_loss: 1.0679 - train_accuracy: 78.7008%                 - val_loss: 0.5430 - val_accuracy: 79.7980%\n",
      "Epoch 64/100\n",
      "26/26 - train_loss: 1.0663 - train_accuracy: 77.6390%                 - val_loss: 0.5415 - val_accuracy: 79.7980%\n",
      "Epoch 65/100\n",
      "26/26 - train_loss: 1.0871 - train_accuracy: 79.1380%                 - val_loss: 0.5403 - val_accuracy: 81.3131%\n",
      "Epoch 66/100\n",
      "26/26 - train_loss: 1.0626 - train_accuracy: 79.3254%                 - val_loss: 0.5410 - val_accuracy: 81.3131%\n",
      "Epoch 67/100\n",
      "26/26 - train_loss: 1.0704 - train_accuracy: 79.7626%                 - val_loss: 0.5384 - val_accuracy: 81.8182%\n",
      "Epoch 68/100\n",
      "26/26 - train_loss: 1.0253 - train_accuracy: 79.5128%                 - val_loss: 0.5294 - val_accuracy: 83.3333%\n",
      "Epoch 69/100\n",
      "26/26 - train_loss: 1.0394 - train_accuracy: 79.7626%                 - val_loss: 0.5270 - val_accuracy: 83.3333%\n",
      "Epoch 70/100\n",
      "26/26 - train_loss: 1.0398 - train_accuracy: 80.3248%                 - val_loss: 0.5202 - val_accuracy: 83.3333%\n",
      "Epoch 71/100\n",
      "26/26 - train_loss: 1.0227 - train_accuracy: 79.4503%                 - val_loss: 0.5157 - val_accuracy: 81.8182%\n",
      "Epoch 72/100\n",
      "26/26 - train_loss: 1.0239 - train_accuracy: 80.8869%                 - val_loss: 0.5130 - val_accuracy: 82.8283%\n",
      "Epoch 73/100\n",
      "26/26 - train_loss: 1.0301 - train_accuracy: 80.1374%                 - val_loss: 0.5089 - val_accuracy: 81.3131%\n",
      "Epoch 74/100\n",
      "26/26 - train_loss: 1.0094 - train_accuracy: 80.8245%                 - val_loss: 0.5051 - val_accuracy: 80.8081%\n",
      "Epoch 75/100\n",
      "26/26 - train_loss: 1.0225 - train_accuracy: 80.0750%                 - val_loss: 0.5004 - val_accuracy: 80.8081%\n",
      "Epoch 76/100\n",
      "26/26 - train_loss: 0.9761 - train_accuracy: 79.5128%                 - val_loss: 0.4940 - val_accuracy: 81.8182%\n",
      "Epoch 77/100\n",
      "26/26 - train_loss: 0.9735 - train_accuracy: 80.7620%                 - val_loss: 0.4873 - val_accuracy: 83.3333%\n",
      "Epoch 78/100\n",
      "26/26 - train_loss: 0.9865 - train_accuracy: 81.5116%                 - val_loss: 0.4861 - val_accuracy: 83.3333%\n",
      "Epoch 79/100\n",
      "26/26 - train_loss: 0.9785 - train_accuracy: 80.3248%                 - val_loss: 0.4810 - val_accuracy: 82.3232%\n",
      "Epoch 80/100\n",
      "26/26 - train_loss: 0.9551 - train_accuracy: 81.6365%                 - val_loss: 0.4756 - val_accuracy: 83.8384%\n",
      "Epoch 81/100\n",
      "26/26 - train_loss: 0.9507 - train_accuracy: 79.8251%                 - val_loss: 0.4700 - val_accuracy: 84.3434%\n",
      "Epoch 82/100\n",
      "26/26 - train_loss: 0.9572 - train_accuracy: 80.5746%                 - val_loss: 0.4698 - val_accuracy: 84.8485%\n",
      "Epoch 83/100\n",
      "26/26 - train_loss: 0.9638 - train_accuracy: 80.8869%                 - val_loss: 0.4690 - val_accuracy: 84.8485%\n",
      "Epoch 84/100\n",
      "26/26 - train_loss: 0.9278 - train_accuracy: 81.9488%                 - val_loss: 0.4647 - val_accuracy: 84.8485%\n",
      "Epoch 85/100\n",
      "26/26 - train_loss: 0.9316 - train_accuracy: 82.2611%                 - val_loss: 0.4615 - val_accuracy: 84.3434%\n",
      "Epoch 86/100\n",
      "26/26 - train_loss: 0.9456 - train_accuracy: 80.8869%                 - val_loss: 0.4582 - val_accuracy: 84.3434%\n",
      "Epoch 87/100\n",
      "26/26 - train_loss: 0.9495 - train_accuracy: 81.3242%                 - val_loss: 0.4538 - val_accuracy: 83.8384%\n",
      "Epoch 88/100\n",
      "26/26 - train_loss: 0.9473 - train_accuracy: 82.1362%                 - val_loss: 0.4553 - val_accuracy: 84.8485%\n",
      "Epoch 89/100\n",
      "26/26 - train_loss: 0.9103 - train_accuracy: 80.8869%                 - val_loss: 0.4544 - val_accuracy: 84.8485%\n",
      "Epoch 90/100\n",
      "26/26 - train_loss: 0.9203 - train_accuracy: 81.4491%                 - val_loss: 0.4456 - val_accuracy: 84.8485%\n",
      "Epoch 91/100\n",
      "26/26 - train_loss: 0.9041 - train_accuracy: 81.8863%                 - val_loss: 0.4417 - val_accuracy: 84.8485%\n",
      "Epoch 92/100\n",
      "26/26 - train_loss: 0.8968 - train_accuracy: 81.9488%                 - val_loss: 0.4375 - val_accuracy: 85.3535%\n",
      "Epoch 93/100\n",
      "26/26 - train_loss: 0.9026 - train_accuracy: 82.6359%                 - val_loss: 0.4356 - val_accuracy: 85.3535%\n",
      "Epoch 94/100\n",
      "26/26 - train_loss: 0.8926 - train_accuracy: 82.9482%                 - val_loss: 0.4314 - val_accuracy: 85.3535%\n",
      "Epoch 95/100\n",
      "26/26 - train_loss: 0.8808 - train_accuracy: 82.5734%                 - val_loss: 0.4292 - val_accuracy: 84.8485%\n",
      "Epoch 96/100\n",
      "26/26 - train_loss: 0.8528 - train_accuracy: 82.6359%                 - val_loss: 0.4218 - val_accuracy: 85.3535%\n",
      "Epoch 97/100\n",
      "26/26 - train_loss: 0.8716 - train_accuracy: 82.6359%                 - val_loss: 0.4194 - val_accuracy: 85.8586%\n",
      "Epoch 98/100\n",
      "26/26 - train_loss: 0.8497 - train_accuracy: 83.3854%                 - val_loss: 0.4144 - val_accuracy: 86.3636%\n",
      "Epoch 99/100\n",
      "26/26 - train_loss: 0.8403 - train_accuracy: 82.5734%                 - val_loss: 0.4082 - val_accuracy: 86.3636%\n",
      "Epoch 100/100\n",
      "26/26 - train_loss: 0.8626 - train_accuracy: 82.9482%                 - val_loss: 0.4067 - val_accuracy: 86.3636%\n"
     ]
    }
   ],
   "source": [
    "if prefix_tuning_model.prefix_length is not None:\n",
    "  optimizer = torch.optim.Adam(list(prefix_tuning_model.classifier.parameters()) + [prefix_tuning_model.prefix_embeddings], lr=5e-5)\n",
    "else:\n",
    "  optimizer = torch.optim.Adam(prefix_tuning_model.classifier.parameters(), lr=1e-4)\n",
    "criterion = nn.CrossEntropyLoss()\n",
    "trainer = FineTunedBaseTrainer(model= prefix_tuning_model, criterion=criterion, optimizer=optimizer, train_loader=train_loader, val_loader=valid_loader)\n",
    "trainer.fit(num_epochs=100)"
   ]
  },
  {
   "cell_type": "markdown",
   "metadata": {
    "id": "xi6PnvdO-Glw"
   },
   "source": [
    "#### <font color=\"red\">**Question 4.3**</font>\n",
    "**For any models defined in the previous questions (of all parts), you are free to fine-tune hyperparameters, e.g., `optimizer`, `learning_rate`, `state_sizes`, such that you get a best model, i.e., the one with the highest accuracy on the test set. You will need to report (i) what is your best model,  (ii) its accuracy on the test set, and (iii) the values of its hyperparameters. Note that you must report your best model's accuracy with rounding to 4 decimal places, i.e., 0.xxxx. You will also need to upload your best model (or provide us with the link to download your best model). The assessment will be based on your best model's accuracy, with up to 9 marks available, specifically:**\n",
    "* The best accuracy $\\ge$ 0.97: 10 marks\n",
    "* 0.97 $>$ The best accuracy $\\ge$ 0.92: 7 marks\n",
    "* 0.92 $>$ The best accuracy $\\ge$ 0.85: 4 marks\n",
    "* The best accuracy $<$ 0.85: 0 mark\n",
    "\n",
    "**For this question, you can put below the code to train the best model. In this case, you need to show your code and the evidence of running regarding the best model. Moreover, if you save the best model, you need to provide the link to download the best model, the code to load the best model, and then evaluate on the test set.**\n",
    "<div style=\"text-align: right\"><font color=\"red\">[10 marks]</font></div>"
   ]
  },
  {
   "cell_type": "markdown",
   "metadata": {
    "id": "EvM2pq3J-K0C"
   },
   "source": [
    "# Give your answer here.\n",
    "\n",
    "**(i) What is your best model?**\n",
    "\n",
    "- GRU with output_type = \"max\"\n",
    "\n",
    "**(ii) The accuracy of your best model on the test set**\n",
    "- 98.0100%\n",
    "\n",
    "**(iii) The values of the hyperparameters of your best model**\n",
    "- Optimizer : Adam\n",
    "- Learning Rate : 0.001\n",
    "- State sizes : [64,128]\n",
    "- Embedding size : 128\n",
    "- Epochs : 30\n",
    "- Batch Size : 64\n",
    "\n",
    "**(iv) The link to download your best model**"
   ]
  },
  {
   "cell_type": "code",
   "execution_count": 22,
   "metadata": {
    "colab": {
     "base_uri": "https://localhost:8080/"
    },
    "id": "J21H9wpaIdkc",
    "outputId": "5423e37a-6844-40b8-c59b-57ca1855309f"
   },
   "outputs": [
    {
     "name": "stdout",
     "output_type": "stream",
     "text": [
      "Epoch 1/30\n",
      "26/26 - train_loss: 1.6753 - train_accuracy: 41.1618%                 - val_loss: 0.6044 - val_accuracy: 53.5354%\n",
      "Epoch 2/30\n",
      "26/26 - train_loss: 0.9830 - train_accuracy: 72.5172%                 - val_loss: 0.2930 - val_accuracy: 87.8788%\n",
      "Epoch 3/30\n",
      "26/26 - train_loss: 0.3697 - train_accuracy: 90.7558%                 - val_loss: 0.0778 - val_accuracy: 93.4343%\n",
      "Epoch 4/30\n",
      "26/26 - train_loss: 0.1755 - train_accuracy: 94.3785%                 - val_loss: 0.0326 - val_accuracy: 94.4444%\n",
      "Epoch 5/30\n",
      "26/26 - train_loss: 0.1152 - train_accuracy: 96.0650%                 - val_loss: 0.0292 - val_accuracy: 95.4545%\n",
      "Epoch 6/30\n",
      "26/26 - train_loss: 0.0776 - train_accuracy: 97.6265%                 - val_loss: 0.0178 - val_accuracy: 96.9697%\n",
      "Epoch 7/30\n",
      "26/26 - train_loss: 0.0488 - train_accuracy: 98.8132%                 - val_loss: 0.0086 - val_accuracy: 96.4646%\n",
      "Epoch 8/30\n",
      "26/26 - train_loss: 0.0324 - train_accuracy: 99.3754%                 - val_loss: 0.0064 - val_accuracy: 96.4646%\n",
      "Epoch 9/30\n",
      "26/26 - train_loss: 0.0259 - train_accuracy: 99.5628%                 - val_loss: 0.0051 - val_accuracy: 94.9495%\n",
      "Epoch 10/30\n",
      "26/26 - train_loss: 0.0290 - train_accuracy: 99.3129%                 - val_loss: 0.0041 - val_accuracy: 97.4747%\n",
      "Epoch 11/30\n",
      "26/26 - train_loss: 0.0120 - train_accuracy: 99.9375%                 - val_loss: 0.0027 - val_accuracy: 97.4747%\n",
      "Epoch 12/30\n",
      "26/26 - train_loss: 0.0076 - train_accuracy: 100.0000%                 - val_loss: 0.0022 - val_accuracy: 97.4747%\n",
      "Epoch 13/30\n",
      "26/26 - train_loss: 0.0058 - train_accuracy: 100.0000%                 - val_loss: 0.0019 - val_accuracy: 96.9697%\n",
      "Epoch 14/30\n",
      "26/26 - train_loss: 0.0046 - train_accuracy: 100.0000%                 - val_loss: 0.0016 - val_accuracy: 97.4747%\n",
      "Epoch 15/30\n",
      "26/26 - train_loss: 0.0041 - train_accuracy: 100.0000%                 - val_loss: 0.0014 - val_accuracy: 96.4646%\n",
      "Epoch 16/30\n",
      "26/26 - train_loss: 0.0034 - train_accuracy: 100.0000%                 - val_loss: 0.0012 - val_accuracy: 97.4747%\n",
      "Epoch 17/30\n",
      "26/26 - train_loss: 0.0030 - train_accuracy: 100.0000%                 - val_loss: 0.0011 - val_accuracy: 96.9697%\n",
      "Epoch 18/30\n",
      "26/26 - train_loss: 0.0028 - train_accuracy: 100.0000%                 - val_loss: 0.0010 - val_accuracy: 97.4747%\n",
      "Epoch 19/30\n",
      "26/26 - train_loss: 0.0024 - train_accuracy: 100.0000%                 - val_loss: 0.0009 - val_accuracy: 97.4747%\n",
      "Epoch 20/30\n",
      "26/26 - train_loss: 0.0021 - train_accuracy: 100.0000%                 - val_loss: 0.0008 - val_accuracy: 96.4646%\n",
      "Epoch 21/30\n",
      "26/26 - train_loss: 0.0020 - train_accuracy: 100.0000%                 - val_loss: 0.0007 - val_accuracy: 96.9697%\n",
      "Epoch 22/30\n",
      "26/26 - train_loss: 0.0017 - train_accuracy: 100.0000%                 - val_loss: 0.0007 - val_accuracy: 96.9697%\n",
      "Epoch 23/30\n",
      "26/26 - train_loss: 0.0016 - train_accuracy: 100.0000%                 - val_loss: 0.0006 - val_accuracy: 96.9697%\n",
      "Epoch 24/30\n",
      "26/26 - train_loss: 0.0015 - train_accuracy: 100.0000%                 - val_loss: 0.0006 - val_accuracy: 96.9697%\n",
      "Epoch 25/30\n",
      "26/26 - train_loss: 0.0014 - train_accuracy: 100.0000%                 - val_loss: 0.0005 - val_accuracy: 96.4646%\n",
      "Epoch 26/30\n",
      "26/26 - train_loss: 0.0013 - train_accuracy: 100.0000%                 - val_loss: 0.0005 - val_accuracy: 96.9697%\n",
      "Epoch 27/30\n",
      "26/26 - train_loss: 0.0012 - train_accuracy: 100.0000%                 - val_loss: 0.0005 - val_accuracy: 96.9697%\n",
      "Epoch 28/30\n",
      "26/26 - train_loss: 0.0011 - train_accuracy: 100.0000%                 - val_loss: 0.0004 - val_accuracy: 96.9697%\n",
      "Epoch 29/30\n",
      "26/26 - train_loss: 0.0010 - train_accuracy: 100.0000%                 - val_loss: 0.0004 - val_accuracy: 96.9697%\n",
      "Epoch 30/30\n",
      "26/26 - train_loss: 0.0010 - train_accuracy: 100.0000%                 - val_loss: 0.0004 - val_accuracy: 96.9697%\n"
     ]
    }
   ],
   "source": [
    "import torch\n",
    "import torch.nn as nn\n",
    "import torch.optim as optim\n",
    "from torch.utils.data import DataLoader\n",
    "\n",
    "# Define GRU model (BaseRNN class)\n",
    "class BaseRNN(nn.Module):\n",
    "    def __init__(self, cell_type='gru', embed_size=128, state_sizes=[128, 128], output_type=\"mean\", data_manager=None):\n",
    "        super().__init__()\n",
    "        self.cell_type = cell_type  # Type of RNN cell (GRU, LSTM, or RNN)\n",
    "        self.state_sizes = state_sizes  # List of hidden layer sizes\n",
    "        self.embed_size = embed_size  # Size of the embedding vector\n",
    "        self.output_type = output_type  # Type of output (last_state, mean, max)\n",
    "        self.data_manager = data_manager  # Data manager to handle dataset\n",
    "        self.vocab_size = self.data_manager.vocab_size  # Vocabulary size\n",
    "\n",
    "        # Build the network architecture\n",
    "        self.build()\n",
    "\n",
    "    # Static method to return the RNN layer\n",
    "    @staticmethod\n",
    "    def get_layer(cell_type='gru', input_size=128, state_size=128):\n",
    "        if cell_type == 'gru':\n",
    "            return nn.GRU(input_size=input_size, hidden_size=state_size, batch_first=True)\n",
    "        elif cell_type == 'lstm':\n",
    "            return nn.LSTM(input_size=input_size, hidden_size=state_size, batch_first=True)\n",
    "        else:\n",
    "            return nn.RNN(input_size=input_size, hidden_size=state_size, batch_first=True)\n",
    "\n",
    "    # Build the RNN architecture\n",
    "    def build(self):\n",
    "        self.embedding = nn.Embedding(self.vocab_size, self.embed_size)  # Embedding layer\n",
    "\n",
    "        # Create RNN layers and add to ModuleList\n",
    "        layers = []\n",
    "        input_size = self.embed_size\n",
    "        for state_size in self.state_sizes:\n",
    "            layers.append(self.get_layer(self.cell_type, input_size=input_size, state_size=state_size))\n",
    "            input_size = state_size  # Update input size for next layer\n",
    "\n",
    "        self.rnn_layers = nn.ModuleList(layers)\n",
    "        self.fc = nn.Linear(self.state_sizes[-1], self.data_manager.num_classes)  # Fully connected layer for classification\n",
    "\n",
    "    # Forward pass\n",
    "    def forward(self, x):\n",
    "        x = self.embedding(x)  # Pass input through embedding layer\n",
    "        for rnn_layer in self.rnn_layers:\n",
    "            x, _ = rnn_layer(x)  # Pass through each RNN layer\n",
    "\n",
    "        # Choose the output type\n",
    "        if self.output_type == \"last_state\":\n",
    "            x = x[:, -1, :]  # Use the last state\n",
    "        elif self.output_type == \"mean\":\n",
    "            x = torch.mean(x, dim=1)  # Use the mean of the states\n",
    "        elif self.output_type == \"max\":\n",
    "            x, _ = torch.max(x, dim=1)  # Use the max of the states\n",
    "        else:\n",
    "            raise ValueError(\"Invalid output_type. Choose from 'last_state', 'mean', or 'max'.\")\n",
    "\n",
    "        x = self.fc(x)  # Pass through the fully connected layer\n",
    "        return x\n",
    "\n",
    "# Load data from DataManager\n",
    "train_loader = dm.train_loader\n",
    "val_loader = dm.valid_loader\n",
    "test_loader = dm.test_loader\n",
    "\n",
    "# Instantiate the GRU model\n",
    "gru_rnn = BaseRNN(\n",
    "    cell_type='gru',\n",
    "    embed_size=128,\n",
    "    state_sizes=[64, 128],\n",
    "    output_type=\"max\",\n",
    "    data_manager=dm\n",
    ")\n",
    "\n",
    "# Set the loss function and optimizer\n",
    "criterion = nn.CrossEntropyLoss()\n",
    "optimizer = torch.optim.Adam(gru_rnn.parameters(), lr=0.001)\n",
    "\n",
    "# Move model to GPU if available\n",
    "device = torch.device(\"cuda\" if torch.cuda.is_available() else \"cpu\")\n",
    "gru_rnn.to(device)\n",
    "\n",
    "# BaseTrainer to handle training (already implemented)\n",
    "trainer = BaseTrainer(\n",
    "    model=gru_rnn,\n",
    "    criterion=criterion,\n",
    "    optimizer=optimizer,\n",
    "    train_loader=train_loader,\n",
    "    val_loader=val_loader\n",
    ")\n",
    "\n",
    "# Train the model (for 30 epochs)\n",
    "trainer.fit(num_epochs=30)\n",
    "\n",
    "# Save the trained model\n",
    "torch.save(gru_rnn.state_dict(), 'best_gru_model.pth')\n"
   ]
  },
  {
   "cell_type": "code",
   "execution_count": 24,
   "metadata": {
    "colab": {
     "base_uri": "https://localhost:8080/"
    },
    "id": "eJJonp_lIf9J",
    "outputId": "b2d3c1ae-ee27-466a-8373-b784363bc396"
   },
   "outputs": [
    {
     "name": "stdout",
     "output_type": "stream",
     "text": [
      "Test Accuracy: 98.0100%\n"
     ]
    }
   ],
   "source": [
    "# Function to evaluate the model on the test set\n",
    "def evaluate_on_test(model, test_loader):\n",
    "    model.eval()  # Switch to evaluation mode\n",
    "    correct = 0\n",
    "    total = 0\n",
    "\n",
    "    # Disable gradient calculations since this is evaluation\n",
    "    with torch.no_grad():\n",
    "        for inputs, labels in test_loader:\n",
    "            # Move inputs and labels to the device (GPU or CPU)\n",
    "            inputs, labels = inputs.to(device), labels.to(device)\n",
    "\n",
    "            # Pass the inputs through the model to get outputs\n",
    "            outputs = model(inputs)\n",
    "\n",
    "            # Get the predicted class by finding the max output\n",
    "            _, predicted = torch.max(outputs.data, 1)\n",
    "\n",
    "            # Update total and correct counts\n",
    "            total += labels.size(0)\n",
    "            correct += (predicted == labels).sum().item()\n",
    "\n",
    "    # Calculate accuracy as the percentage of correct predictions\n",
    "    test_accuracy = 100 * correct / total\n",
    "    return test_accuracy\n",
    "\n",
    "# Load the trained GRU model and run the test evaluation\n",
    "gru_rnn.load_state_dict(torch.load('best_gru_model.pth', weights_only=True))\n",
    "test_accuracy = evaluate_on_test(gru_rnn, test_loader)\n",
    "print(f\"Test Accuracy: {test_accuracy:.4f}%\")\n"
   ]
  },
  {
   "cell_type": "markdown",
   "metadata": {
    "id": "evYeSuXm-OkM"
   },
   "source": [
    "---\n",
    "<div style=\"text-align: center\"> <font color=\"green\">GOOD LUCK WITH YOUR ASSIGNMENT 2!</font> </div>\n",
    "<div style=\"text-align: center\"> <font color=\"black\">END OF ASSIGNMENT</font> </div>"
   ]
  }
 ],
 "metadata": {
  "accelerator": "GPU",
  "colab": {
   "gpuType": "T4",
   "provenance": []
  },
  "kernelspec": {
   "display_name": "Python 3 (ipykernel)",
   "language": "python",
   "name": "python3"
  },
  "language_info": {
   "codemirror_mode": {
    "name": "ipython",
    "version": 3
   },
   "file_extension": ".py",
   "mimetype": "text/x-python",
   "name": "python",
   "nbconvert_exporter": "python",
   "pygments_lexer": "ipython3",
   "version": "3.11.5"
  },
  "widgets": {
   "application/vnd.jupyter.widget-state+json": {
    "state": {},
    "version_major": 2,
    "version_minor": 0
   }
  }
 },
 "nbformat": 4,
 "nbformat_minor": 4
}
