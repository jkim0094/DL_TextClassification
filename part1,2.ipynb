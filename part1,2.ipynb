{
  "nbformat": 4,
  "nbformat_minor": 0,
  "metadata": {
    "colab": {
      "provenance": []
    },
    "kernelspec": {
      "name": "python3",
      "display_name": "Python 3"
    },
    "language_info": {
      "name": "python"
    },
    "widgets": {
      "application/vnd.jupyter.widget-state+json": {
        "744a34ddb4744e95a1e5c8a8edd608c8": {
          "model_module": "@jupyter-widgets/controls",
          "model_name": "HBoxModel",
          "model_module_version": "1.5.0",
          "state": {
            "_dom_classes": [],
            "_model_module": "@jupyter-widgets/controls",
            "_model_module_version": "1.5.0",
            "_model_name": "HBoxModel",
            "_view_count": null,
            "_view_module": "@jupyter-widgets/controls",
            "_view_module_version": "1.5.0",
            "_view_name": "HBoxView",
            "box_style": "",
            "children": [
              "IPY_MODEL_2e3f765745be44e5bdee07dfac218a59",
              "IPY_MODEL_29b50185cb284077b3632a2529e36418",
              "IPY_MODEL_be45d6e3bceb45a8b532dac4cb9a3c71"
            ],
            "layout": "IPY_MODEL_cfff11aba3d546a08667e98b2b748e2d"
          }
        },
        "2e3f765745be44e5bdee07dfac218a59": {
          "model_module": "@jupyter-widgets/controls",
          "model_name": "HTMLModel",
          "model_module_version": "1.5.0",
          "state": {
            "_dom_classes": [],
            "_model_module": "@jupyter-widgets/controls",
            "_model_module_version": "1.5.0",
            "_model_name": "HTMLModel",
            "_view_count": null,
            "_view_module": "@jupyter-widgets/controls",
            "_view_module_version": "1.5.0",
            "_view_name": "HTMLView",
            "description": "",
            "description_tooltip": null,
            "layout": "IPY_MODEL_6bd4d86e3b5d4ebe9469a6932b17c26d",
            "placeholder": "​",
            "style": "IPY_MODEL_2cdb269ec37a45b1a95cd4d9f89152d2",
            "value": "tokenizer_config.json: 100%"
          }
        },
        "29b50185cb284077b3632a2529e36418": {
          "model_module": "@jupyter-widgets/controls",
          "model_name": "FloatProgressModel",
          "model_module_version": "1.5.0",
          "state": {
            "_dom_classes": [],
            "_model_module": "@jupyter-widgets/controls",
            "_model_module_version": "1.5.0",
            "_model_name": "FloatProgressModel",
            "_view_count": null,
            "_view_module": "@jupyter-widgets/controls",
            "_view_module_version": "1.5.0",
            "_view_name": "ProgressView",
            "bar_style": "success",
            "description": "",
            "description_tooltip": null,
            "layout": "IPY_MODEL_942e9377cc664c9fb61b8baf2f9c7aba",
            "max": 48,
            "min": 0,
            "orientation": "horizontal",
            "style": "IPY_MODEL_199bf3b4084741e193b6013fc7f73038",
            "value": 48
          }
        },
        "be45d6e3bceb45a8b532dac4cb9a3c71": {
          "model_module": "@jupyter-widgets/controls",
          "model_name": "HTMLModel",
          "model_module_version": "1.5.0",
          "state": {
            "_dom_classes": [],
            "_model_module": "@jupyter-widgets/controls",
            "_model_module_version": "1.5.0",
            "_model_name": "HTMLModel",
            "_view_count": null,
            "_view_module": "@jupyter-widgets/controls",
            "_view_module_version": "1.5.0",
            "_view_name": "HTMLView",
            "description": "",
            "description_tooltip": null,
            "layout": "IPY_MODEL_7279ee6766324510a4ee46a78cefa9df",
            "placeholder": "​",
            "style": "IPY_MODEL_9c0077845dc74eb1b470fa7fe41ae469",
            "value": " 48.0/48.0 [00:00&lt;00:00, 2.64kB/s]"
          }
        },
        "cfff11aba3d546a08667e98b2b748e2d": {
          "model_module": "@jupyter-widgets/base",
          "model_name": "LayoutModel",
          "model_module_version": "1.2.0",
          "state": {
            "_model_module": "@jupyter-widgets/base",
            "_model_module_version": "1.2.0",
            "_model_name": "LayoutModel",
            "_view_count": null,
            "_view_module": "@jupyter-widgets/base",
            "_view_module_version": "1.2.0",
            "_view_name": "LayoutView",
            "align_content": null,
            "align_items": null,
            "align_self": null,
            "border": null,
            "bottom": null,
            "display": null,
            "flex": null,
            "flex_flow": null,
            "grid_area": null,
            "grid_auto_columns": null,
            "grid_auto_flow": null,
            "grid_auto_rows": null,
            "grid_column": null,
            "grid_gap": null,
            "grid_row": null,
            "grid_template_areas": null,
            "grid_template_columns": null,
            "grid_template_rows": null,
            "height": null,
            "justify_content": null,
            "justify_items": null,
            "left": null,
            "margin": null,
            "max_height": null,
            "max_width": null,
            "min_height": null,
            "min_width": null,
            "object_fit": null,
            "object_position": null,
            "order": null,
            "overflow": null,
            "overflow_x": null,
            "overflow_y": null,
            "padding": null,
            "right": null,
            "top": null,
            "visibility": null,
            "width": null
          }
        },
        "6bd4d86e3b5d4ebe9469a6932b17c26d": {
          "model_module": "@jupyter-widgets/base",
          "model_name": "LayoutModel",
          "model_module_version": "1.2.0",
          "state": {
            "_model_module": "@jupyter-widgets/base",
            "_model_module_version": "1.2.0",
            "_model_name": "LayoutModel",
            "_view_count": null,
            "_view_module": "@jupyter-widgets/base",
            "_view_module_version": "1.2.0",
            "_view_name": "LayoutView",
            "align_content": null,
            "align_items": null,
            "align_self": null,
            "border": null,
            "bottom": null,
            "display": null,
            "flex": null,
            "flex_flow": null,
            "grid_area": null,
            "grid_auto_columns": null,
            "grid_auto_flow": null,
            "grid_auto_rows": null,
            "grid_column": null,
            "grid_gap": null,
            "grid_row": null,
            "grid_template_areas": null,
            "grid_template_columns": null,
            "grid_template_rows": null,
            "height": null,
            "justify_content": null,
            "justify_items": null,
            "left": null,
            "margin": null,
            "max_height": null,
            "max_width": null,
            "min_height": null,
            "min_width": null,
            "object_fit": null,
            "object_position": null,
            "order": null,
            "overflow": null,
            "overflow_x": null,
            "overflow_y": null,
            "padding": null,
            "right": null,
            "top": null,
            "visibility": null,
            "width": null
          }
        },
        "2cdb269ec37a45b1a95cd4d9f89152d2": {
          "model_module": "@jupyter-widgets/controls",
          "model_name": "DescriptionStyleModel",
          "model_module_version": "1.5.0",
          "state": {
            "_model_module": "@jupyter-widgets/controls",
            "_model_module_version": "1.5.0",
            "_model_name": "DescriptionStyleModel",
            "_view_count": null,
            "_view_module": "@jupyter-widgets/base",
            "_view_module_version": "1.2.0",
            "_view_name": "StyleView",
            "description_width": ""
          }
        },
        "942e9377cc664c9fb61b8baf2f9c7aba": {
          "model_module": "@jupyter-widgets/base",
          "model_name": "LayoutModel",
          "model_module_version": "1.2.0",
          "state": {
            "_model_module": "@jupyter-widgets/base",
            "_model_module_version": "1.2.0",
            "_model_name": "LayoutModel",
            "_view_count": null,
            "_view_module": "@jupyter-widgets/base",
            "_view_module_version": "1.2.0",
            "_view_name": "LayoutView",
            "align_content": null,
            "align_items": null,
            "align_self": null,
            "border": null,
            "bottom": null,
            "display": null,
            "flex": null,
            "flex_flow": null,
            "grid_area": null,
            "grid_auto_columns": null,
            "grid_auto_flow": null,
            "grid_auto_rows": null,
            "grid_column": null,
            "grid_gap": null,
            "grid_row": null,
            "grid_template_areas": null,
            "grid_template_columns": null,
            "grid_template_rows": null,
            "height": null,
            "justify_content": null,
            "justify_items": null,
            "left": null,
            "margin": null,
            "max_height": null,
            "max_width": null,
            "min_height": null,
            "min_width": null,
            "object_fit": null,
            "object_position": null,
            "order": null,
            "overflow": null,
            "overflow_x": null,
            "overflow_y": null,
            "padding": null,
            "right": null,
            "top": null,
            "visibility": null,
            "width": null
          }
        },
        "199bf3b4084741e193b6013fc7f73038": {
          "model_module": "@jupyter-widgets/controls",
          "model_name": "ProgressStyleModel",
          "model_module_version": "1.5.0",
          "state": {
            "_model_module": "@jupyter-widgets/controls",
            "_model_module_version": "1.5.0",
            "_model_name": "ProgressStyleModel",
            "_view_count": null,
            "_view_module": "@jupyter-widgets/base",
            "_view_module_version": "1.2.0",
            "_view_name": "StyleView",
            "bar_color": null,
            "description_width": ""
          }
        },
        "7279ee6766324510a4ee46a78cefa9df": {
          "model_module": "@jupyter-widgets/base",
          "model_name": "LayoutModel",
          "model_module_version": "1.2.0",
          "state": {
            "_model_module": "@jupyter-widgets/base",
            "_model_module_version": "1.2.0",
            "_model_name": "LayoutModel",
            "_view_count": null,
            "_view_module": "@jupyter-widgets/base",
            "_view_module_version": "1.2.0",
            "_view_name": "LayoutView",
            "align_content": null,
            "align_items": null,
            "align_self": null,
            "border": null,
            "bottom": null,
            "display": null,
            "flex": null,
            "flex_flow": null,
            "grid_area": null,
            "grid_auto_columns": null,
            "grid_auto_flow": null,
            "grid_auto_rows": null,
            "grid_column": null,
            "grid_gap": null,
            "grid_row": null,
            "grid_template_areas": null,
            "grid_template_columns": null,
            "grid_template_rows": null,
            "height": null,
            "justify_content": null,
            "justify_items": null,
            "left": null,
            "margin": null,
            "max_height": null,
            "max_width": null,
            "min_height": null,
            "min_width": null,
            "object_fit": null,
            "object_position": null,
            "order": null,
            "overflow": null,
            "overflow_x": null,
            "overflow_y": null,
            "padding": null,
            "right": null,
            "top": null,
            "visibility": null,
            "width": null
          }
        },
        "9c0077845dc74eb1b470fa7fe41ae469": {
          "model_module": "@jupyter-widgets/controls",
          "model_name": "DescriptionStyleModel",
          "model_module_version": "1.5.0",
          "state": {
            "_model_module": "@jupyter-widgets/controls",
            "_model_module_version": "1.5.0",
            "_model_name": "DescriptionStyleModel",
            "_view_count": null,
            "_view_module": "@jupyter-widgets/base",
            "_view_module_version": "1.2.0",
            "_view_name": "StyleView",
            "description_width": ""
          }
        },
        "2a53d67ce88b4fc9bbcfcdbe25e3fb77": {
          "model_module": "@jupyter-widgets/controls",
          "model_name": "HBoxModel",
          "model_module_version": "1.5.0",
          "state": {
            "_dom_classes": [],
            "_model_module": "@jupyter-widgets/controls",
            "_model_module_version": "1.5.0",
            "_model_name": "HBoxModel",
            "_view_count": null,
            "_view_module": "@jupyter-widgets/controls",
            "_view_module_version": "1.5.0",
            "_view_name": "HBoxView",
            "box_style": "",
            "children": [
              "IPY_MODEL_3f0fbfcacb8d459b95e999529b44806a",
              "IPY_MODEL_309c9f9b0644421c96e715f7643a5492",
              "IPY_MODEL_22b0c35c795941568ac9b088ceb7aa31"
            ],
            "layout": "IPY_MODEL_e9f7e811c19945cbaf5c9ddb0373a838"
          }
        },
        "3f0fbfcacb8d459b95e999529b44806a": {
          "model_module": "@jupyter-widgets/controls",
          "model_name": "HTMLModel",
          "model_module_version": "1.5.0",
          "state": {
            "_dom_classes": [],
            "_model_module": "@jupyter-widgets/controls",
            "_model_module_version": "1.5.0",
            "_model_name": "HTMLModel",
            "_view_count": null,
            "_view_module": "@jupyter-widgets/controls",
            "_view_module_version": "1.5.0",
            "_view_name": "HTMLView",
            "description": "",
            "description_tooltip": null,
            "layout": "IPY_MODEL_e55651eef7594e7bb9cdb095944c08b4",
            "placeholder": "​",
            "style": "IPY_MODEL_b6edb32612264fffb53b2422f2b1b970",
            "value": "vocab.txt: 100%"
          }
        },
        "309c9f9b0644421c96e715f7643a5492": {
          "model_module": "@jupyter-widgets/controls",
          "model_name": "FloatProgressModel",
          "model_module_version": "1.5.0",
          "state": {
            "_dom_classes": [],
            "_model_module": "@jupyter-widgets/controls",
            "_model_module_version": "1.5.0",
            "_model_name": "FloatProgressModel",
            "_view_count": null,
            "_view_module": "@jupyter-widgets/controls",
            "_view_module_version": "1.5.0",
            "_view_name": "ProgressView",
            "bar_style": "success",
            "description": "",
            "description_tooltip": null,
            "layout": "IPY_MODEL_d7e4f72b1f8c43d994b46b4b2417db30",
            "max": 231508,
            "min": 0,
            "orientation": "horizontal",
            "style": "IPY_MODEL_9387c207ec4d4cac9e7fb89f1c3b0491",
            "value": 231508
          }
        },
        "22b0c35c795941568ac9b088ceb7aa31": {
          "model_module": "@jupyter-widgets/controls",
          "model_name": "HTMLModel",
          "model_module_version": "1.5.0",
          "state": {
            "_dom_classes": [],
            "_model_module": "@jupyter-widgets/controls",
            "_model_module_version": "1.5.0",
            "_model_name": "HTMLModel",
            "_view_count": null,
            "_view_module": "@jupyter-widgets/controls",
            "_view_module_version": "1.5.0",
            "_view_name": "HTMLView",
            "description": "",
            "description_tooltip": null,
            "layout": "IPY_MODEL_8d53515f669b473098bb1e07d7b41c34",
            "placeholder": "​",
            "style": "IPY_MODEL_f1c3a9162a5148d4b7dce8b5bbb20f32",
            "value": " 232k/232k [00:00&lt;00:00, 2.28MB/s]"
          }
        },
        "e9f7e811c19945cbaf5c9ddb0373a838": {
          "model_module": "@jupyter-widgets/base",
          "model_name": "LayoutModel",
          "model_module_version": "1.2.0",
          "state": {
            "_model_module": "@jupyter-widgets/base",
            "_model_module_version": "1.2.0",
            "_model_name": "LayoutModel",
            "_view_count": null,
            "_view_module": "@jupyter-widgets/base",
            "_view_module_version": "1.2.0",
            "_view_name": "LayoutView",
            "align_content": null,
            "align_items": null,
            "align_self": null,
            "border": null,
            "bottom": null,
            "display": null,
            "flex": null,
            "flex_flow": null,
            "grid_area": null,
            "grid_auto_columns": null,
            "grid_auto_flow": null,
            "grid_auto_rows": null,
            "grid_column": null,
            "grid_gap": null,
            "grid_row": null,
            "grid_template_areas": null,
            "grid_template_columns": null,
            "grid_template_rows": null,
            "height": null,
            "justify_content": null,
            "justify_items": null,
            "left": null,
            "margin": null,
            "max_height": null,
            "max_width": null,
            "min_height": null,
            "min_width": null,
            "object_fit": null,
            "object_position": null,
            "order": null,
            "overflow": null,
            "overflow_x": null,
            "overflow_y": null,
            "padding": null,
            "right": null,
            "top": null,
            "visibility": null,
            "width": null
          }
        },
        "e55651eef7594e7bb9cdb095944c08b4": {
          "model_module": "@jupyter-widgets/base",
          "model_name": "LayoutModel",
          "model_module_version": "1.2.0",
          "state": {
            "_model_module": "@jupyter-widgets/base",
            "_model_module_version": "1.2.0",
            "_model_name": "LayoutModel",
            "_view_count": null,
            "_view_module": "@jupyter-widgets/base",
            "_view_module_version": "1.2.0",
            "_view_name": "LayoutView",
            "align_content": null,
            "align_items": null,
            "align_self": null,
            "border": null,
            "bottom": null,
            "display": null,
            "flex": null,
            "flex_flow": null,
            "grid_area": null,
            "grid_auto_columns": null,
            "grid_auto_flow": null,
            "grid_auto_rows": null,
            "grid_column": null,
            "grid_gap": null,
            "grid_row": null,
            "grid_template_areas": null,
            "grid_template_columns": null,
            "grid_template_rows": null,
            "height": null,
            "justify_content": null,
            "justify_items": null,
            "left": null,
            "margin": null,
            "max_height": null,
            "max_width": null,
            "min_height": null,
            "min_width": null,
            "object_fit": null,
            "object_position": null,
            "order": null,
            "overflow": null,
            "overflow_x": null,
            "overflow_y": null,
            "padding": null,
            "right": null,
            "top": null,
            "visibility": null,
            "width": null
          }
        },
        "b6edb32612264fffb53b2422f2b1b970": {
          "model_module": "@jupyter-widgets/controls",
          "model_name": "DescriptionStyleModel",
          "model_module_version": "1.5.0",
          "state": {
            "_model_module": "@jupyter-widgets/controls",
            "_model_module_version": "1.5.0",
            "_model_name": "DescriptionStyleModel",
            "_view_count": null,
            "_view_module": "@jupyter-widgets/base",
            "_view_module_version": "1.2.0",
            "_view_name": "StyleView",
            "description_width": ""
          }
        },
        "d7e4f72b1f8c43d994b46b4b2417db30": {
          "model_module": "@jupyter-widgets/base",
          "model_name": "LayoutModel",
          "model_module_version": "1.2.0",
          "state": {
            "_model_module": "@jupyter-widgets/base",
            "_model_module_version": "1.2.0",
            "_model_name": "LayoutModel",
            "_view_count": null,
            "_view_module": "@jupyter-widgets/base",
            "_view_module_version": "1.2.0",
            "_view_name": "LayoutView",
            "align_content": null,
            "align_items": null,
            "align_self": null,
            "border": null,
            "bottom": null,
            "display": null,
            "flex": null,
            "flex_flow": null,
            "grid_area": null,
            "grid_auto_columns": null,
            "grid_auto_flow": null,
            "grid_auto_rows": null,
            "grid_column": null,
            "grid_gap": null,
            "grid_row": null,
            "grid_template_areas": null,
            "grid_template_columns": null,
            "grid_template_rows": null,
            "height": null,
            "justify_content": null,
            "justify_items": null,
            "left": null,
            "margin": null,
            "max_height": null,
            "max_width": null,
            "min_height": null,
            "min_width": null,
            "object_fit": null,
            "object_position": null,
            "order": null,
            "overflow": null,
            "overflow_x": null,
            "overflow_y": null,
            "padding": null,
            "right": null,
            "top": null,
            "visibility": null,
            "width": null
          }
        },
        "9387c207ec4d4cac9e7fb89f1c3b0491": {
          "model_module": "@jupyter-widgets/controls",
          "model_name": "ProgressStyleModel",
          "model_module_version": "1.5.0",
          "state": {
            "_model_module": "@jupyter-widgets/controls",
            "_model_module_version": "1.5.0",
            "_model_name": "ProgressStyleModel",
            "_view_count": null,
            "_view_module": "@jupyter-widgets/base",
            "_view_module_version": "1.2.0",
            "_view_name": "StyleView",
            "bar_color": null,
            "description_width": ""
          }
        },
        "8d53515f669b473098bb1e07d7b41c34": {
          "model_module": "@jupyter-widgets/base",
          "model_name": "LayoutModel",
          "model_module_version": "1.2.0",
          "state": {
            "_model_module": "@jupyter-widgets/base",
            "_model_module_version": "1.2.0",
            "_model_name": "LayoutModel",
            "_view_count": null,
            "_view_module": "@jupyter-widgets/base",
            "_view_module_version": "1.2.0",
            "_view_name": "LayoutView",
            "align_content": null,
            "align_items": null,
            "align_self": null,
            "border": null,
            "bottom": null,
            "display": null,
            "flex": null,
            "flex_flow": null,
            "grid_area": null,
            "grid_auto_columns": null,
            "grid_auto_flow": null,
            "grid_auto_rows": null,
            "grid_column": null,
            "grid_gap": null,
            "grid_row": null,
            "grid_template_areas": null,
            "grid_template_columns": null,
            "grid_template_rows": null,
            "height": null,
            "justify_content": null,
            "justify_items": null,
            "left": null,
            "margin": null,
            "max_height": null,
            "max_width": null,
            "min_height": null,
            "min_width": null,
            "object_fit": null,
            "object_position": null,
            "order": null,
            "overflow": null,
            "overflow_x": null,
            "overflow_y": null,
            "padding": null,
            "right": null,
            "top": null,
            "visibility": null,
            "width": null
          }
        },
        "f1c3a9162a5148d4b7dce8b5bbb20f32": {
          "model_module": "@jupyter-widgets/controls",
          "model_name": "DescriptionStyleModel",
          "model_module_version": "1.5.0",
          "state": {
            "_model_module": "@jupyter-widgets/controls",
            "_model_module_version": "1.5.0",
            "_model_name": "DescriptionStyleModel",
            "_view_count": null,
            "_view_module": "@jupyter-widgets/base",
            "_view_module_version": "1.2.0",
            "_view_name": "StyleView",
            "description_width": ""
          }
        },
        "e468ea8f5896401d979a67a37b34310a": {
          "model_module": "@jupyter-widgets/controls",
          "model_name": "HBoxModel",
          "model_module_version": "1.5.0",
          "state": {
            "_dom_classes": [],
            "_model_module": "@jupyter-widgets/controls",
            "_model_module_version": "1.5.0",
            "_model_name": "HBoxModel",
            "_view_count": null,
            "_view_module": "@jupyter-widgets/controls",
            "_view_module_version": "1.5.0",
            "_view_name": "HBoxView",
            "box_style": "",
            "children": [
              "IPY_MODEL_328026e929a44117998308b54951f3a8",
              "IPY_MODEL_a3fce74aa4ed477f8ba842571b3531dc",
              "IPY_MODEL_951441d23d9648ecb12adc4f0bf18701"
            ],
            "layout": "IPY_MODEL_9750e290f8774fd89497c5c4d4fe21ec"
          }
        },
        "328026e929a44117998308b54951f3a8": {
          "model_module": "@jupyter-widgets/controls",
          "model_name": "HTMLModel",
          "model_module_version": "1.5.0",
          "state": {
            "_dom_classes": [],
            "_model_module": "@jupyter-widgets/controls",
            "_model_module_version": "1.5.0",
            "_model_name": "HTMLModel",
            "_view_count": null,
            "_view_module": "@jupyter-widgets/controls",
            "_view_module_version": "1.5.0",
            "_view_name": "HTMLView",
            "description": "",
            "description_tooltip": null,
            "layout": "IPY_MODEL_205735609a85447e927f668c275ebbc8",
            "placeholder": "​",
            "style": "IPY_MODEL_d87b04e5f0f642a182204678e9b5abad",
            "value": "tokenizer.json: 100%"
          }
        },
        "a3fce74aa4ed477f8ba842571b3531dc": {
          "model_module": "@jupyter-widgets/controls",
          "model_name": "FloatProgressModel",
          "model_module_version": "1.5.0",
          "state": {
            "_dom_classes": [],
            "_model_module": "@jupyter-widgets/controls",
            "_model_module_version": "1.5.0",
            "_model_name": "FloatProgressModel",
            "_view_count": null,
            "_view_module": "@jupyter-widgets/controls",
            "_view_module_version": "1.5.0",
            "_view_name": "ProgressView",
            "bar_style": "success",
            "description": "",
            "description_tooltip": null,
            "layout": "IPY_MODEL_15b5e553707947c3afe7e372fb8e0e50",
            "max": 466062,
            "min": 0,
            "orientation": "horizontal",
            "style": "IPY_MODEL_1a5360654bd14d378693267d12dbf033",
            "value": 466062
          }
        },
        "951441d23d9648ecb12adc4f0bf18701": {
          "model_module": "@jupyter-widgets/controls",
          "model_name": "HTMLModel",
          "model_module_version": "1.5.0",
          "state": {
            "_dom_classes": [],
            "_model_module": "@jupyter-widgets/controls",
            "_model_module_version": "1.5.0",
            "_model_name": "HTMLModel",
            "_view_count": null,
            "_view_module": "@jupyter-widgets/controls",
            "_view_module_version": "1.5.0",
            "_view_name": "HTMLView",
            "description": "",
            "description_tooltip": null,
            "layout": "IPY_MODEL_c1f0e310885143ba9e9979f061be9150",
            "placeholder": "​",
            "style": "IPY_MODEL_7f48034ebb174620aa62b68e0d70c3a6",
            "value": " 466k/466k [00:00&lt;00:00, 7.62MB/s]"
          }
        },
        "9750e290f8774fd89497c5c4d4fe21ec": {
          "model_module": "@jupyter-widgets/base",
          "model_name": "LayoutModel",
          "model_module_version": "1.2.0",
          "state": {
            "_model_module": "@jupyter-widgets/base",
            "_model_module_version": "1.2.0",
            "_model_name": "LayoutModel",
            "_view_count": null,
            "_view_module": "@jupyter-widgets/base",
            "_view_module_version": "1.2.0",
            "_view_name": "LayoutView",
            "align_content": null,
            "align_items": null,
            "align_self": null,
            "border": null,
            "bottom": null,
            "display": null,
            "flex": null,
            "flex_flow": null,
            "grid_area": null,
            "grid_auto_columns": null,
            "grid_auto_flow": null,
            "grid_auto_rows": null,
            "grid_column": null,
            "grid_gap": null,
            "grid_row": null,
            "grid_template_areas": null,
            "grid_template_columns": null,
            "grid_template_rows": null,
            "height": null,
            "justify_content": null,
            "justify_items": null,
            "left": null,
            "margin": null,
            "max_height": null,
            "max_width": null,
            "min_height": null,
            "min_width": null,
            "object_fit": null,
            "object_position": null,
            "order": null,
            "overflow": null,
            "overflow_x": null,
            "overflow_y": null,
            "padding": null,
            "right": null,
            "top": null,
            "visibility": null,
            "width": null
          }
        },
        "205735609a85447e927f668c275ebbc8": {
          "model_module": "@jupyter-widgets/base",
          "model_name": "LayoutModel",
          "model_module_version": "1.2.0",
          "state": {
            "_model_module": "@jupyter-widgets/base",
            "_model_module_version": "1.2.0",
            "_model_name": "LayoutModel",
            "_view_count": null,
            "_view_module": "@jupyter-widgets/base",
            "_view_module_version": "1.2.0",
            "_view_name": "LayoutView",
            "align_content": null,
            "align_items": null,
            "align_self": null,
            "border": null,
            "bottom": null,
            "display": null,
            "flex": null,
            "flex_flow": null,
            "grid_area": null,
            "grid_auto_columns": null,
            "grid_auto_flow": null,
            "grid_auto_rows": null,
            "grid_column": null,
            "grid_gap": null,
            "grid_row": null,
            "grid_template_areas": null,
            "grid_template_columns": null,
            "grid_template_rows": null,
            "height": null,
            "justify_content": null,
            "justify_items": null,
            "left": null,
            "margin": null,
            "max_height": null,
            "max_width": null,
            "min_height": null,
            "min_width": null,
            "object_fit": null,
            "object_position": null,
            "order": null,
            "overflow": null,
            "overflow_x": null,
            "overflow_y": null,
            "padding": null,
            "right": null,
            "top": null,
            "visibility": null,
            "width": null
          }
        },
        "d87b04e5f0f642a182204678e9b5abad": {
          "model_module": "@jupyter-widgets/controls",
          "model_name": "DescriptionStyleModel",
          "model_module_version": "1.5.0",
          "state": {
            "_model_module": "@jupyter-widgets/controls",
            "_model_module_version": "1.5.0",
            "_model_name": "DescriptionStyleModel",
            "_view_count": null,
            "_view_module": "@jupyter-widgets/base",
            "_view_module_version": "1.2.0",
            "_view_name": "StyleView",
            "description_width": ""
          }
        },
        "15b5e553707947c3afe7e372fb8e0e50": {
          "model_module": "@jupyter-widgets/base",
          "model_name": "LayoutModel",
          "model_module_version": "1.2.0",
          "state": {
            "_model_module": "@jupyter-widgets/base",
            "_model_module_version": "1.2.0",
            "_model_name": "LayoutModel",
            "_view_count": null,
            "_view_module": "@jupyter-widgets/base",
            "_view_module_version": "1.2.0",
            "_view_name": "LayoutView",
            "align_content": null,
            "align_items": null,
            "align_self": null,
            "border": null,
            "bottom": null,
            "display": null,
            "flex": null,
            "flex_flow": null,
            "grid_area": null,
            "grid_auto_columns": null,
            "grid_auto_flow": null,
            "grid_auto_rows": null,
            "grid_column": null,
            "grid_gap": null,
            "grid_row": null,
            "grid_template_areas": null,
            "grid_template_columns": null,
            "grid_template_rows": null,
            "height": null,
            "justify_content": null,
            "justify_items": null,
            "left": null,
            "margin": null,
            "max_height": null,
            "max_width": null,
            "min_height": null,
            "min_width": null,
            "object_fit": null,
            "object_position": null,
            "order": null,
            "overflow": null,
            "overflow_x": null,
            "overflow_y": null,
            "padding": null,
            "right": null,
            "top": null,
            "visibility": null,
            "width": null
          }
        },
        "1a5360654bd14d378693267d12dbf033": {
          "model_module": "@jupyter-widgets/controls",
          "model_name": "ProgressStyleModel",
          "model_module_version": "1.5.0",
          "state": {
            "_model_module": "@jupyter-widgets/controls",
            "_model_module_version": "1.5.0",
            "_model_name": "ProgressStyleModel",
            "_view_count": null,
            "_view_module": "@jupyter-widgets/base",
            "_view_module_version": "1.2.0",
            "_view_name": "StyleView",
            "bar_color": null,
            "description_width": ""
          }
        },
        "c1f0e310885143ba9e9979f061be9150": {
          "model_module": "@jupyter-widgets/base",
          "model_name": "LayoutModel",
          "model_module_version": "1.2.0",
          "state": {
            "_model_module": "@jupyter-widgets/base",
            "_model_module_version": "1.2.0",
            "_model_name": "LayoutModel",
            "_view_count": null,
            "_view_module": "@jupyter-widgets/base",
            "_view_module_version": "1.2.0",
            "_view_name": "LayoutView",
            "align_content": null,
            "align_items": null,
            "align_self": null,
            "border": null,
            "bottom": null,
            "display": null,
            "flex": null,
            "flex_flow": null,
            "grid_area": null,
            "grid_auto_columns": null,
            "grid_auto_flow": null,
            "grid_auto_rows": null,
            "grid_column": null,
            "grid_gap": null,
            "grid_row": null,
            "grid_template_areas": null,
            "grid_template_columns": null,
            "grid_template_rows": null,
            "height": null,
            "justify_content": null,
            "justify_items": null,
            "left": null,
            "margin": null,
            "max_height": null,
            "max_width": null,
            "min_height": null,
            "min_width": null,
            "object_fit": null,
            "object_position": null,
            "order": null,
            "overflow": null,
            "overflow_x": null,
            "overflow_y": null,
            "padding": null,
            "right": null,
            "top": null,
            "visibility": null,
            "width": null
          }
        },
        "7f48034ebb174620aa62b68e0d70c3a6": {
          "model_module": "@jupyter-widgets/controls",
          "model_name": "DescriptionStyleModel",
          "model_module_version": "1.5.0",
          "state": {
            "_model_module": "@jupyter-widgets/controls",
            "_model_module_version": "1.5.0",
            "_model_name": "DescriptionStyleModel",
            "_view_count": null,
            "_view_module": "@jupyter-widgets/base",
            "_view_module_version": "1.2.0",
            "_view_name": "StyleView",
            "description_width": ""
          }
        },
        "c59b2747c79d4155b16479787580356c": {
          "model_module": "@jupyter-widgets/controls",
          "model_name": "HBoxModel",
          "model_module_version": "1.5.0",
          "state": {
            "_dom_classes": [],
            "_model_module": "@jupyter-widgets/controls",
            "_model_module_version": "1.5.0",
            "_model_name": "HBoxModel",
            "_view_count": null,
            "_view_module": "@jupyter-widgets/controls",
            "_view_module_version": "1.5.0",
            "_view_name": "HBoxView",
            "box_style": "",
            "children": [
              "IPY_MODEL_62107cf5469b44bbb30d90d95c9c3f59",
              "IPY_MODEL_a5d7b966153a4485967d9376f4a668a5",
              "IPY_MODEL_8043bea9d0bd4aa391c4f9cb1fcf3c81"
            ],
            "layout": "IPY_MODEL_6fd9076ad7e945be9bb08ed8c4f7f982"
          }
        },
        "62107cf5469b44bbb30d90d95c9c3f59": {
          "model_module": "@jupyter-widgets/controls",
          "model_name": "HTMLModel",
          "model_module_version": "1.5.0",
          "state": {
            "_dom_classes": [],
            "_model_module": "@jupyter-widgets/controls",
            "_model_module_version": "1.5.0",
            "_model_name": "HTMLModel",
            "_view_count": null,
            "_view_module": "@jupyter-widgets/controls",
            "_view_module_version": "1.5.0",
            "_view_name": "HTMLView",
            "description": "",
            "description_tooltip": null,
            "layout": "IPY_MODEL_8c197ddcc0004777a6e8cb66d5ac38ed",
            "placeholder": "​",
            "style": "IPY_MODEL_f399c00c5324445e8bbc153c87047617",
            "value": "config.json: 100%"
          }
        },
        "a5d7b966153a4485967d9376f4a668a5": {
          "model_module": "@jupyter-widgets/controls",
          "model_name": "FloatProgressModel",
          "model_module_version": "1.5.0",
          "state": {
            "_dom_classes": [],
            "_model_module": "@jupyter-widgets/controls",
            "_model_module_version": "1.5.0",
            "_model_name": "FloatProgressModel",
            "_view_count": null,
            "_view_module": "@jupyter-widgets/controls",
            "_view_module_version": "1.5.0",
            "_view_name": "ProgressView",
            "bar_style": "success",
            "description": "",
            "description_tooltip": null,
            "layout": "IPY_MODEL_f82c80a95a4a4fb7b0739af1059aff9f",
            "max": 570,
            "min": 0,
            "orientation": "horizontal",
            "style": "IPY_MODEL_da899a2e10ca49f5bdaa1d220757ae69",
            "value": 570
          }
        },
        "8043bea9d0bd4aa391c4f9cb1fcf3c81": {
          "model_module": "@jupyter-widgets/controls",
          "model_name": "HTMLModel",
          "model_module_version": "1.5.0",
          "state": {
            "_dom_classes": [],
            "_model_module": "@jupyter-widgets/controls",
            "_model_module_version": "1.5.0",
            "_model_name": "HTMLModel",
            "_view_count": null,
            "_view_module": "@jupyter-widgets/controls",
            "_view_module_version": "1.5.0",
            "_view_name": "HTMLView",
            "description": "",
            "description_tooltip": null,
            "layout": "IPY_MODEL_2ea4965c9f81478ea443f6f73890d2d6",
            "placeholder": "​",
            "style": "IPY_MODEL_3133bea95e7f45398102df9efa8453fe",
            "value": " 570/570 [00:00&lt;00:00, 7.16kB/s]"
          }
        },
        "6fd9076ad7e945be9bb08ed8c4f7f982": {
          "model_module": "@jupyter-widgets/base",
          "model_name": "LayoutModel",
          "model_module_version": "1.2.0",
          "state": {
            "_model_module": "@jupyter-widgets/base",
            "_model_module_version": "1.2.0",
            "_model_name": "LayoutModel",
            "_view_count": null,
            "_view_module": "@jupyter-widgets/base",
            "_view_module_version": "1.2.0",
            "_view_name": "LayoutView",
            "align_content": null,
            "align_items": null,
            "align_self": null,
            "border": null,
            "bottom": null,
            "display": null,
            "flex": null,
            "flex_flow": null,
            "grid_area": null,
            "grid_auto_columns": null,
            "grid_auto_flow": null,
            "grid_auto_rows": null,
            "grid_column": null,
            "grid_gap": null,
            "grid_row": null,
            "grid_template_areas": null,
            "grid_template_columns": null,
            "grid_template_rows": null,
            "height": null,
            "justify_content": null,
            "justify_items": null,
            "left": null,
            "margin": null,
            "max_height": null,
            "max_width": null,
            "min_height": null,
            "min_width": null,
            "object_fit": null,
            "object_position": null,
            "order": null,
            "overflow": null,
            "overflow_x": null,
            "overflow_y": null,
            "padding": null,
            "right": null,
            "top": null,
            "visibility": null,
            "width": null
          }
        },
        "8c197ddcc0004777a6e8cb66d5ac38ed": {
          "model_module": "@jupyter-widgets/base",
          "model_name": "LayoutModel",
          "model_module_version": "1.2.0",
          "state": {
            "_model_module": "@jupyter-widgets/base",
            "_model_module_version": "1.2.0",
            "_model_name": "LayoutModel",
            "_view_count": null,
            "_view_module": "@jupyter-widgets/base",
            "_view_module_version": "1.2.0",
            "_view_name": "LayoutView",
            "align_content": null,
            "align_items": null,
            "align_self": null,
            "border": null,
            "bottom": null,
            "display": null,
            "flex": null,
            "flex_flow": null,
            "grid_area": null,
            "grid_auto_columns": null,
            "grid_auto_flow": null,
            "grid_auto_rows": null,
            "grid_column": null,
            "grid_gap": null,
            "grid_row": null,
            "grid_template_areas": null,
            "grid_template_columns": null,
            "grid_template_rows": null,
            "height": null,
            "justify_content": null,
            "justify_items": null,
            "left": null,
            "margin": null,
            "max_height": null,
            "max_width": null,
            "min_height": null,
            "min_width": null,
            "object_fit": null,
            "object_position": null,
            "order": null,
            "overflow": null,
            "overflow_x": null,
            "overflow_y": null,
            "padding": null,
            "right": null,
            "top": null,
            "visibility": null,
            "width": null
          }
        },
        "f399c00c5324445e8bbc153c87047617": {
          "model_module": "@jupyter-widgets/controls",
          "model_name": "DescriptionStyleModel",
          "model_module_version": "1.5.0",
          "state": {
            "_model_module": "@jupyter-widgets/controls",
            "_model_module_version": "1.5.0",
            "_model_name": "DescriptionStyleModel",
            "_view_count": null,
            "_view_module": "@jupyter-widgets/base",
            "_view_module_version": "1.2.0",
            "_view_name": "StyleView",
            "description_width": ""
          }
        },
        "f82c80a95a4a4fb7b0739af1059aff9f": {
          "model_module": "@jupyter-widgets/base",
          "model_name": "LayoutModel",
          "model_module_version": "1.2.0",
          "state": {
            "_model_module": "@jupyter-widgets/base",
            "_model_module_version": "1.2.0",
            "_model_name": "LayoutModel",
            "_view_count": null,
            "_view_module": "@jupyter-widgets/base",
            "_view_module_version": "1.2.0",
            "_view_name": "LayoutView",
            "align_content": null,
            "align_items": null,
            "align_self": null,
            "border": null,
            "bottom": null,
            "display": null,
            "flex": null,
            "flex_flow": null,
            "grid_area": null,
            "grid_auto_columns": null,
            "grid_auto_flow": null,
            "grid_auto_rows": null,
            "grid_column": null,
            "grid_gap": null,
            "grid_row": null,
            "grid_template_areas": null,
            "grid_template_columns": null,
            "grid_template_rows": null,
            "height": null,
            "justify_content": null,
            "justify_items": null,
            "left": null,
            "margin": null,
            "max_height": null,
            "max_width": null,
            "min_height": null,
            "min_width": null,
            "object_fit": null,
            "object_position": null,
            "order": null,
            "overflow": null,
            "overflow_x": null,
            "overflow_y": null,
            "padding": null,
            "right": null,
            "top": null,
            "visibility": null,
            "width": null
          }
        },
        "da899a2e10ca49f5bdaa1d220757ae69": {
          "model_module": "@jupyter-widgets/controls",
          "model_name": "ProgressStyleModel",
          "model_module_version": "1.5.0",
          "state": {
            "_model_module": "@jupyter-widgets/controls",
            "_model_module_version": "1.5.0",
            "_model_name": "ProgressStyleModel",
            "_view_count": null,
            "_view_module": "@jupyter-widgets/base",
            "_view_module_version": "1.2.0",
            "_view_name": "StyleView",
            "bar_color": null,
            "description_width": ""
          }
        },
        "2ea4965c9f81478ea443f6f73890d2d6": {
          "model_module": "@jupyter-widgets/base",
          "model_name": "LayoutModel",
          "model_module_version": "1.2.0",
          "state": {
            "_model_module": "@jupyter-widgets/base",
            "_model_module_version": "1.2.0",
            "_model_name": "LayoutModel",
            "_view_count": null,
            "_view_module": "@jupyter-widgets/base",
            "_view_module_version": "1.2.0",
            "_view_name": "LayoutView",
            "align_content": null,
            "align_items": null,
            "align_self": null,
            "border": null,
            "bottom": null,
            "display": null,
            "flex": null,
            "flex_flow": null,
            "grid_area": null,
            "grid_auto_columns": null,
            "grid_auto_flow": null,
            "grid_auto_rows": null,
            "grid_column": null,
            "grid_gap": null,
            "grid_row": null,
            "grid_template_areas": null,
            "grid_template_columns": null,
            "grid_template_rows": null,
            "height": null,
            "justify_content": null,
            "justify_items": null,
            "left": null,
            "margin": null,
            "max_height": null,
            "max_width": null,
            "min_height": null,
            "min_width": null,
            "object_fit": null,
            "object_position": null,
            "order": null,
            "overflow": null,
            "overflow_x": null,
            "overflow_y": null,
            "padding": null,
            "right": null,
            "top": null,
            "visibility": null,
            "width": null
          }
        },
        "3133bea95e7f45398102df9efa8453fe": {
          "model_module": "@jupyter-widgets/controls",
          "model_name": "DescriptionStyleModel",
          "model_module_version": "1.5.0",
          "state": {
            "_model_module": "@jupyter-widgets/controls",
            "_model_module_version": "1.5.0",
            "_model_name": "DescriptionStyleModel",
            "_view_count": null,
            "_view_module": "@jupyter-widgets/base",
            "_view_module_version": "1.2.0",
            "_view_name": "StyleView",
            "description_width": ""
          }
        }
      }
    }
  },
  "cells": [
    {
      "cell_type": "markdown",
      "source": [
        "# <font color=\"#0b486b\">  FIT5215: Deep Learning (2024) - Assignment 2 (Main Part)</font>\n",
        "***\n",
        "*CE/Lecturer (Clayton):*  **Dr Trung Le** | trunglm@monash.edu <br/>\n",
        "*Lecturer (Clayton):* **Prof Dinh Phung** | dinh.phung@monash.edu <br/>\n",
        "*Lecturer (Malaysia):*  **Dr Arghya Pal** | arghya.pal@monash.edu <br/>\n",
        "*Lecturer (Malaysia):*  **Dr Lim Chern Hong** | lim.chernhong@monash.edu <br/>  <br/>\n",
        "*Head Tutor 3181:*  **Miss Vy Vo** |  \\[v.vo@monash.edu \\] <br/>\n",
        "*Head Tutor 5215:*  **Dr Van Nguyen** |  \\[van.nguyen1@monash.edu \\]\n",
        "\n",
        "<br/> <br/>\n",
        "Faculty of Information Technology, Monash University, Australia\n",
        "***"
      ],
      "metadata": {
        "id": "qEHyseHxA8q4"
      }
    },
    {
      "cell_type": "markdown",
      "source": [
        "# <font color=\"#0b486b\">  Student Information</font>\n",
        "***\n",
        "Surname: **[Kim]**  <br/>\n",
        "Firstname: **[Jee Eun]**    <br/>\n",
        "Student ID: **[34207147]**    <br/>\n",
        "Email: **[jkim0094@student.monash.edu]**    <br/>\n",
        "Your tutorial time: **[THU 16:00-18:00]**    <br/>\n",
        "***"
      ],
      "metadata": {
        "id": "QqMi8gdDBD1L"
      }
    },
    {
      "cell_type": "markdown",
      "source": [
        "# <font color=\"0b486b\">Assignment 2 – Deep Learning for Sequential Data</font>\n",
        "### Due: <font color=\"red\">11:55pm Sunday, 20 October 2024</font> (FIT5215)\n",
        "\n",
        "#### <font color=\"red\">Important note:</font> This is an **individual** assignment. It contributes **20%** to your final mark. Read the assignment instructions carefully."
      ],
      "metadata": {
        "id": "7e8EwkVtGva7"
      }
    },
    {
      "cell_type": "markdown",
      "source": [
        "## <font color=\"#0b486b\">Assignment 2's Organization</font>\n",
        "This assignment 2 has two (2) sections:\n",
        "- Section 1: Fundamentals of RNNs (10 marks).\n",
        "- Section 2: Deep Learning for Sequential Data (90 marks). This section is further divided into 4 parts.\n",
        "\n",
        "The assignment 2 is organized in three (3) notebooks.\n",
        "- Notebook 1 (this notebook) [Total: 30 marks] includes Section 1 as well as Part 1 and Part 2 of Section 2.\n",
        "- Notebook 2 ([link](https://colab.research.google.com/drive/1m0mh9Mk4-AKEhgAHRwQdl5mc0x7SF7Tv?usp=sharing)) [Total: 40 marks] includes Part 3 of Section 2.\n",
        "- Notebook 3 ([link](https://colab.research.google.com/drive/1JfMZeCkkvjZ5LvKNV-UnR10pl-RogMgF?usp=sharing)) [Total: 30 marks] includes Part 4 of Section 2.\n"
      ],
      "metadata": {
        "id": "PF8vqRzTCEsm"
      }
    },
    {
      "cell_type": "markdown",
      "source": [
        "## <font color=\"#0b486b\">What to submit</font>\n",
        "\n",
        "This assignment is to be completed individually and submitted to Moodle unit site. **By the due date, you are required to submit one  <font color=\"red; font-weight:bold\">single zip file, named xxx_assignment02_solution.zip</font> where `xxx` is your student ID, to the corresponding Assignment (Dropbox) in Moodle**. You can use Google Colab to do Assignment 2 but you need to save it to an `*.ipynb` file to submit to the unit Moodle.\n",
        "\n",
        "**More importantly, if you use Google Colab to do this assignment, you need to first make a copy of this notebook on your Google drive**."
      ],
      "metadata": {
        "id": "WnlGo-hGBvlO"
      }
    },
    {
      "cell_type": "markdown",
      "source": [
        "***For example, if your student ID is <font color=\"red; font-weight:bold\">12356</font>, then gather all of your assignment solutions to a folder, create a zip file named <font color=\"red; font-weight:bold\">123456_assignment02_solution.zip</font> and submit this file.***"
      ],
      "metadata": {
        "id": "ZVGeGjkzn4RG"
      }
    },
    {
      "cell_type": "markdown",
      "source": [
        "Within this zip folder, you **must** submit the following files <u>for each part</u>:\n",
        "1.\t**`FIT5215_DeepLearning_Assignment2_Official[Main].ipynb`**:  this is your Python notebook solution source file.\n",
        "1.\t**`FIT5215_DeepLearning_Assignment2_Official[Main].html`**: this is the output of your Python notebook solution *exported* in HTML format.\n",
        "1. **`FIT5215_DeepLearning_Assignment2_Official[RNNs].ipynb`**\n",
        "1. **`FIT5215_DeepLearning_Assignment2_Official[RNNs].html`**\n",
        "1. **`FIT5215_DeepLearning_Assignment2_Official[Transformers].ipynb`**\n",
        "1. **`FIT5215_DeepLearning_Assignment2_Official[Transformers].html`**\n",
        "1.\tAny **extra files or folder** needed to complete your assignment (e.g., images used in your answers).\n",
        "\n"
      ],
      "metadata": {
        "id": "u3J6gGAMn44Z"
      }
    },
    {
      "cell_type": "markdown",
      "source": [
        "## Section 1: Fundamentals in RNNs"
      ],
      "metadata": {
        "id": "LsB3OmMxB4Dh"
      }
    },
    {
      "cell_type": "markdown",
      "source": [
        "You need to **manually** implement a multi-timestep Recurrent Neural Network that can take an input as a 3D tensor `[batch_size, seq_len, input_size]` for a classification task.\n",
        "\n",
        "<div style=\"text-align: right\"><font color=\"red\">[Total: 10 marks]</font></div>"
      ],
      "metadata": {
        "id": "c83ea5R9nh_y"
      }
    },
    {
      "cell_type": "code",
      "source": [
        "import torch"
      ],
      "metadata": {
        "id": "OzH6RTIjExy2"
      },
      "execution_count": 5,
      "outputs": []
    },
    {
      "cell_type": "markdown",
      "source": [
        "We declare the relevant variables."
      ],
      "metadata": {
        "id": "yKlCx1D3rczS"
      }
    },
    {
      "cell_type": "code",
      "source": [
        "input_size = 5\n",
        "seq_len = 4\n",
        "batch_size = 8\n",
        "hidden_size = 3\n",
        "num_classes = 3"
      ],
      "metadata": {
        "id": "C77pPiGBA9IJ"
      },
      "execution_count": 6,
      "outputs": []
    },
    {
      "cell_type": "markdown",
      "source": [
        "We create random inputs (i.e., `inputs`) and random labels (i.e., `random_labels`)."
      ],
      "metadata": {
        "id": "A10tCeyKrkUt"
      }
    },
    {
      "cell_type": "code",
      "source": [
        "inputs = torch.randn(batch_size, seq_len, input_size)\n",
        "random_labels = torch.randint(0, num_classes, (batch_size,))\n",
        "print(inputs.shape)\n",
        "print(random_labels)"
      ],
      "metadata": {
        "colab": {
          "base_uri": "https://localhost:8080/"
        },
        "id": "ybfqj-wBEu0H",
        "outputId": "da16206d-e0da-4a46-e72d-b32d6b17445e"
      },
      "execution_count": 7,
      "outputs": [
        {
          "output_type": "stream",
          "name": "stdout",
          "text": [
            "torch.Size([8, 4, 5])\n",
            "tensor([0, 1, 0, 0, 2, 1, 1, 1])\n"
          ]
        }
      ]
    },
    {
      "cell_type": "markdown",
      "source": [
        "(1) In what follows, we need to declare the model parameters, which include the matrices $U$ (``[input_size, hidden_size]``), W (``[hidden_size, hidden_size]``), $V$ (``[hidden_size, num_classes]``) and the biases $b$ and $c$ for the hidden states and logits respectively.\n",
        "\n",
        "<div style=\"text-align: right\"><font color=\"red\">[2 marks]</font></div>"
      ],
      "metadata": {
        "id": "I7ABTPhyr6wa"
      }
    },
    {
      "cell_type": "code",
      "source": [
        "#Insert your code here\n",
        "U = torch.randn(input_size, hidden_size, requires_grad=True)\n",
        "W = torch.randn(hidden_size, hidden_size, requires_grad=True)\n",
        "b = torch.randn(hidden_size, requires_grad=True)\n",
        "V = torch.randn(hidden_size, num_classes, requires_grad=True)\n",
        "c = torch.randn(num_classes, requires_grad=True)"
      ],
      "metadata": {
        "id": "qzlZtACzsbSR"
      },
      "execution_count": 8,
      "outputs": []
    },
    {
      "cell_type": "markdown",
      "source": [
        "(2) Next you need to write the code to compute `hiddens` which is a 3D tensor of the shape ``[batch_size, seq_len, hidden_size]`` using the formula of the simple/standard RNN cells. You can freely modify the code below.\n",
        "\n",
        "<div style=\"text-align: right\"><font color=\"red\">[2 marks]</font></div>"
      ],
      "metadata": {
        "id": "MW_gal7Us9fK"
      }
    },
    {
      "cell_type": "code",
      "source": [
        "#Initialize hiddens for update.\n",
        "hiddens = torch.zeros(batch_size, seq_len, hidden_size)\n",
        "\n",
        "#Insert your code here\n",
        "h_0 = torch.zeros(batch_size, hidden_size)\n",
        "\n",
        "for t in range(seq_len):\n",
        "    x_t = inputs[:,t,:]\n",
        "    h_prev = h_0 if t == 0 else hiddens[:, t-1, :].clone()\n",
        "    h_t = torch.tanh(x_t @ U + h_prev @ W + b)\n",
        "    hiddens[:, t, :] = h_t\n",
        "\n",
        "print(hiddens)\n",
        "\n"
      ],
      "metadata": {
        "id": "KwxqdXkTtaea",
        "colab": {
          "base_uri": "https://localhost:8080/"
        },
        "outputId": "78adb8b3-abee-4655-a84c-73ffb9307b38"
      },
      "execution_count": 9,
      "outputs": [
        {
          "output_type": "stream",
          "name": "stdout",
          "text": [
            "tensor([[[-0.8744, -0.9039, -0.4067],\n",
            "         [ 0.9476,  0.9903,  0.4458],\n",
            "         [ 0.1018,  0.9847,  0.9791],\n",
            "         [-1.0000,  0.8690, -1.0000]],\n",
            "\n",
            "        [[-0.9539,  0.9807, -0.7998],\n",
            "         [-0.9881,  0.4029,  0.4926],\n",
            "         [-0.9457,  0.6207, -0.3974],\n",
            "         [-0.5773, -0.9901, -0.7327]],\n",
            "\n",
            "        [[-0.9767, -0.7375, -0.0062],\n",
            "         [-0.9939,  0.8710, -0.6237],\n",
            "         [-0.9989,  0.9768, -0.9987],\n",
            "         [-0.9999, -0.9527, -0.9998]],\n",
            "\n",
            "        [[-0.9308, -0.6986, -0.5733],\n",
            "         [ 0.9982, -0.7757,  0.9998],\n",
            "         [-0.2012, -0.9508,  0.7612],\n",
            "         [ 0.9213,  0.9974,  0.1234]],\n",
            "\n",
            "        [[-0.6189, -0.2117, -0.4022],\n",
            "         [-0.9148,  0.6255, -0.9984],\n",
            "         [-0.9911, -0.7571, -0.8756],\n",
            "         [-0.9773, -0.0875, -0.9999]],\n",
            "\n",
            "        [[-0.5503, -0.9936, -0.9731],\n",
            "         [-0.2689, -0.4204, -0.9990],\n",
            "         [ 0.7376, -0.4885,  0.7623],\n",
            "         [ 0.9992, -0.2278,  0.9996]],\n",
            "\n",
            "        [[-0.2700,  1.0000, -0.9309],\n",
            "         [-0.4397,  0.9920,  0.3314],\n",
            "         [-0.8826,  0.6614,  0.9876],\n",
            "         [ 0.3796,  0.8484,  0.9998]],\n",
            "\n",
            "        [[-0.9999,  0.9226, -0.9998],\n",
            "         [-0.8162,  0.8940, -0.8393],\n",
            "         [-0.9993, -0.9965, -1.0000],\n",
            "         [-0.8999,  0.4879, -0.7460]]], grad_fn=<CopySlices>)\n"
          ]
        }
      ]
    },
    {
      "cell_type": "markdown",
      "source": [
        "(3) In what follows, you need to write the code to compute the logits based on the last hidden state (``[batch_size, hidden_size]``) of hiddens.\n",
        "\n",
        "<div style=\"text-align: right\"><font color=\"red\">[1 mark]</font></div>"
      ],
      "metadata": {
        "id": "sC3gaFvLtyUW"
      }
    },
    {
      "cell_type": "code",
      "source": [
        "last_hidden = hiddens[:, -1, :]\n",
        "logits = last_hidden @ V + c\n",
        "\n",
        "print(logits)"
      ],
      "metadata": {
        "id": "Psr-vrw8uCMN",
        "colab": {
          "base_uri": "https://localhost:8080/"
        },
        "outputId": "98350368-be4b-46f6-b73b-07f6775a1606"
      },
      "execution_count": 10,
      "outputs": [
        {
          "output_type": "stream",
          "name": "stdout",
          "text": [
            "tensor([[ 0.9342, -0.5567, -2.8131],\n",
            "        [ 1.9111, -0.7057, -0.4490],\n",
            "        [ 2.1552, -0.9420, -1.5170],\n",
            "        [-0.4641,  0.6190,  1.7402],\n",
            "        [ 1.5469, -0.7399, -2.0911],\n",
            "        [ 1.1115,  0.0562,  3.6252],\n",
            "        [ 1.1659, -0.2393,  1.7221],\n",
            "        [ 1.3113, -0.6598, -2.1059]], grad_fn=<AddBackward0>)\n"
          ]
        }
      ]
    },
    {
      "cell_type": "markdown",
      "source": [
        "(4) Write the code to compute the cross-entropy loss by comparing the logits to the labels. You can use PyTorch's built-in loss function.\n",
        "\n",
        "<div style=\"text-align: right\"><font color=\"red\">[1 mark]</font></div>"
      ],
      "metadata": {
        "id": "3DEJQQz9uKFb"
      }
    },
    {
      "cell_type": "code",
      "source": [
        "#Insert your code here\n",
        "import torch.nn as nn\n",
        "criterion = nn.CrossEntropyLoss()\n",
        "loss = criterion(logits, random_labels)\n",
        "print(loss)"
      ],
      "metadata": {
        "id": "Gyy7lbacuWPR",
        "colab": {
          "base_uri": "https://localhost:8080/"
        },
        "outputId": "a2f6f0eb-a40d-4d7c-b318-b54619dba376"
      },
      "execution_count": 11,
      "outputs": [
        {
          "output_type": "stream",
          "name": "stdout",
          "text": [
            "tensor(2.2112, grad_fn=<NllLossBackward0>)\n"
          ]
        }
      ]
    },
    {
      "cell_type": "markdown",
      "source": [
        "(5) Next, you need to do back-propagation to compute the gradients of the loss w.r.t. the model parameters. You can use PyTorch's built-in method to compute the gradients.\n",
        "\n",
        "<div style=\"text-align: right\"><font color=\"red\">[2 marks]</font></div>"
      ],
      "metadata": {
        "id": "RVt-977bumET"
      }
    },
    {
      "cell_type": "code",
      "source": [
        "# Reset gradients to zero before calculating loss\n",
        "U.grad = None\n",
        "W.grad = None\n",
        "b.grad = None\n",
        "V.grad = None\n",
        "c.grad = None\n",
        "\n",
        "# back-propagation\n",
        "loss.backward()\n",
        "\n",
        "print(\"Gradient for U:\", U.grad)\n",
        "print(\"Gradient for W:\", W.grad)\n",
        "print(\"Gradient for b:\", b.grad)\n",
        "print(\"Gradient for V:\", V.grad)\n",
        "print(\"Gradient for c:\", c.grad)\n"
      ],
      "metadata": {
        "id": "HSpeFroAu6oO",
        "colab": {
          "base_uri": "https://localhost:8080/"
        },
        "outputId": "cae06b68-8f7b-4b81-bf20-4dd7e52b8723"
      },
      "execution_count": 12,
      "outputs": [
        {
          "output_type": "stream",
          "name": "stdout",
          "text": [
            "Gradient for U: tensor([[ 0.0422,  0.2745, -0.0565],\n",
            "        [ 0.0650, -0.2403,  0.0943],\n",
            "        [ 0.0787,  0.1197, -0.4320],\n",
            "        [ 0.1352, -0.0409, -0.1315],\n",
            "        [-0.5446, -0.0170,  0.4367]])\n",
            "Gradient for W: tensor([[ 0.2647, -0.0619, -0.4449],\n",
            "        [-0.1304,  0.1800,  0.2257],\n",
            "        [ 0.1902,  0.0182, -0.2195]])\n",
            "Gradient for b: tensor([-0.1543, -0.1502,  0.4593])\n",
            "Gradient for V: tensor([[-0.3143, -0.0112,  0.3255],\n",
            "        [-0.1592,  0.0345,  0.1246],\n",
            "        [-0.1990, -0.1040,  0.3030]])\n",
            "Gradient for c: tensor([ 0.2269, -0.3965,  0.1695])\n"
          ]
        }
      ]
    },
    {
      "cell_type": "markdown",
      "source": [
        "(6) Finally, let assume that the learning rate $\\eta = 0.1$, you need to write the code to **manually** update the new model parameters using the SGD manner.\n",
        "\n",
        "<div style=\"text-align: right\"><font color=\"red\">[2 marks]</font></div>"
      ],
      "metadata": {
        "id": "bEkHFzOovBx1"
      }
    },
    {
      "cell_type": "code",
      "source": [
        "#Insert your code here\n",
        "\n",
        "learning_rate = 0.1\n",
        "\n",
        "# Update the parameters using SGD\n",
        "with torch.no_grad():  # Disable gradient tracking\n",
        "    U -= learning_rate * U.grad\n",
        "    W -= learning_rate * W.grad\n",
        "    b -= learning_rate * b.grad\n",
        "    V -= learning_rate * V.grad\n",
        "    c -= learning_rate * c.grad\n",
        "\n",
        "print(\"Updated U:\", U)\n",
        "print(\"Updated W:\", W)\n",
        "print(\"Updated b:\", b)\n",
        "print(\"Updated V:\", V)\n",
        "print(\"Updated c:\", c)"
      ],
      "metadata": {
        "id": "2zFSfys8wMqs",
        "colab": {
          "base_uri": "https://localhost:8080/"
        },
        "outputId": "115c40b8-ab5c-4b7c-d9c6-9cfaaffd03d5"
      },
      "execution_count": 13,
      "outputs": [
        {
          "output_type": "stream",
          "name": "stdout",
          "text": [
            "Updated U: tensor([[-1.2766,  1.5639, -1.9501],\n",
            "        [ 1.3045,  1.3361,  1.5362],\n",
            "        [ 0.7960, -0.2036, -0.4492],\n",
            "        [ 0.4933,  0.9249, -0.0267],\n",
            "        [ 0.5089, -0.5977,  0.0254]], requires_grad=True)\n",
            "Updated W: tensor([[ 0.6134, -0.0047, -0.4701],\n",
            "        [-0.9695,  0.2727, -0.2058],\n",
            "        [-0.4159, -0.4682,  1.5165]], requires_grad=True)\n",
            "Updated b: tensor([-1.0872,  0.4169, -1.3193], requires_grad=True)\n",
            "Updated V: tensor([[-1.2201,  0.8453,  1.8040],\n",
            "        [-0.6543,  0.2081, -0.7237],\n",
            "        [ 0.9922, -0.4111,  0.9632]], requires_grad=True)\n",
            "Updated c: tensor([ 1.2147, -0.2781,  0.6180], requires_grad=True)\n"
          ]
        }
      ]
    },
    {
      "cell_type": "markdown",
      "source": [
        "## Section 2: Deep Learning for Sequential Data"
      ],
      "metadata": {
        "id": "rAVPM0BnTdd4"
      }
    },
    {
      "cell_type": "markdown",
      "source": [
        "### <font color=\"#0b486b\">Set random seeds</font>"
      ],
      "metadata": {
        "id": "FAgUSME4TsCP"
      }
    },
    {
      "cell_type": "markdown",
      "source": [
        "We start with importing PyTorch and NumPy and setting random seeds for PyTorch and NumPy. You can use any seeds you prefer."
      ],
      "metadata": {
        "id": "00nhh4IRUcGX"
      }
    },
    {
      "cell_type": "code",
      "source": [
        "import os\n",
        "import torch\n",
        "import random\n",
        "import requests\n",
        "import pandas as pd\n",
        "import numpy as np\n",
        "import torch.nn as nn\n",
        "from torch.utils.data import DataLoader\n",
        "from torch.nn.utils.rnn import pad_sequence\n",
        "from transformers import BertTokenizer\n",
        "import os\n",
        "from six.moves.urllib.request import urlretrieve\n",
        "from sklearn import preprocessing\n",
        "import matplotlib.pyplot as plt\n",
        "plt.style.use('ggplot')"
      ],
      "metadata": {
        "id": "O7XWUry0JXCc"
      },
      "execution_count": 14,
      "outputs": []
    },
    {
      "cell_type": "code",
      "source": [
        "def seed_all(seed=1029):\n",
        "    random.seed(seed)\n",
        "    os.environ['PYTHONHASHSEED'] = str(seed)\n",
        "    np.random.seed(seed)\n",
        "    torch.manual_seed(seed)\n",
        "    torch.cuda.manual_seed(seed)\n",
        "    torch.cuda.manual_seed_all(seed)  # if you are using multi-GPU.\n",
        "    torch.backends.cudnn.benchmark = False\n",
        "    torch.backends.cudnn.deterministic = True\n",
        "seed_all(seed=1234)\n",
        "\n",
        "device = torch.device(\"cuda\" if torch.cuda.is_available() else \"cpu\")"
      ],
      "metadata": {
        "id": "6ZoWqunmUY7L"
      },
      "execution_count": 15,
      "outputs": []
    },
    {
      "cell_type": "markdown",
      "source": [
        "## <font color=\"#0b486b\">Download and preprocess the data</font>\n",
        "\n",
        "<div style=\"text-align: right\"><font color=\"red; font-weight:bold\"><span></div>"
      ],
      "metadata": {
        "id": "6VU1jS6SUl8q"
      }
    },
    {
      "cell_type": "markdown",
      "source": [
        "The dataset we use for this assignment is a question classification dataset for which the training set consists of $5,500$ questions belonging to 6 coarse question categories including:\n",
        "- abbreviation (ABBR),\n",
        "- entity (ENTY),\n",
        "- description (DESC),\n",
        "- human (HUM),\n",
        "- location (LOC) and\n",
        "- numeric (NUM).\n",
        "\n",
        "In this assignment, we will utilize a subset of this dataset, containing $2,000$ questions for training and validation. We will use 80% of those 2000 questions for trainning and the rest for validation.\n"
      ],
      "metadata": {
        "id": "wQEzWmZjUulL"
      }
    },
    {
      "cell_type": "markdown",
      "source": [
        "Preprocessing data is a crucial initial step in any machine learning or deep learning project. The *TextDataManager* class simplifies the process by providing functionalities to download and preprocess data specifically designed for the subsequent questions in this assignment. It is highly recommended to gain a comprehensive understanding of the class's functionality by **carefully reading** the content provided in the *TextDataManager* class before proceeding to answer the questions."
      ],
      "metadata": {
        "id": "zOd49RTpUxxj"
      }
    },
    {
      "cell_type": "code",
      "source": [
        "class DataManager:\n",
        "    \"\"\"\n",
        "    This class manages and preprocesses a simple text dataset for a sentence classification task.\n",
        "\n",
        "    Attributes:\n",
        "        verbose (bool): Controls verbosity for printing information during data processing.\n",
        "        max_sentence_len (int): The maximum length of a sentence in the dataset.\n",
        "        str_questions (list): A list to store the string representations of the questions in the dataset.\n",
        "        str_labels (list): A list to store the string representations of the labels in the dataset.\n",
        "        numeral_labels (list): A list to store the numerical representations of the labels in the dataset.\n",
        "        numeral_data (list): A list to store the numerical representations of the questions in the dataset.\n",
        "        random_state (int): Seed value for random number generation to ensure reproducibility.\n",
        "            Set this value to a specific integer to reproduce the same random sequence every time. Defaults to 6789.\n",
        "        random (np.random.RandomState): Random number generator object initialized with the given random_state.\n",
        "            It is used for various random operations in the class.\n",
        "\n",
        "    Methods:\n",
        "        maybe_download(dir_name, file_name, url, verbose=True):\n",
        "            Downloads a file from a given URL if it does not exist in the specified directory.\n",
        "            The directory and file are created if they do not exist.\n",
        "\n",
        "        read_data(dir_name, file_names):\n",
        "            Reads data from files in a directory, preprocesses it, and computes the maximum sentence length.\n",
        "            Each file is expected to contain rows in the format \"<label>:<question>\".\n",
        "            The labels and questions are stored as string representations.\n",
        "\n",
        "        manipulate_data():\n",
        "            Performs data manipulation by tokenizing, numericalizing, and padding the text data.\n",
        "            The questions are tokenized and converted into numerical sequences using a tokenizer.\n",
        "            The sequences are padded or truncated to the maximum sequence length.\n",
        "\n",
        "        train_valid_test_split(train_ratio=0.9):\n",
        "            Splits the data into training, validation, and test sets based on a given ratio.\n",
        "            The data is randomly shuffled, and the specified ratio is used to determine the size of the training set.\n",
        "            The string questions, numerical data, and numerical labels are split accordingly.\n",
        "            TensorFlow `Dataset` objects are created for the training and validation sets.\n",
        "\n",
        "\n",
        "    \"\"\"\n",
        "\n",
        "    def __init__(self, verbose=True, random_state=6789):\n",
        "        self.verbose = verbose\n",
        "        self.max_sentence_len = 0\n",
        "        self.str_questions = list()\n",
        "        self.str_labels = list()\n",
        "        self.numeral_labels = list()\n",
        "        self.maxlen = None\n",
        "        self.numeral_data = list()\n",
        "        self.random_state = random_state\n",
        "        self.random = np.random.RandomState(random_state)\n",
        "\n",
        "    @staticmethod\n",
        "    def maybe_download(dir_name, file_name, url, verbose=True):\n",
        "        if not os.path.exists(dir_name):\n",
        "            os.mkdir(dir_name)\n",
        "        if not os.path.exists(os.path.join(dir_name, file_name)):\n",
        "            urlretrieve(url + file_name, os.path.join(dir_name, file_name))\n",
        "        if verbose:\n",
        "            print(\"Downloaded successfully {}\".format(file_name))\n",
        "\n",
        "    def read_data(self, dir_name, file_names):\n",
        "        self.str_questions = list()\n",
        "        self.str_labels = list()\n",
        "        for file_name in file_names:\n",
        "            file_path= os.path.join(dir_name, file_name)\n",
        "            with open(file_path, \"r\", encoding=\"latin-1\") as f:\n",
        "                for row in f:\n",
        "                    row_str = row.split(\":\")\n",
        "                    label, question = row_str[0], row_str[1]\n",
        "                    question = question.lower()\n",
        "                    self.str_labels.append(label)\n",
        "                    self.str_questions.append(question[0:-1])\n",
        "                    if self.max_sentence_len < len(self.str_questions[-1]):\n",
        "                        self.max_sentence_len = len(self.str_questions[-1])\n",
        "\n",
        "        # turns labels into numbers\n",
        "        le = preprocessing.LabelEncoder()\n",
        "        le.fit(self.str_labels)\n",
        "        self.numeral_labels = np.array(le.transform(self.str_labels))\n",
        "        self.str_classes = le.classes_\n",
        "        self.num_classes = len(self.str_classes)\n",
        "        if self.verbose:\n",
        "            print(\"\\nSample questions and corresponding labels... \\n\")\n",
        "            print(self.str_questions[0:5])\n",
        "            print(self.str_labels[0:5])\n",
        "\n",
        "    def manipulate_data(self):\n",
        "        self.tokenizer = BertTokenizer.from_pretrained('bert-base-uncased')\n",
        "        vocab = self.tokenizer.get_vocab()\n",
        "        self.word2idx = {w: i for i, w in enumerate(vocab)}\n",
        "        self.idx2word = {i:w for w,i in self.word2idx.items()}\n",
        "        self.vocab_size = len(self.word2idx)\n",
        "\n",
        "        token_ids = []\n",
        "        num_seqs = []\n",
        "        for text in self.str_questions:  # iterate over the list of text\n",
        "          text_seqs = self.tokenizer.tokenize(str(text))  # tokenize each text individually\n",
        "          # Convert tokens to IDs\n",
        "          token_ids = self.tokenizer.convert_tokens_to_ids(text_seqs)\n",
        "          # Convert token IDs to a tensor of indices using your word2idx mapping\n",
        "          seq_tensor = torch.LongTensor(token_ids)\n",
        "          num_seqs.append(seq_tensor)  # append the tensor for each sequence\n",
        "\n",
        "        # Pad the sequences and create a tensor\n",
        "        if num_seqs:\n",
        "          self.numeral_data = pad_sequence(num_seqs, batch_first=True)  # Pads to max length of the sequences\n",
        "          self.num_sentences, self.maxlen = self.numeral_data.shape\n",
        "\n",
        "    def train_valid_test_split(self, train_ratio=0.8, test_ratio = 0.1):\n",
        "        train_size = int(self.num_sentences*train_ratio) +1\n",
        "        test_size = int(self.num_sentences*test_ratio) +1\n",
        "        valid_size = self.num_sentences - (train_size + test_size)\n",
        "        data_indices = list(range(self.num_sentences))\n",
        "        random.shuffle(data_indices)\n",
        "        self.train_str_questions = [self.str_questions[i] for i in data_indices[:train_size]]\n",
        "        self.train_numeral_labels = self.numeral_labels[data_indices[:train_size]]\n",
        "        train_set_data = self.numeral_data[data_indices[:train_size]]\n",
        "        train_set_labels = self.numeral_labels[data_indices[:train_size]]\n",
        "        train_set_labels = torch.from_numpy(train_set_labels)\n",
        "        train_set = torch.utils.data.TensorDataset(train_set_data, train_set_labels)\n",
        "        self.test_str_questions = [self.str_questions[i] for i in data_indices[-test_size:]]\n",
        "        self.test_numeral_labels = self.numeral_labels[data_indices[-test_size:]]\n",
        "        test_set_data = self.numeral_data[data_indices[-test_size:]]\n",
        "        test_set_labels = self.numeral_labels[data_indices[-test_size:]]\n",
        "        test_set_labels = torch.from_numpy(test_set_labels)\n",
        "        test_set = torch.utils.data.TensorDataset(test_set_data, test_set_labels)\n",
        "        self.valid_str_questions = [self.str_questions[i] for i in data_indices[train_size:-test_size]]\n",
        "        self.valid_numeral_labels = self.numeral_labels[data_indices[train_size:-test_size]]\n",
        "        valid_set_data = self.numeral_data[data_indices[train_size:-test_size]]\n",
        "        valid_set_labels = self.numeral_labels[data_indices[train_size:-test_size]]\n",
        "        valid_set_labels = torch.from_numpy(valid_set_labels)\n",
        "        valid_set = torch.utils.data.TensorDataset(valid_set_data, valid_set_labels)\n",
        "        self.train_loader = DataLoader(train_set, batch_size=64, shuffle=True)\n",
        "        self.test_loader = DataLoader(test_set, batch_size=64, shuffle=False)\n",
        "        self.valid_loader = DataLoader(valid_set, batch_size=64, shuffle=False)"
      ],
      "metadata": {
        "id": "_C2fuJNzUhha"
      },
      "execution_count": 16,
      "outputs": []
    },
    {
      "cell_type": "code",
      "source": [
        "print('Loading data...')\n",
        "DataManager.maybe_download(\"data\", \"train_2000.label\", \"http://cogcomp.org/Data/QA/QC/\")\n",
        "\n",
        "dm = DataManager()\n",
        "dm.read_data(\"data/\", [\"train_2000.label\"])"
      ],
      "metadata": {
        "colab": {
          "base_uri": "https://localhost:8080/"
        },
        "id": "3npdESj6Vb_t",
        "outputId": "f42ed732-fd5e-4abe-d04d-94c4eec7887e"
      },
      "execution_count": 17,
      "outputs": [
        {
          "output_type": "stream",
          "name": "stdout",
          "text": [
            "Loading data...\n",
            "Downloaded successfully train_2000.label\n",
            "\n",
            "Sample questions and corresponding labels... \n",
            "\n",
            "['manner how did serfdom develop in and then leave russia ?', 'cremat what films featured the character popeye doyle ?', \"manner how can i find a list of celebrities ' real names ?\", 'animal what fowl grabs the spotlight after the chinese year of the monkey ?', 'exp what is the full form of .com ?']\n",
            "['DESC', 'ENTY', 'DESC', 'ENTY', 'ABBR']\n"
          ]
        }
      ]
    },
    {
      "cell_type": "code",
      "source": [
        "dm.manipulate_data()\n",
        "dm.train_valid_test_split(train_ratio=0.8, test_ratio = 0.1)"
      ],
      "metadata": {
        "colab": {
          "base_uri": "https://localhost:8080/",
          "height": 304,
          "referenced_widgets": [
            "744a34ddb4744e95a1e5c8a8edd608c8",
            "2e3f765745be44e5bdee07dfac218a59",
            "29b50185cb284077b3632a2529e36418",
            "be45d6e3bceb45a8b532dac4cb9a3c71",
            "cfff11aba3d546a08667e98b2b748e2d",
            "6bd4d86e3b5d4ebe9469a6932b17c26d",
            "2cdb269ec37a45b1a95cd4d9f89152d2",
            "942e9377cc664c9fb61b8baf2f9c7aba",
            "199bf3b4084741e193b6013fc7f73038",
            "7279ee6766324510a4ee46a78cefa9df",
            "9c0077845dc74eb1b470fa7fe41ae469",
            "2a53d67ce88b4fc9bbcfcdbe25e3fb77",
            "3f0fbfcacb8d459b95e999529b44806a",
            "309c9f9b0644421c96e715f7643a5492",
            "22b0c35c795941568ac9b088ceb7aa31",
            "e9f7e811c19945cbaf5c9ddb0373a838",
            "e55651eef7594e7bb9cdb095944c08b4",
            "b6edb32612264fffb53b2422f2b1b970",
            "d7e4f72b1f8c43d994b46b4b2417db30",
            "9387c207ec4d4cac9e7fb89f1c3b0491",
            "8d53515f669b473098bb1e07d7b41c34",
            "f1c3a9162a5148d4b7dce8b5bbb20f32",
            "e468ea8f5896401d979a67a37b34310a",
            "328026e929a44117998308b54951f3a8",
            "a3fce74aa4ed477f8ba842571b3531dc",
            "951441d23d9648ecb12adc4f0bf18701",
            "9750e290f8774fd89497c5c4d4fe21ec",
            "205735609a85447e927f668c275ebbc8",
            "d87b04e5f0f642a182204678e9b5abad",
            "15b5e553707947c3afe7e372fb8e0e50",
            "1a5360654bd14d378693267d12dbf033",
            "c1f0e310885143ba9e9979f061be9150",
            "7f48034ebb174620aa62b68e0d70c3a6",
            "c59b2747c79d4155b16479787580356c",
            "62107cf5469b44bbb30d90d95c9c3f59",
            "a5d7b966153a4485967d9376f4a668a5",
            "8043bea9d0bd4aa391c4f9cb1fcf3c81",
            "6fd9076ad7e945be9bb08ed8c4f7f982",
            "8c197ddcc0004777a6e8cb66d5ac38ed",
            "f399c00c5324445e8bbc153c87047617",
            "f82c80a95a4a4fb7b0739af1059aff9f",
            "da899a2e10ca49f5bdaa1d220757ae69",
            "2ea4965c9f81478ea443f6f73890d2d6",
            "3133bea95e7f45398102df9efa8453fe"
          ]
        },
        "id": "EgrYZPmyVj60",
        "outputId": "63558d59-9931-4078-d1b0-6f5291a50075"
      },
      "execution_count": 18,
      "outputs": [
        {
          "output_type": "stream",
          "name": "stderr",
          "text": [
            "/usr/local/lib/python3.10/dist-packages/huggingface_hub/utils/_token.py:89: UserWarning: \n",
            "The secret `HF_TOKEN` does not exist in your Colab secrets.\n",
            "To authenticate with the Hugging Face Hub, create a token in your settings tab (https://huggingface.co/settings/tokens), set it as secret in your Google Colab and restart your session.\n",
            "You will be able to reuse this secret in all of your notebooks.\n",
            "Please note that authentication is recommended but still optional to access public models or datasets.\n",
            "  warnings.warn(\n"
          ]
        },
        {
          "output_type": "display_data",
          "data": {
            "text/plain": [
              "tokenizer_config.json:   0%|          | 0.00/48.0 [00:00<?, ?B/s]"
            ],
            "application/vnd.jupyter.widget-view+json": {
              "version_major": 2,
              "version_minor": 0,
              "model_id": "744a34ddb4744e95a1e5c8a8edd608c8"
            }
          },
          "metadata": {}
        },
        {
          "output_type": "display_data",
          "data": {
            "text/plain": [
              "vocab.txt:   0%|          | 0.00/232k [00:00<?, ?B/s]"
            ],
            "application/vnd.jupyter.widget-view+json": {
              "version_major": 2,
              "version_minor": 0,
              "model_id": "2a53d67ce88b4fc9bbcfcdbe25e3fb77"
            }
          },
          "metadata": {}
        },
        {
          "output_type": "display_data",
          "data": {
            "text/plain": [
              "tokenizer.json:   0%|          | 0.00/466k [00:00<?, ?B/s]"
            ],
            "application/vnd.jupyter.widget-view+json": {
              "version_major": 2,
              "version_minor": 0,
              "model_id": "e468ea8f5896401d979a67a37b34310a"
            }
          },
          "metadata": {}
        },
        {
          "output_type": "display_data",
          "data": {
            "text/plain": [
              "config.json:   0%|          | 0.00/570 [00:00<?, ?B/s]"
            ],
            "application/vnd.jupyter.widget-view+json": {
              "version_major": 2,
              "version_minor": 0,
              "model_id": "c59b2747c79d4155b16479787580356c"
            }
          },
          "metadata": {}
        },
        {
          "output_type": "stream",
          "name": "stderr",
          "text": [
            "/usr/local/lib/python3.10/dist-packages/transformers/tokenization_utils_base.py:1601: FutureWarning: `clean_up_tokenization_spaces` was not set. It will be set to `True` by default. This behavior will be depracted in transformers v4.45, and will be then set to `False` by default. For more details check this issue: https://github.com/huggingface/transformers/issues/31884\n",
            "  warnings.warn(\n"
          ]
        }
      ]
    },
    {
      "cell_type": "code",
      "source": [
        "for x, y in dm.train_loader:\n",
        "    print(x.shape, y.shape)\n",
        "    break"
      ],
      "metadata": {
        "colab": {
          "base_uri": "https://localhost:8080/"
        },
        "id": "bH-U0sUMVnW-",
        "outputId": "03f67ea0-c35b-47f2-f84c-a85333bff355"
      },
      "execution_count": 19,
      "outputs": [
        {
          "output_type": "stream",
          "name": "stdout",
          "text": [
            "torch.Size([64, 36]) torch.Size([64])\n"
          ]
        }
      ]
    },
    {
      "cell_type": "markdown",
      "source": [
        "## <font color=\"#0b486b\">Part 1: Using Word2Vect to transform texts to vectors </font>\n",
        "\n",
        "<div style=\"text-align: right\"><font color=\"red; font-weight:bold\">[Total marks for this part: 10 marks]<span></div>"
      ],
      "metadata": {
        "id": "frFf7-ehVvNM"
      }
    },
    {
      "cell_type": "code",
      "source": [
        "import gensim.downloader as api\n",
        "from gensim.models import Word2Vec\n",
        "from sklearn.preprocessing import MinMaxScaler\n",
        "from sklearn.metrics import accuracy_score\n",
        "import numpy as np"
      ],
      "metadata": {
        "id": "KZFrETlMVq7P"
      },
      "execution_count": 20,
      "outputs": []
    },
    {
      "cell_type": "markdown",
      "source": [
        "#### <font color=\"red\">**Question 1.1**</font>\n",
        "**Write code to download the pretrained model *glove-wiki-gigaword-100*. Note that this model transforms a word in its dictionary to a $100$ dimensional vector.**\n",
        "\n",
        "**Write code for the function *get_word_vector(word, model)* used to transform a word to a vector using the pretrained Word2Vect model *model*. Note that for a word not in the vocabulary of our *word2vect*, you need to return a vector $0$ with 100 dimensions.**\n",
        "\n",
        "<div style=\"text-align: right\"><font color=\"red\">[2 marks]</font></div>"
      ],
      "metadata": {
        "id": "4JH-f1BJY9bw"
      }
    },
    {
      "cell_type": "code",
      "source": [
        "word2vect = api.load(\"glove-wiki-gigaword-100\")"
      ],
      "metadata": {
        "colab": {
          "base_uri": "https://localhost:8080/"
        },
        "id": "b76lh_hZVyac",
        "outputId": "6b5c2ba7-39d4-4bb2-ee6a-0cf5f02171ca"
      },
      "execution_count": 21,
      "outputs": [
        {
          "output_type": "stream",
          "name": "stdout",
          "text": [
            "[==================================================] 100.0% 128.1/128.1MB downloaded\n"
          ]
        }
      ]
    },
    {
      "cell_type": "code",
      "source": [
        "def get_word_vector(word, model):\n",
        "    try:\n",
        "        # If word exists in the model\n",
        "        vector = model[word]\n",
        "    except KeyError:\n",
        "        # If word is not found\n",
        "        vector = np.zeros(100)\n",
        "    return vector"
      ],
      "metadata": {
        "id": "GpbibKfdZB-S"
      },
      "execution_count": 22,
      "outputs": []
    },
    {
      "cell_type": "markdown",
      "source": [
        "#### <font color=\"red\">**Question 1.2**</font>\n",
        "\n",
        "**Write the code for the function `get_sentence_vector(sentence, important_score=None, model= None)`. Note that this function will transform a sentence to a 100-dimensional vector using the pretrained model *model*. In addition, the list *important_score* which has the same length as the *sentence* specifies the important scores of the words in the sentence. In your code, you first need to apply *softmax* function over *important_score* to obtain the important weight *important_weight* which forms a probability over the words of the sentence. Furthermore, the final vector of the sentence will be weighted sum of the individual vectors for words and the weights in *important_weight*.**\n",
        "- $important\\_weight = softmax(important\\_score)$.\n",
        "- $final\\_vector= important\\_weight[1]\\times v[1] + important\\_weight[2]\\times v[2] + ...+ important\\_weight[T]\\times v[T]$ where $T$ is the length of the sentence and $v[i]$ is the vector representation of the $i-th$  word in this sentence.\n",
        "\n",
        "**Note that if `important_score=None` is set by default, your function should return the average of all representation vectors corresponding to set `important_score=[1,1,...,1]`.**\n",
        "\n",
        "<div style=\"text-align: right\"><font color=\"red\">[2 marks]</font></div>"
      ],
      "metadata": {
        "id": "8TjRdyTg2_dN"
      }
    },
    {
      "cell_type": "code",
      "source": [
        "import torch.nn.functional as F\n",
        "\n",
        "def get_sentence_vector(sentence, important_score=None, model=None):\n",
        "    # List to store word vectors\n",
        "    word_vectors = []\n",
        "\n",
        "    # Convert each word to its vector\n",
        "    for word in sentence:\n",
        "        word_vector = get_word_vector(word, model)\n",
        "        word_vectors.append(word_vector)\n",
        "\n",
        "    # If no importance score is given, assign equal importance to all words\n",
        "    if important_score is None:\n",
        "        important_score = [1] * len(sentence)\n",
        "\n",
        "    # Importance weights : Apply softmax to the importance scores\n",
        "    important_score_tensor = torch.tensor(important_score, dtype=torch.float32)\n",
        "    important_weight = F.softmax(important_score_tensor, dim=0).numpy()\n",
        "\n",
        "    # Final sentence vector (weighted sum)\n",
        "    feature_vector = np.zeros(len(word_vectors[0]))\n",
        "    for i, word_vector in enumerate(word_vectors):\n",
        "        feature_vector += important_weight[i] * word_vector\n",
        "\n",
        "    return feature_vector"
      ],
      "metadata": {
        "id": "MaPs4Hqa2_30"
      },
      "execution_count": 23,
      "outputs": []
    },
    {
      "cell_type": "markdown",
      "source": [
        "#### <font color=\"red\">**Question 1.3**</font>\n",
        "\n",
        "**Write code to transform questions in *dm.train_str_questions* and *dm.valid_str_questions* to feature vectors. Note that after running the following cells, you must have $X\\_train$ and $X\\_valid$ which are two NumPy arrays of the feature vectors and $y\\_train$ and $y\\_valid$ which are two arrays of numeric labels (Hint: *dm.train_numeral_labels* and *dm.valid_numeral_labels*). You can add more lines to the following cells if necessary. In addition, you should decide the *important_score* by yourself. For example, the 1st score is 1, the 2nd score is decayed by 0.9, the 3rd is decayed by 0.9, and so on.**\n",
        "\n",
        "<div style=\"text-align: right\"><font color=\"red\">[2 marks]</font></div>"
      ],
      "metadata": {
        "id": "Tu63GJ2c3IgZ"
      }
    },
    {
      "cell_type": "code",
      "source": [
        "# Generate decayed important scores\n",
        "def generate_important_scores(length, decay_factor=0.9):\n",
        "    return [decay_factor**i for i in range(length)]\n",
        "\n",
        "print(\"Transform training set to feature vectors...\")\n",
        "\n",
        "# Transform the training set to feature vectors\n",
        "X_train = []\n",
        "for sentence in dm.train_str_questions:\n",
        "    important_score = generate_important_scores(len(sentence.split()))\n",
        "    feature_vector = get_sentence_vector(sentence.split(), important_score, model=word2vect)\n",
        "    X_train.append(feature_vector)\n",
        "\n",
        "X_train = np.array(X_train)  # Convert the list to a NumPy array\n",
        "y_train = dm.train_numeral_labels\n",
        "\n",
        "X_train, y_train"
      ],
      "metadata": {
        "colab": {
          "base_uri": "https://localhost:8080/"
        },
        "id": "5SCsWIdZ3I4S",
        "outputId": "eb24d9e3-40e7-4722-c766-a605f86de8c4"
      },
      "execution_count": 25,
      "outputs": [
        {
          "output_type": "stream",
          "name": "stdout",
          "text": [
            "Transform training set to feature vectors...\n"
          ]
        },
        {
          "output_type": "execute_result",
          "data": {
            "text/plain": [
              "(array([[-0.10149347,  0.14734052,  0.02558974, ..., -0.56468209,\n",
              "          0.29230937, -0.09538566],\n",
              "        [-0.00578258, -0.20577958,  0.37155151, ..., -0.15482359,\n",
              "          0.07335243, -0.27972616],\n",
              "        [-0.01978893,  0.04777394,  0.57785895, ..., -0.25451599,\n",
              "          0.4834232 ,  0.23873835],\n",
              "        ...,\n",
              "        [-0.10033261,  0.12042958,  0.10027171, ..., -0.24754172,\n",
              "          0.52875093,  0.04862213],\n",
              "        [-0.20707574,  0.31459723,  0.62224312, ..., -0.42352058,\n",
              "          0.55000768,  0.33623251],\n",
              "        [ 0.00711577,  0.23945389,  0.44420795, ..., -0.35069416,\n",
              "          0.76635907,  0.35980663]]),\n",
              " array([2, 5, 2, ..., 2, 4, 2]))"
            ]
          },
          "metadata": {},
          "execution_count": 25
        }
      ]
    },
    {
      "cell_type": "code",
      "source": [
        "print(\"Transform validation set to feature vectors...\")\n",
        "\n",
        "# Transform the validation set to feature vectors\n",
        "X_valid = []\n",
        "for sentence in dm.valid_str_questions:\n",
        "    important_score = generate_important_scores(len(sentence.split()))\n",
        "    feature_vector = get_sentence_vector(sentence.split(), important_score, model=word2vect)\n",
        "    X_valid.append(feature_vector)\n",
        "\n",
        "X_valid = np.array(X_valid)  # Convert the list to a NumPy array\n",
        "y_valid = dm.valid_numeral_labels\n",
        "X_valid, y_valid\n"
      ],
      "metadata": {
        "colab": {
          "base_uri": "https://localhost:8080/"
        },
        "id": "2odznptZ3Nf_",
        "outputId": "b4d5e930-5830-4735-cd69-508083f4e24c"
      },
      "execution_count": 26,
      "outputs": [
        {
          "output_type": "stream",
          "name": "stdout",
          "text": [
            "Transform validation set to feature vectors...\n"
          ]
        },
        {
          "output_type": "execute_result",
          "data": {
            "text/plain": [
              "(array([[-0.20033461,  0.16225572,  0.58508045, ..., -0.32828976,\n",
              "          0.56074437,  0.3235791 ],\n",
              "        [-0.29355211,  0.61019636,  0.64672236, ..., -0.07370931,\n",
              "          0.40632859,  0.33246986],\n",
              "        [ 0.09954218,  0.06815912,  0.58519562, ..., -0.3612952 ,\n",
              "          0.43499531,  0.24109105],\n",
              "        ...,\n",
              "        [-0.07630714,  0.03985062,  0.55703665, ..., -0.22229978,\n",
              "          0.32741026,  0.24150387],\n",
              "        [-0.05438379,  0.13642335,  0.47364528, ..., -0.2888259 ,\n",
              "          0.4252318 ,  0.0636736 ],\n",
              "        [-0.18120081,  0.13700237,  0.57087938, ..., -0.48341996,\n",
              "          0.33204266,  0.30029799]]),\n",
              " array([4, 0, 2, 2, 3, 1, 3, 2, 3, 3, 2, 5, 2, 3, 3, 4, 5, 1, 2, 4, 1, 3,\n",
              "        3, 3, 5, 3, 3, 4, 3, 1, 2, 2, 3, 2, 3, 4, 2, 3, 4, 5, 2, 2, 1, 2,\n",
              "        4, 1, 2, 3, 3, 1, 2, 3, 1, 2, 2, 5, 3, 2, 1, 2, 1, 2, 4, 3, 5, 3,\n",
              "        3, 2, 1, 2, 3, 4, 4, 2, 4, 1, 1, 3, 1, 2, 4, 1, 1, 3, 4, 3, 3, 2,\n",
              "        5, 5, 4, 1, 1, 3, 3, 1, 3, 3, 5, 1, 5, 3, 2, 3, 2, 1, 4, 2, 4, 1,\n",
              "        3, 2, 4, 3, 4, 3, 1, 2, 5, 2, 3, 4, 3, 5, 2, 2, 1, 4, 2, 2, 1, 5,\n",
              "        4, 1, 1, 2, 4, 2, 5, 1, 3, 2, 4, 4, 4, 1, 3, 5, 4, 5, 5, 1, 3, 2,\n",
              "        2, 3, 3, 3, 4, 2, 3, 2, 2, 1, 5, 2, 2, 3, 2, 4, 5, 2, 5, 3, 5, 1,\n",
              "        5, 3, 3, 0, 5, 5, 3, 2, 1, 1, 2, 3, 5, 3, 2, 2, 2, 1, 1, 2, 4, 2]))"
            ]
          },
          "metadata": {},
          "execution_count": 26
        }
      ]
    },
    {
      "cell_type": "markdown",
      "source": [
        "#### <font color=\"red\">**Question 1.4**</font>\n",
        "\n",
        "**It is now to use *MinMaxScaler(feature_range=(-1,1))* in scikit-learn to scale both training and validation sets to the range $(-1,1)$.**\n",
        "\n",
        "<div style=\"text-align: right\"><font color=\"red\">[2 marks]</font></div>"
      ],
      "metadata": {
        "id": "gOp_gy3d3Reh"
      }
    },
    {
      "cell_type": "code",
      "source": [
        "#Insert your code\n",
        "\n",
        "# Combine training and validation data for fitting the scaler\n",
        "combined_data = np.vstack((X_train, X_valid))\n",
        "\n",
        "# Fit the scaler on the combined data\n",
        "scaler = MinMaxScaler(feature_range=(-1, 1))\n",
        "scaler.fit(combined_data)\n",
        "\n",
        "# Transform both training and validation data using the same scaler\n",
        "X_train = scaler.transform(X_train)\n",
        "X_valid = scaler.transform(X_valid)\n",
        "\n",
        "# Check the max and min values again\n",
        "print(X_train.max(), X_train.min(), X_valid.max(), X_valid.min())\n",
        "\n",
        "\n"
      ],
      "metadata": {
        "colab": {
          "base_uri": "https://localhost:8080/"
        },
        "id": "eT47Q13c3VJV",
        "outputId": "965223e6-88ec-404b-e5b8-2d98bac2a2f1"
      },
      "execution_count": 28,
      "outputs": [
        {
          "output_type": "stream",
          "name": "stdout",
          "text": [
            "1.0000000000000002 -1.0 1.0 -1.0\n"
          ]
        }
      ]
    },
    {
      "cell_type": "markdown",
      "source": [
        "#### <font color=\"red\">**Question 1.5**</font>\n",
        "**Train a Logistic Regression model on the training set and then evaluate on the validation set.** You can use any classification metrics in `sklearn` for evaluation.\n",
        "<div style=\"text-align: right\"><font color=\"red\">[2 marks]</font></div>"
      ],
      "metadata": {
        "id": "NcvKQyHO3ZJx"
      }
    },
    {
      "cell_type": "code",
      "source": [
        "from sklearn.linear_model import LogisticRegression\n",
        "#Insert your code\n",
        "model = LogisticRegression(random_state=42, max_iter=1000)\n",
        "\n",
        "model.fit(X_train, y_train)\n",
        "\n",
        "y_pred = model.predict(X_valid)"
      ],
      "metadata": {
        "id": "IQYE_rz-3b25"
      },
      "execution_count": 31,
      "outputs": []
    },
    {
      "cell_type": "code",
      "source": [
        "from sklearn import metrics\n",
        "#Insert your code\n",
        "accuracy = metrics.accuracy_score(y_valid, y_pred)\n",
        "precision = metrics.precision_score(y_valid, y_pred, average='weighted')\n",
        "recall = metrics.recall_score(y_valid, y_pred, average='weighted')\n",
        "f1 = metrics.f1_score(y_valid, y_pred, average='weighted')\n",
        "\n",
        "# Print\n",
        "print(\"Validation Accuracy:\", accuracy)\n",
        "print(\"Validation Precision:\", precision)\n",
        "print(\"Validation Recall:\", recall)\n",
        "print(\"Validation F1 Score:\", f1)"
      ],
      "metadata": {
        "id": "ucJWNHMO3gXF",
        "colab": {
          "base_uri": "https://localhost:8080/"
        },
        "outputId": "734ef11a-6280-4226-9b94-90e482d432de"
      },
      "execution_count": 32,
      "outputs": [
        {
          "output_type": "stream",
          "name": "stdout",
          "text": [
            "Validation Accuracy: 0.9040404040404041\n",
            "Validation Precision: 0.9045806898173245\n",
            "Validation Recall: 0.9040404040404041\n",
            "Validation F1 Score: 0.9030833394614032\n"
          ]
        }
      ]
    },
    {
      "cell_type": "markdown",
      "source": [
        "We now declare the `BaseTrainer` class, which will be used later to train the subsequent deep learning models for text data."
      ],
      "metadata": {
        "id": "NZs9Y0rl7gBH"
      }
    },
    {
      "cell_type": "code",
      "source": [
        "device = torch.device(\"cuda\" if torch.cuda.is_available() else \"cpu\")\n",
        "\n",
        "class BaseTrainer:\n",
        "    def __init__(self, model, criterion, optimizer, train_loader, val_loader):\n",
        "        self.model = model\n",
        "        self.criterion = criterion  #the loss function\n",
        "        self.optimizer = optimizer  #the optimizer\n",
        "        self.train_loader = train_loader  #the train loader\n",
        "        self.val_loader = val_loader  #the valid loader\n",
        "\n",
        "    #the function to train the model in many epochs\n",
        "    def fit(self, num_epochs):\n",
        "        self.num_batches = len(self.train_loader)\n",
        "\n",
        "        for epoch in range(num_epochs):\n",
        "            print(f'Epoch {epoch + 1}/{num_epochs}')\n",
        "            train_loss, train_accuracy = self.train_one_epoch()\n",
        "            val_loss, val_accuracy = self.validate_one_epoch()\n",
        "            print(\n",
        "                f'{self.num_batches}/{self.num_batches} - train_loss: {train_loss:.4f} - train_accuracy: {train_accuracy*100:.4f}% \\\n",
        "                - val_loss: {val_loss:.4f} - val_accuracy: {val_accuracy*100:.4f}%')\n",
        "\n",
        "    #train in one epoch, return the train_acc, train_loss\n",
        "    def train_one_epoch(self):\n",
        "        self.model.train()\n",
        "        running_loss, correct, total = 0.0, 0, 0\n",
        "        for i, data in enumerate(self.train_loader):\n",
        "            inputs, labels = data\n",
        "            inputs, labels = inputs.to(device), labels.to(device)\n",
        "            self.optimizer.zero_grad()\n",
        "            outputs = self.model(inputs)\n",
        "            loss = self.criterion(outputs, labels)\n",
        "            loss.backward()\n",
        "            self.optimizer.step()\n",
        "\n",
        "            running_loss += loss.item()\n",
        "            _, predicted = torch.max(outputs.data, 1)\n",
        "            total += labels.size(0)\n",
        "            correct += (predicted == labels).sum().item()\n",
        "        train_accuracy = correct / total\n",
        "        train_loss = running_loss / self.num_batches\n",
        "        return train_loss, train_accuracy\n",
        "\n",
        "    #evaluate on a loader and return the loss and accuracy\n",
        "    def evaluate(self, loader):\n",
        "        self.model.eval()\n",
        "        loss, correct, total = 0.0, 0, 0\n",
        "        with torch.no_grad():\n",
        "            for data in loader:\n",
        "                inputs, labels = data\n",
        "                inputs, labels = inputs.to(device), labels.to(device)\n",
        "                outputs = self.model(inputs)\n",
        "                loss = self.criterion(outputs, labels)\n",
        "                loss += loss.item()\n",
        "                _, predicted = torch.max(outputs.data, 1)\n",
        "                total += labels.size(0)\n",
        "                correct += (predicted == labels).sum().item()\n",
        "\n",
        "        accuracy = correct / total\n",
        "        loss = loss / len(self.val_loader)\n",
        "        return loss, accuracy\n",
        "\n",
        "    #return the val_acc, val_loss, be called at the end of each epoch\n",
        "    def validate_one_epoch(self):\n",
        "      val_loss, val_accuracy = self.evaluate(self.val_loader)\n",
        "      return val_loss, val_accuracy"
      ],
      "metadata": {
        "id": "yXlNQvGn7OEb"
      },
      "execution_count": 33,
      "outputs": []
    },
    {
      "cell_type": "markdown",
      "source": [
        "## <font color=\"#0b486b\">Part 2: Text CNN for sequence modeling and neural embedding </font>\n",
        "\n",
        "<div style=\"text-align: right\"><font color=\"red; font-weight:bold\">[Total marks for this part: 10 marks]<span></div>"
      ],
      "metadata": {
        "id": "3GWOQN_S7p4V"
      }
    },
    {
      "cell_type": "markdown",
      "source": [
        "**In what follows, you are required to complete the code for Text CNN for sentence classification. The paper of Text CNN can be found at this [link](https://www.aclweb.org/anthology/D14-1181.pdf). Here is the description of the Text CNN that you need to construct.**\n",
        "- There are three attributes (properties or instance variables): *embed_size, state_size, data_manager*.\n",
        "  - `embed_size`: the dimension of the vector space for which the words are embedded to using the embedding matrix.\n",
        "  - `state_size`: the number of filters used in *Conv1D* (reference [here](https://pytorch.org/docs/stable/generated/torch.nn.Conv1d.html)).\n",
        "  - `data_manager`: the data manager to store information of the dataset.\n",
        "- The detail of the computational process is as follows:\n",
        "  - Given input $x$, we embed $x$ using the embedding matrix to obtain an $3D$ tensor $[batch\\_size, seq\\_len, embed\\_size]$ as $e$.\n",
        "  - We feed $e$ to three *Conv1D* layers, each of which has $state\\_size$ filters, activation= $relu$, and $kernel\\_size= 3, 5, 7$ respectively to obtain $h1, h2, h3$. Note that each $h1, h2, h3$ is a 3D tensor with the shape $[batch\\_size, state\\_size, output\\_size]$. Moreover, you need to apply *Conv1D* to the $seq\\_len$ dimension.\n",
        "  - We then apply *GlobalMaxPool1D()* (reference [here](https://pytorch.org/docs/stable/generated/torch.nn.functional.max_pool1d.html#torch.nn.functional.max_pool1d)) over $h1, h2, h3$ to obtain 2D tensors stored in $h1, h2, h3$ again.\n",
        "  - We then concatenate three 2D tensors $h1, h2, h3$ to obtain $h$ with the shape $\\left[batch\\_size, 3\\times state\\_size\\right]$. Note that you need to specify the axis to concatenate.\n",
        "  - We finally build up one dense layer $\\left[3\\times state\\_size, num\\_classes\\right]$  on the top of $h$ for classification.\n",
        "  "
      ],
      "metadata": {
        "id": "QJub3Fwm7vC7"
      }
    },
    {
      "cell_type": "code",
      "source": [
        "import torch.nn as nn\n",
        "import torch.nn.functional as F\n",
        "\n",
        "#You can modify the code if you want but need to keep the skeleton\n",
        "class TextCNN(torch.nn.Module):\n",
        "    def __init__(self, embed_size= 128, state_size=16, data_manager=None):\n",
        "        super().__init__()\n",
        "        self.data_manager = data_manager\n",
        "        self.embed_size = embed_size\n",
        "        self.state_size = state_size\n",
        "        #declare the necessary layers here\n",
        "        self.embed = nn.Embedding(self.data_manager.vocab_size, self.embed_size)\n",
        "        self.conv1d_1 = nn.Conv1d(in_channels=embed_size, out_channels=state_size, kernel_size=3) # Insert your code here\n",
        "        self.conv1d_2 = nn.Conv1d(in_channels=embed_size, out_channels=state_size, kernel_size=5) # Insert your code here\n",
        "        self.conv1d_3 = nn.Conv1d(in_channels=embed_size, out_channels=state_size, kernel_size=7) # Insert your code here\n",
        "        self.fc = nn.Linear(state_size*3, self.data_manager.num_classes)\n",
        "\n",
        "    def forward(self, x):\n",
        "        e = self.embed(x)\n",
        "        #permute x before applying Conv1D\n",
        "        e= e.permute(0,2,1)\n",
        "\n",
        "        #applying Conv1D\n",
        "        h1 = F.relu(self.conv1d_1(e))\n",
        "        h2 = F.relu(self.conv1d_2(e))\n",
        "        h3 = F.relu(self.conv1d_3(e))\n",
        "\n",
        "        #apply GlobalMaxPool\n",
        "        h1 = F.max_pool1d(h1, kernel_size=h1.shape[2]).squeeze(2)\n",
        "        h2 = F.max_pool1d(h2, kernel_size=h2.shape[2]).squeeze(2)\n",
        "        h3 = F.max_pool1d(h3, kernel_size=h3.shape[2]).squeeze(2)\n",
        "\n",
        "        h = torch.cat([h1, h2, h3], dim=1)\n",
        "        h = self.fc(h)\n",
        "        return h"
      ],
      "metadata": {
        "id": "lEnG-BGJ239k"
      },
      "execution_count": 34,
      "outputs": []
    },
    {
      "cell_type": "markdown",
      "source": [
        "We declare `text_cnn` and train on several epochs (e.g., `50 epochs`).\n"
      ],
      "metadata": {
        "id": "n-PN6KmIFw6K"
      }
    },
    {
      "cell_type": "code",
      "source": [
        "text_cnn = TextCNN(data_manager=dm).to(device)\n",
        "criterion = nn.CrossEntropyLoss()\n",
        "optimizer = torch.optim.Adam(text_cnn.parameters(), lr=0.001)\n",
        "trainer = BaseTrainer(model=text_cnn, criterion=criterion, optimizer=optimizer, train_loader=dm.train_loader, val_loader=dm.valid_loader)\n",
        "trainer.fit(num_epochs=50)"
      ],
      "metadata": {
        "colab": {
          "base_uri": "https://localhost:8080/"
        },
        "id": "IrL5oM82BR3_",
        "outputId": "8b4e690f-8f46-449f-eef6-11bce9ce4ce6"
      },
      "execution_count": 35,
      "outputs": [
        {
          "output_type": "stream",
          "name": "stdout",
          "text": [
            "Epoch 1/50\n",
            "26/26 - train_loss: 1.6139 - train_accuracy: 36.8520%                 - val_loss: 0.5991 - val_accuracy: 71.7172%\n",
            "Epoch 2/50\n",
            "26/26 - train_loss: 0.8245 - train_accuracy: 80.3248%                 - val_loss: 0.3028 - val_accuracy: 80.3030%\n",
            "Epoch 3/50\n",
            "26/26 - train_loss: 0.4867 - train_accuracy: 89.7564%                 - val_loss: 0.1956 - val_accuracy: 90.4040%\n",
            "Epoch 4/50\n",
            "26/26 - train_loss: 0.2666 - train_accuracy: 94.4410%                 - val_loss: 0.1611 - val_accuracy: 90.9091%\n",
            "Epoch 5/50\n",
            "26/26 - train_loss: 0.1737 - train_accuracy: 97.0643%                 - val_loss: 0.1311 - val_accuracy: 92.9293%\n",
            "Epoch 6/50\n",
            "26/26 - train_loss: 0.1166 - train_accuracy: 98.8757%                 - val_loss: 0.1156 - val_accuracy: 93.4343%\n",
            "Epoch 7/50\n",
            "26/26 - train_loss: 0.0937 - train_accuracy: 99.5628%                 - val_loss: 0.0813 - val_accuracy: 93.9394%\n",
            "Epoch 8/50\n",
            "26/26 - train_loss: 0.0773 - train_accuracy: 98.5009%                 - val_loss: 0.0964 - val_accuracy: 94.9495%\n",
            "Epoch 9/50\n",
            "26/26 - train_loss: 0.0471 - train_accuracy: 99.8751%                 - val_loss: 0.0804 - val_accuracy: 93.9394%\n",
            "Epoch 10/50\n",
            "26/26 - train_loss: 0.0364 - train_accuracy: 100.0000%                 - val_loss: 0.0670 - val_accuracy: 93.9394%\n",
            "Epoch 11/50\n",
            "26/26 - train_loss: 0.0301 - train_accuracy: 100.0000%                 - val_loss: 0.0722 - val_accuracy: 94.4444%\n",
            "Epoch 12/50\n",
            "26/26 - train_loss: 0.0241 - train_accuracy: 100.0000%                 - val_loss: 0.0625 - val_accuracy: 94.9495%\n",
            "Epoch 13/50\n",
            "26/26 - train_loss: 0.0193 - train_accuracy: 100.0000%                 - val_loss: 0.0480 - val_accuracy: 94.9495%\n",
            "Epoch 14/50\n",
            "26/26 - train_loss: 0.0164 - train_accuracy: 100.0000%                 - val_loss: 0.0545 - val_accuracy: 95.4545%\n",
            "Epoch 15/50\n",
            "26/26 - train_loss: 0.0139 - train_accuracy: 100.0000%                 - val_loss: 0.0430 - val_accuracy: 95.4545%\n",
            "Epoch 16/50\n",
            "26/26 - train_loss: 0.0119 - train_accuracy: 100.0000%                 - val_loss: 0.0452 - val_accuracy: 95.9596%\n",
            "Epoch 17/50\n",
            "26/26 - train_loss: 0.0103 - train_accuracy: 100.0000%                 - val_loss: 0.0380 - val_accuracy: 95.4545%\n",
            "Epoch 18/50\n",
            "26/26 - train_loss: 0.0091 - train_accuracy: 100.0000%                 - val_loss: 0.0358 - val_accuracy: 95.4545%\n",
            "Epoch 19/50\n",
            "26/26 - train_loss: 0.0079 - train_accuracy: 100.0000%                 - val_loss: 0.0342 - val_accuracy: 95.9596%\n",
            "Epoch 20/50\n",
            "26/26 - train_loss: 0.0074 - train_accuracy: 100.0000%                 - val_loss: 0.0311 - val_accuracy: 95.9596%\n",
            "Epoch 21/50\n",
            "26/26 - train_loss: 0.0065 - train_accuracy: 100.0000%                 - val_loss: 0.0280 - val_accuracy: 95.9596%\n",
            "Epoch 22/50\n",
            "26/26 - train_loss: 0.0057 - train_accuracy: 100.0000%                 - val_loss: 0.0275 - val_accuracy: 95.9596%\n",
            "Epoch 23/50\n",
            "26/26 - train_loss: 0.0055 - train_accuracy: 100.0000%                 - val_loss: 0.0254 - val_accuracy: 95.9596%\n",
            "Epoch 24/50\n",
            "26/26 - train_loss: 0.0052 - train_accuracy: 100.0000%                 - val_loss: 0.0247 - val_accuracy: 95.9596%\n",
            "Epoch 25/50\n",
            "26/26 - train_loss: 0.0045 - train_accuracy: 100.0000%                 - val_loss: 0.0191 - val_accuracy: 95.9596%\n",
            "Epoch 26/50\n",
            "26/26 - train_loss: 0.0042 - train_accuracy: 100.0000%                 - val_loss: 0.0179 - val_accuracy: 95.9596%\n",
            "Epoch 27/50\n",
            "26/26 - train_loss: 0.0038 - train_accuracy: 100.0000%                 - val_loss: 0.0179 - val_accuracy: 95.9596%\n",
            "Epoch 28/50\n",
            "26/26 - train_loss: 0.0033 - train_accuracy: 100.0000%                 - val_loss: 0.0174 - val_accuracy: 95.9596%\n",
            "Epoch 29/50\n",
            "26/26 - train_loss: 0.0031 - train_accuracy: 100.0000%                 - val_loss: 0.0169 - val_accuracy: 95.9596%\n",
            "Epoch 30/50\n",
            "26/26 - train_loss: 0.0029 - train_accuracy: 100.0000%                 - val_loss: 0.0157 - val_accuracy: 96.4646%\n",
            "Epoch 31/50\n",
            "26/26 - train_loss: 0.0026 - train_accuracy: 100.0000%                 - val_loss: 0.0154 - val_accuracy: 96.4646%\n",
            "Epoch 32/50\n",
            "26/26 - train_loss: 0.0025 - train_accuracy: 100.0000%                 - val_loss: 0.0142 - val_accuracy: 96.4646%\n",
            "Epoch 33/50\n",
            "26/26 - train_loss: 0.0023 - train_accuracy: 100.0000%                 - val_loss: 0.0134 - val_accuracy: 96.4646%\n",
            "Epoch 34/50\n",
            "26/26 - train_loss: 0.0022 - train_accuracy: 100.0000%                 - val_loss: 0.0124 - val_accuracy: 95.9596%\n",
            "Epoch 35/50\n",
            "26/26 - train_loss: 0.0020 - train_accuracy: 100.0000%                 - val_loss: 0.0115 - val_accuracy: 96.4646%\n",
            "Epoch 36/50\n",
            "26/26 - train_loss: 0.0019 - train_accuracy: 100.0000%                 - val_loss: 0.0112 - val_accuracy: 96.4646%\n",
            "Epoch 37/50\n",
            "26/26 - train_loss: 0.0018 - train_accuracy: 100.0000%                 - val_loss: 0.0107 - val_accuracy: 96.4646%\n",
            "Epoch 38/50\n",
            "26/26 - train_loss: 0.0017 - train_accuracy: 100.0000%                 - val_loss: 0.0102 - val_accuracy: 96.4646%\n",
            "Epoch 39/50\n",
            "26/26 - train_loss: 0.0016 - train_accuracy: 100.0000%                 - val_loss: 0.0100 - val_accuracy: 96.4646%\n",
            "Epoch 40/50\n",
            "26/26 - train_loss: 0.0015 - train_accuracy: 100.0000%                 - val_loss: 0.0095 - val_accuracy: 96.4646%\n",
            "Epoch 41/50\n",
            "26/26 - train_loss: 0.0015 - train_accuracy: 100.0000%                 - val_loss: 0.0090 - val_accuracy: 96.4646%\n",
            "Epoch 42/50\n",
            "26/26 - train_loss: 0.0014 - train_accuracy: 100.0000%                 - val_loss: 0.0086 - val_accuracy: 96.4646%\n",
            "Epoch 43/50\n",
            "26/26 - train_loss: 0.0013 - train_accuracy: 100.0000%                 - val_loss: 0.0084 - val_accuracy: 96.4646%\n",
            "Epoch 44/50\n",
            "26/26 - train_loss: 0.0014 - train_accuracy: 100.0000%                 - val_loss: 0.0081 - val_accuracy: 96.4646%\n",
            "Epoch 45/50\n",
            "26/26 - train_loss: 0.0012 - train_accuracy: 100.0000%                 - val_loss: 0.0076 - val_accuracy: 95.9596%\n",
            "Epoch 46/50\n",
            "26/26 - train_loss: 0.0011 - train_accuracy: 100.0000%                 - val_loss: 0.0077 - val_accuracy: 96.4646%\n",
            "Epoch 47/50\n",
            "26/26 - train_loss: 0.0011 - train_accuracy: 100.0000%                 - val_loss: 0.0073 - val_accuracy: 96.4646%\n",
            "Epoch 48/50\n",
            "26/26 - train_loss: 0.0012 - train_accuracy: 100.0000%                 - val_loss: 0.0074 - val_accuracy: 96.4646%\n",
            "Epoch 49/50\n",
            "26/26 - train_loss: 0.0010 - train_accuracy: 100.0000%                 - val_loss: 0.0079 - val_accuracy: 96.4646%\n",
            "Epoch 50/50\n",
            "26/26 - train_loss: 0.0009 - train_accuracy: 100.0000%                 - val_loss: 0.0064 - val_accuracy: 96.4646%\n"
          ]
        }
      ]
    },
    {
      "cell_type": "markdown",
      "source": [
        "We evaluate the trained model on the testing set."
      ],
      "metadata": {
        "id": "yrjO5iT6F_Li"
      }
    },
    {
      "cell_type": "code",
      "source": [
        "test_loss, test_acc = trainer.evaluate(dm.test_loader)\n",
        "print(f'test_loss: {test_loss:.4f} - test_accuracy: {test_acc*100:.4f}%')"
      ],
      "metadata": {
        "colab": {
          "base_uri": "https://localhost:8080/"
        },
        "id": "CnHiWCl7BtJC",
        "outputId": "53b89e40-f614-4dbe-a94e-8777fc003d11"
      },
      "execution_count": 36,
      "outputs": [
        {
          "output_type": "stream",
          "name": "stdout",
          "text": [
            "test_loss: 0.2677 - test_accuracy: 95.5224%\n"
          ]
        }
      ]
    }
  ]
}